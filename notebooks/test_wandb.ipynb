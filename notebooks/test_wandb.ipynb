{
 "cells": [
  {
   "cell_type": "code",
   "execution_count": 1,
   "metadata": {},
   "outputs": [],
   "source": [
    "import wandb\n",
    "import os\n",
    "from PIL import Image\n",
    "import numpy as np\n",
    "import matplotlib.pyplot as plt\n",
    "from tqdm import tqdm"
   ]
  },
  {
   "cell_type": "code",
   "execution_count": 2,
   "metadata": {},
   "outputs": [],
   "source": [
    "input_dir = \"/home/david/ml-projects/blood-vessel-segmentation/other/\"\n",
    "train_dir = input_dir + \"data/train/\"\n",
    "imgs_dir = f\"{train_dir}kidney_1_dense/images/\"\n",
    "msks_dir = f\"{train_dir}kidney_1_dense/labels/\"\n",
    "# preds_dir = input_dir + \"kidney_1_dense_preds/\"\n",
    "# preds_dir = input_dir + \"preds_max_35000/\"\n",
    "preds_dir = input_dir + \"preds_clipping/\"\n",
    "slices_ids = sorted(os.listdir(imgs_dir))"
   ]
  },
  {
   "cell_type": "code",
   "execution_count": 3,
   "metadata": {},
   "outputs": [
    {
     "name": "stderr",
     "output_type": "stream",
     "text": [
      "Failed to detect the name of this notebook, you can set it manually with the WANDB_NOTEBOOK_NAME environment variable to enable code saving.\n",
      "\u001b[34m\u001b[1mwandb\u001b[0m: Currently logged in as: \u001b[33mdavid\u001b[0m. Use \u001b[1m`wandb login --relogin`\u001b[0m to force relogin\n"
     ]
    },
    {
     "data": {
      "text/html": [
       "Tracking run with wandb version 0.16.1"
      ],
      "text/plain": [
       "<IPython.core.display.HTML object>"
      ]
     },
     "metadata": {},
     "output_type": "display_data"
    },
    {
     "data": {
      "text/html": [
       "Run data is saved locally in <code>/home/david/ml-projects/blood-vessel-segmentation/wandb/run-20240108_122126-1h7gyg95</code>"
      ],
      "text/plain": [
       "<IPython.core.display.HTML object>"
      ]
     },
     "metadata": {},
     "output_type": "display_data"
    },
    {
     "data": {
      "text/html": [
       "Syncing run <strong><a href='http://localhost:8080/david/blood-vessel-segmentation/runs/1h7gyg95' target=\"_blank\">kidney_1_dense_preds_clipping</a></strong> to <a href='http://localhost:8080/david/blood-vessel-segmentation' target=\"_blank\">Weights & Biases</a> (<a href='https://wandb.me/run' target=\"_blank\">docs</a>)<br/>"
      ],
      "text/plain": [
       "<IPython.core.display.HTML object>"
      ]
     },
     "metadata": {},
     "output_type": "display_data"
    },
    {
     "data": {
      "text/html": [
       " View project at <a href='http://localhost:8080/david/blood-vessel-segmentation' target=\"_blank\">http://localhost:8080/david/blood-vessel-segmentation</a>"
      ],
      "text/plain": [
       "<IPython.core.display.HTML object>"
      ]
     },
     "metadata": {},
     "output_type": "display_data"
    },
    {
     "data": {
      "text/html": [
       " View run at <a href='http://localhost:8080/david/blood-vessel-segmentation/runs/1h7gyg95' target=\"_blank\">http://localhost:8080/david/blood-vessel-segmentation/runs/1h7gyg95</a>"
      ],
      "text/plain": [
       "<IPython.core.display.HTML object>"
      ]
     },
     "metadata": {},
     "output_type": "display_data"
    }
   ],
   "source": [
    "run = wandb.init(project=\"blood-vessel-segmentation\", name=\"kidney_1_dense_preds_clipping\")"
   ]
  },
  {
   "cell_type": "code",
   "execution_count": 4,
   "metadata": {},
   "outputs": [
    {
     "name": "stderr",
     "output_type": "stream",
     "text": [
      "100%|██████████| 2279/2279 [17:35<00:00,  2.16it/s]\n"
     ]
    }
   ],
   "source": [
    "class_labels = {0: \"background\", 1: \"vessel\"}\n",
    "\n",
    "for idx in tqdm(range(len(slices_ids))):\n",
    "    img = Image.open(imgs_dir + slices_ids[idx])\n",
    "    msk = np.array(Image.open(msks_dir + slices_ids[idx])) // 255\n",
    "    prd = np.array(Image.open(preds_dir + slices_ids[idx]), dtype=np.float32)\n",
    "    prd /= prd.max()\n",
    "    prd = np.where(prd >= 0.5, 1, 0).astype(np.uint8)\n",
    "\n",
    "    wandb_img = wandb.Image(\n",
    "        img,\n",
    "        masks={\n",
    "            \"gt\": {\"mask_data\": msk, \"class_labels\": class_labels},\n",
    "            \"pred\": {\"mask_data\": prd, \"class_labels\": class_labels}\n",
    "        },\n",
    "        caption=f\"Slice {idx}\",\n",
    "    )\n",
    "\n",
    "    wandb.log({\"kidney_1_dense\": wandb_img, \"slide\": idx})"
   ]
  },
  {
   "cell_type": "code",
   "execution_count": 5,
   "metadata": {},
   "outputs": [
    {
     "name": "stderr",
     "output_type": "stream",
     "text": [
      "wandb: WARNING Source type is set to 'repo' but some required information is missing from the environment. A job will not be created from this run. See https://docs.wandb.ai/guides/launch/create-job\n"
     ]
    },
    {
     "data": {
      "text/html": [
       "<style>\n",
       "    table.wandb td:nth-child(1) { padding: 0 10px; text-align: left ; width: auto;} td:nth-child(2) {text-align: left ; width: 100%}\n",
       "    .wandb-row { display: flex; flex-direction: row; flex-wrap: wrap; justify-content: flex-start; width: 100% }\n",
       "    .wandb-col { display: flex; flex-direction: column; flex-basis: 100%; flex: 1; padding: 10px; }\n",
       "    </style>\n",
       "<div class=\"wandb-row\"><div class=\"wandb-col\"><h3>Run history:</h3><br/><table class=\"wandb\"><tr><td>slide</td><td>▁▁▁▁▂▂▂▂▂▃▃▃▃▃▃▄▄▄▄▄▅▅▅▅▅▅▆▆▆▆▆▇▇▇▇▇▇███</td></tr></table><br/></div><div class=\"wandb-col\"><h3>Run summary:</h3><br/><table class=\"wandb\"><tr><td>slide</td><td>2278</td></tr></table><br/></div></div>"
      ],
      "text/plain": [
       "<IPython.core.display.HTML object>"
      ]
     },
     "metadata": {},
     "output_type": "display_data"
    },
    {
     "data": {
      "text/html": [
       " View run <strong style=\"color:#cdcd00\">kidney_1_dense_preds_clipping</strong> at: <a href='http://localhost:8080/david/blood-vessel-segmentation/runs/1h7gyg95' target=\"_blank\">http://localhost:8080/david/blood-vessel-segmentation/runs/1h7gyg95</a><br/>Synced 7 W&B file(s), 6837 media file(s), 0 artifact file(s) and 0 other file(s)"
      ],
      "text/plain": [
       "<IPython.core.display.HTML object>"
      ]
     },
     "metadata": {},
     "output_type": "display_data"
    },
    {
     "data": {
      "text/html": [
       "Find logs at: <code>./wandb/run-20240108_122126-1h7gyg95/logs</code>"
      ],
      "text/plain": [
       "<IPython.core.display.HTML object>"
      ]
     },
     "metadata": {},
     "output_type": "display_data"
    }
   ],
   "source": [
    "wandb.finish()"
   ]
  },
  {
   "cell_type": "code",
   "execution_count": 6,
   "metadata": {},
   "outputs": [
    {
     "data": {
      "text/html": [
       "Tracking run with wandb version 0.16.1"
      ],
      "text/plain": [
       "<IPython.core.display.HTML object>"
      ]
     },
     "metadata": {},
     "output_type": "display_data"
    },
    {
     "data": {
      "text/html": [
       "Run data is saved locally in <code>/home/david/ml-projects/blood-vessel-segmentation/wandb/run-20240108_123917-fbjntxsd</code>"
      ],
      "text/plain": [
       "<IPython.core.display.HTML object>"
      ]
     },
     "metadata": {},
     "output_type": "display_data"
    },
    {
     "data": {
      "text/html": [
       "Syncing run <strong><a href='http://localhost:8080/david/blood-vessel-segmentation/runs/fbjntxsd' target=\"_blank\">kidney_1_dense_preds_max_35000</a></strong> to <a href='http://localhost:8080/david/blood-vessel-segmentation' target=\"_blank\">Weights & Biases</a> (<a href='https://wandb.me/run' target=\"_blank\">docs</a>)<br/>"
      ],
      "text/plain": [
       "<IPython.core.display.HTML object>"
      ]
     },
     "metadata": {},
     "output_type": "display_data"
    },
    {
     "data": {
      "text/html": [
       " View project at <a href='http://localhost:8080/david/blood-vessel-segmentation' target=\"_blank\">http://localhost:8080/david/blood-vessel-segmentation</a>"
      ],
      "text/plain": [
       "<IPython.core.display.HTML object>"
      ]
     },
     "metadata": {},
     "output_type": "display_data"
    },
    {
     "data": {
      "text/html": [
       " View run at <a href='http://localhost:8080/david/blood-vessel-segmentation/runs/fbjntxsd' target=\"_blank\">http://localhost:8080/david/blood-vessel-segmentation/runs/fbjntxsd</a>"
      ],
      "text/plain": [
       "<IPython.core.display.HTML object>"
      ]
     },
     "metadata": {},
     "output_type": "display_data"
    },
    {
     "name": "stderr",
     "output_type": "stream",
     "text": [
      "100%|██████████| 2279/2279 [20:52<00:00,  1.82it/s] \n",
      "wandb: WARNING Source type is set to 'repo' but some required information is missing from the environment. A job will not be created from this run. See https://docs.wandb.ai/guides/launch/create-job\n"
     ]
    },
    {
     "data": {
      "text/html": [
       "<style>\n",
       "    table.wandb td:nth-child(1) { padding: 0 10px; text-align: left ; width: auto;} td:nth-child(2) {text-align: left ; width: 100%}\n",
       "    .wandb-row { display: flex; flex-direction: row; flex-wrap: wrap; justify-content: flex-start; width: 100% }\n",
       "    .wandb-col { display: flex; flex-direction: column; flex-basis: 100%; flex: 1; padding: 10px; }\n",
       "    </style>\n",
       "<div class=\"wandb-row\"><div class=\"wandb-col\"><h3>Run history:</h3><br/><table class=\"wandb\"><tr><td>slide</td><td>▁▁▁▁▂▂▂▂▂▃▃▃▃▃▃▄▄▄▄▄▅▅▅▅▅▅▆▆▆▆▆▇▇▇▇▇▇███</td></tr></table><br/></div><div class=\"wandb-col\"><h3>Run summary:</h3><br/><table class=\"wandb\"><tr><td>slide</td><td>2278</td></tr></table><br/></div></div>"
      ],
      "text/plain": [
       "<IPython.core.display.HTML object>"
      ]
     },
     "metadata": {},
     "output_type": "display_data"
    },
    {
     "data": {
      "text/html": [
       " View run <strong style=\"color:#cdcd00\">kidney_1_dense_preds_max_35000</strong> at: <a href='http://localhost:8080/david/blood-vessel-segmentation/runs/fbjntxsd' target=\"_blank\">http://localhost:8080/david/blood-vessel-segmentation/runs/fbjntxsd</a><br/>Synced 7 W&B file(s), 6837 media file(s), 0 artifact file(s) and 0 other file(s)"
      ],
      "text/plain": [
       "<IPython.core.display.HTML object>"
      ]
     },
     "metadata": {},
     "output_type": "display_data"
    },
    {
     "data": {
      "text/html": [
       "Find logs at: <code>./wandb/run-20240108_123917-fbjntxsd/logs</code>"
      ],
      "text/plain": [
       "<IPython.core.display.HTML object>"
      ]
     },
     "metadata": {},
     "output_type": "display_data"
    }
   ],
   "source": [
    "run = wandb.init(project=\"blood-vessel-segmentation\", name=\"kidney_1_dense_preds_max_35000\")\n",
    "\n",
    "preds_dir = input_dir + \"preds_max_35000/\"\n",
    "\n",
    "class_labels = {0: \"background\", 1: \"vessel\"}\n",
    "\n",
    "for idx in tqdm(range(len(slices_ids))):\n",
    "    img = Image.open(imgs_dir + slices_ids[idx])\n",
    "    msk = np.array(Image.open(msks_dir + slices_ids[idx])) // 255\n",
    "    prd = np.array(Image.open(preds_dir + slices_ids[idx]), dtype=np.float32)\n",
    "    prd /= prd.max()\n",
    "    prd = np.where(prd >= 0.5, 1, 0).astype(np.uint8)\n",
    "\n",
    "    wandb_img = wandb.Image(\n",
    "        img,\n",
    "        masks={\n",
    "            \"gt\": {\"mask_data\": msk, \"class_labels\": class_labels},\n",
    "            \"pred\": {\"mask_data\": prd, \"class_labels\": class_labels}\n",
    "        },\n",
    "        caption=f\"Slice {idx}\",\n",
    "    )\n",
    "\n",
    "    wandb.log({\"kidney_1_dense\": wandb_img, \"slide\": idx})\n",
    "wandb.finish()"
   ]
  }
 ],
 "metadata": {
  "kernelspec": {
   "display_name": "kaggle",
   "language": "python",
   "name": "python3"
  },
  "language_info": {
   "codemirror_mode": {
    "name": "ipython",
    "version": 3
   },
   "file_extension": ".py",
   "mimetype": "text/x-python",
   "name": "python",
   "nbconvert_exporter": "python",
   "pygments_lexer": "ipython3",
   "version": "3.10.13"
  }
 },
 "nbformat": 4,
 "nbformat_minor": 2
}
