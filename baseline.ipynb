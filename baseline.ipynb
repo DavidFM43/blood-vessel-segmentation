{
 "cells": [
  {
   "cell_type": "markdown",
   "metadata": {},
   "source": [
    "# Baseline"
   ]
  },
  {
   "cell_type": "code",
   "execution_count": 1,
   "metadata": {},
   "outputs": [
    {
     "name": "stdout",
     "output_type": "stream",
     "text": [
      "cuda\n"
     ]
    }
   ],
   "source": [
    "import torch\n",
    "from PIL import Image\n",
    "import torchvision.transforms as T\n",
    "from torch import nn\n",
    "import numpy as np\n",
    "import random\n",
    "import os\n",
    "import matplotlib.pyplot as plt\n",
    "\n",
    "device = \"cuda\" if torch.cuda.is_available() else \"cpu\"\n",
    "input_dir = \"/kaggle/input/blood-vessel-segmentation/\"\n",
    "train_dir = input_dir + \"train\"\n",
    "\n",
    "\n",
    "seed = 42\n",
    "np.random.seed(seed)\n",
    "random.seed(seed)\n",
    "torch.manual_seed(seed)\n",
    "torch.cuda.manual_seed(seed)\n",
    "torch.backends.cudnn.deterministic = True\n",
    "torch.backends.cudnn.benchmark = False\n",
    "os.environ['PYTHONHASHSEED'] = str(seed)\n",
    "\n",
    "\n",
    "print(device)"
   ]
  },
  {
   "cell_type": "markdown",
   "metadata": {},
   "source": [
    "## Load data"
   ]
  },
  {
   "cell_type": "markdown",
   "metadata": {},
   "source": [
    "**Datasets**\n",
    "\n",
    "- kidney_1_dense\t\n",
    "    - images\n",
    "    - labels\n",
    "- kidney_1_voi  \n",
    "    - images\n",
    "    - labels\n",
    "- kidney_2\t\n",
    "    - images\n",
    "    - labels\n",
    "- kidney_3_dense\t\n",
    "    - labels\n",
    "- kidney_3_sparse\n",
    "    - images\n",
    "    - labels"
   ]
  },
  {
   "cell_type": "markdown",
   "metadata": {},
   "source": [
    "### ¿Do I use one dataset or all of them? ¿How do I merge all the datasets?\n",
    "\n",
    "I think i can merge the datasets by just merging the images and labels paths. But for now I will just use the `kidney_1_dense` dataset."
   ]
  },
  {
   "cell_type": "markdown",
   "metadata": {},
   "source": [
    "### Dataset"
   ]
  },
  {
   "cell_type": "code",
   "execution_count": 2,
   "metadata": {},
   "outputs": [],
   "source": [
    "class KidneyDataset(torch.utils.data.Dataset):\n",
    "    def __init__(self, img_paths, msk_paths, transform=None, target_transform=None):\n",
    "        self.img_paths  = img_paths\n",
    "        self.msk_paths  = msk_paths\n",
    "        self.transform = transform\n",
    "        self.target_transform = target_transform\n",
    "        assert len(self.img_paths) == len(self.msk_paths)\n",
    "        \n",
    "    def __len__(self):\n",
    "        return len(self.img_paths)\n",
    "    \n",
    "    def __getitem__(self, idx):\n",
    "        img_path = self.img_paths[idx]\n",
    "        msk_path = self.msk_paths[idx]\n",
    "\n",
    "        img = Image.open(img_path)\n",
    "        msk = Image.open(msk_path)\n",
    "\n",
    "        raw_img = T.ToTensor()(img)\n",
    "        if self.transform is not None:\n",
    "            img = self.transform(img)\n",
    "        if self.target_transform is not None:\n",
    "            msk = self.target_transform(msk)\n",
    "\n",
    "        return raw_img, img, msk"
   ]
  },
  {
   "cell_type": "code",
   "execution_count": 3,
   "metadata": {},
   "outputs": [],
   "source": [
    "k1d_path = \"kidney_1_dense\"\n",
    "\n",
    "folder_path = os.path.join(train_dir, k1d_path)\n",
    "k1d_imgs_paths = sorted(os.path.join(folder_path, \"images\", file_name) for file_name in os.listdir(os.path.join(folder_path, \"images\")))\n",
    "k1d_msks_paths = sorted(os.path.join(folder_path, \"labels\", file_name) for file_name in os.listdir(os.path.join(folder_path, \"images\")))\n",
    "\n",
    "transform = T.Compose([\n",
    "    T.ToTensor(),  \n",
    "    T.ConvertImageDtype(torch.float32)\n",
    "])\n",
    "\n",
    "target_transform = T.PILToTensor()\n",
    "\n",
    "k1d_ds = KidneyDataset(k1d_imgs_paths, k1d_msks_paths, transform=transform, target_transform=target_transform)"
   ]
  },
  {
   "cell_type": "code",
   "execution_count": 4,
   "metadata": {},
   "outputs": [
    {
     "name": "stdout",
     "output_type": "stream",
     "text": [
      "/kaggle/input/blood-vessel-segmentation/train/kidney_1_dense/labels/0000.tif /kaggle/input/blood-vessel-segmentation/train/kidney_1_dense/labels/2278.tif\n",
      "/kaggle/input/blood-vessel-segmentation/train/kidney_1_dense/images/0000.tif /kaggle/input/blood-vessel-segmentation/train/kidney_1_dense/images/2278.tif\n"
     ]
    }
   ],
   "source": [
    "print(k1d_msks_paths[0], k1d_msks_paths[-1])\n",
    "print(k1d_imgs_paths[0], k1d_imgs_paths[-1])"
   ]
  },
  {
   "cell_type": "code",
   "execution_count": 5,
   "metadata": {},
   "outputs": [
    {
     "name": "stdout",
     "output_type": "stream",
     "text": [
      "tensor([[[22229, 21842, 22422,  ..., 20789, 20733, 20711],\n",
      "         [22458, 22184, 22584,  ..., 21060, 20893, 20920],\n",
      "         [22308, 22078, 22214,  ..., 21242, 20942, 20640],\n",
      "         ...,\n",
      "         [21848, 21609, 22175,  ..., 21029, 20890, 21145],\n",
      "         [21573, 21569, 22062,  ..., 20899, 20983, 20793],\n",
      "         [21617, 21943, 22238,  ..., 21113, 20947, 20557]]], dtype=torch.int16)\n",
      "tensor([[[0.6784, 0.6666, 0.6843,  ..., 0.6344, 0.6327, 0.6321],\n",
      "         [0.6854, 0.6770, 0.6892,  ..., 0.6427, 0.6376, 0.6384],\n",
      "         [0.6808, 0.6738, 0.6779,  ..., 0.6483, 0.6391, 0.6299],\n",
      "         ...,\n",
      "         [0.6668, 0.6595, 0.6767,  ..., 0.6418, 0.6375, 0.6453],\n",
      "         [0.6584, 0.6583, 0.6733,  ..., 0.6378, 0.6404, 0.6346],\n",
      "         [0.6597, 0.6697, 0.6787,  ..., 0.6443, 0.6393, 0.6274]]])\n",
      "tensor(-0.8819) tensor(0.9729)\n",
      "tensor([[[0, 0, 0,  ..., 0, 0, 0],\n",
      "         [0, 0, 0,  ..., 0, 0, 0],\n",
      "         [0, 0, 0,  ..., 0, 0, 0],\n",
      "         ...,\n",
      "         [0, 0, 0,  ..., 0, 0, 0],\n",
      "         [0, 0, 0,  ..., 0, 0, 0],\n",
      "         [0, 0, 0,  ..., 0, 0, 0]]], dtype=torch.uint8)\n",
      "torch.Size([1, 1303, 912])\n",
      "torch.Size([1, 1303, 912])\n"
     ]
    }
   ],
   "source": [
    "idx = 0\n",
    "x_raw, x, y = k1d_ds[idx]\n",
    "print(x_raw)\n",
    "print(x)\n",
    "print(x.min(), x.max())\n",
    "print(y)\n",
    "print(x.shape)\n",
    "print(y.shape)"
   ]
  },
  {
   "cell_type": "code",
   "execution_count": 12,
   "metadata": {},
   "outputs": [
    {
     "data": {
      "image/png": "[encoded data removed]",
      "text/plain": [
       "<Figure size 1000x500 with 2 Axes>"
      ]
     },
     "metadata": {},
     "output_type": "display_data"
    }
   ],
   "source": [
    "fig, axs = plt.subplots(1, 2, figsize=(10, 5))\n",
    "\n",
    "axs[0].hist(x_raw.view(-1).numpy(), 50) \n",
    "axs[0].set_title(\"X_raw\")\n",
    "axs[0].set_xlabel('Value')\n",
    "axs[0].set_ylabel('Frequency')\n",
    "\n",
    "axs[1].hist(x.view(-1).numpy(), 50)\n",
    "axs[1].set_title(\"X\")\n",
    "axs[1].set_xlabel('Value')\n",
    "axs[1].set_ylabel('Frequency')\n",
    "\n",
    "\n",
    "plt.show()\n",
    "\n",
    "idx += 1\n",
    "x_raw, x, y = k1d_ds[idx]"
   ]
  },
  {
   "cell_type": "markdown",
   "metadata": {},
   "source": [
    "## Define model"
   ]
  },
  {
   "cell_type": "code",
   "execution_count": null,
   "metadata": {},
   "outputs": [],
   "source": [
    "class SegmentationModel(nn.Module):\n",
    "    def __init__(self, in_channels, num_classes):\n",
    "        super(SegmentationModel, self).__init__()\n",
    "\n",
    "        # Define the encoder - a series of convolutional layers\n",
    "        self.encoder = nn.Sequential(\n",
    "            nn.Conv2d(in_channels, 64, kernel_size=3, padding=1),\n",
    "            nn.ReLU(),\n",
    "            nn.Conv2d(64, 64, kernel_size=3, padding=1),\n",
    "            nn.ReLU(),\n",
    "            nn.MaxPool2d(kernel_size=2, stride=2)\n",
    "        )\n",
    "\n",
    "        # Define the decoder - a series of transposed convolutional layers\n",
    "        self.decoder = nn.Sequential(\n",
    "            nn.ConvTranspose2d(64, 64, kernel_size=2, stride=2),\n",
    "            nn.ReLU(),\n",
    "            nn.Conv2d(64, num_classes, kernel_size=3, padding=1)\n",
    "        )\n",
    "\n",
    "    def forward(self, x):\n",
    "        x = self.encoder(x)\n",
    "        x = self.decoder(x)\n",
    "        return x\n",
    "\n",
    "# Initialize the model with the desired input channels and number of classes\n",
    "model = SegmentationModel(in_channels=1, num_classes=1)\n",
    "\n",
    "# Use the model for a batch of input images\n",
    "input_batch = torch.rand(1, 1, 256, 256)\n",
    "output = model(input_batch)"
   ]
  },
  {
   "cell_type": "markdown",
   "metadata": {},
   "source": [
    "## Define evaluation metric"
   ]
  },
  {
   "cell_type": "code",
   "execution_count": null,
   "metadata": {},
   "outputs": [],
   "source": [
    "class IouMetric:\n",
    "    def __init__(self, num_classes: int, int2str: dict, ignore_index: int = 255, prefix=\"train\"):\n",
    "        \"\"\"\n",
    "        Args:\n",
    "            num_classes: number of classes\n",
    "            int2str: dictionary mapping class index to class name\n",
    "            ignore_index: index to ignore in the metric calculations\n",
    "            prefix: prefix to use for logging\n",
    "        \"\"\"\n",
    "        self.area_intersect = torch.zeros(num_classes)\n",
    "        self.area_label = torch.zeros(num_classes)\n",
    "        self.area_pred = torch.zeros(num_classes)\n",
    "        self.num_classes = num_classes\n",
    "        self.int2str = int2str\n",
    "        self.ignore_index = ignore_index\n",
    "        self.prefix = prefix\n",
    "\n",
    "    def process(self, preds, labels):\n",
    "        mask = labels != self.ignore_index\n",
    "        preds = preds[mask]\n",
    "        labels = labels[mask]\n",
    "\n",
    "        # compute area of intersection, label and prediction\n",
    "        intersect = preds[preds == labels]\n",
    "        area_intersect = torch.histc(intersect.float(), bins=self.num_classes, min=0, max=self.num_classes - 1)\n",
    "        area_label = torch.histc(labels.float(), bins=self.num_classes, min=0, max=self.num_classes - 1)\n",
    "        area_pred = torch.histc(preds.float(), bins=self.num_classes, min=0, max=self.num_classes - 1)\n",
    "\n",
    "        # update results\n",
    "        self.area_intersect += area_intersect.cpu()\n",
    "        self.area_label += area_label.cpu()\n",
    "        self.area_pred += area_pred.cpu()\n",
    "\n",
    "    def compute(self) -> dict:\n",
    "        iou = self.area_intersect / (self.area_label + self.area_pred - self.area_intersect)\n",
    "        if 0 <= self.ignore_index <= self.num_classes - 1:\n",
    "            iou[self.ignore_index] = torch.nan\n",
    "        mean_iou = torch.nanmean(iou)\n",
    "\n",
    "        metrics = {\n",
    "            f\"{self.prefix}/iou_{self.int2str[idx]}\": iou[idx].item()\n",
    "            for idx in range(len(iou))\n",
    "            if idx != self.ignore_index\n",
    "        }\n",
    "        metrics[f\"{self.prefix}/mean_iou\"] = mean_iou.item()\n",
    "\n",
    "        return metrics\n",
    "\n",
    "    def reset(self):\n",
    "        self.area_intersect.zero_()\n",
    "        self.area_label.zero_()\n",
    "        self.area_pred.zero_()\n"
   ]
  },
  {
   "cell_type": "markdown",
   "metadata": {},
   "source": [
    "## Define loss function\n"
   ]
  },
  {
   "cell_type": "code",
   "execution_count": null,
   "metadata": {},
   "outputs": [],
   "source": [
    "loss_fn = nn.BCEWithLogitsLoss()"
   ]
  },
  {
   "cell_type": "markdown",
   "metadata": {},
   "source": [
    "## Train model"
   ]
  },
  {
   "cell_type": "markdown",
   "metadata": {},
   "source": [
    "### Optimizer and scheduler"
   ]
  },
  {
   "cell_type": "markdown",
   "metadata": {},
   "source": [
    "### Train method"
   ]
  },
  {
   "cell_type": "markdown",
   "metadata": {},
   "source": [
    "### Evaluation method"
   ]
  },
  {
   "cell_type": "markdown",
   "metadata": {},
   "source": [
    "## Make submisssion"
   ]
  }
 ],
 "metadata": {
  "kernelspec": {
   "display_name": "base",
   "language": "python",
   "name": "python3"
  },
  "language_info": {
   "codemirror_mode": {
    "name": "ipython",
    "version": 3
   },
   "file_extension": ".py",
   "mimetype": "text/x-python",
   "name": "python",
   "nbconvert_exporter": "python",
   "pygments_lexer": "ipython3",
   "version": "3.10.12"
  }
 },
 "nbformat": 4,
 "nbformat_minor": 2
}
