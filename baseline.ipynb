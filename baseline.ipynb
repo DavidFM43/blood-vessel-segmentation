{
 "cells": [
  {
   "cell_type": "markdown",
   "metadata": {},
   "source": [
    "# Baseline"
   ]
  },
  {
   "cell_type": "code",
   "execution_count": 1,
   "metadata": {},
   "outputs": [],
   "source": [
    "import torch\n",
    "from PIL import Image\n",
    "from torchvision.transforms import v2\n",
    "import torchvision.transforms as v1\n",
    "from torch import nn\n",
    "import numpy as np\n",
    "from tqdm import tqdm\n",
    "import random\n",
    "import os\n",
    "import matplotlib.pyplot as plt\n",
    "from torch.utils.data import DataLoader\n",
    "import wandb\n",
    "\n",
    "device = \"cuda\" if torch.cuda.is_available() else \"cpu\"\n",
    "input_dir = \"/kaggle/input/blood-vessel-segmentation/\"\n",
    "train_dir = input_dir + \"train/\"\n",
    "\n",
    "# reproducibility\n",
    "seed = 42\n",
    "np.random.seed(seed)\n",
    "random.seed(seed)\n",
    "torch.manual_seed(seed)\n",
    "torch.cuda.manual_seed(seed)\n",
    "torch.backends.cudnn.deterministic = True\n",
    "torch.backends.cudnn.benchmark = False\n",
    "os.environ['PYTHONHASHSEED'] = str(seed)"
   ]
  },
  {
   "cell_type": "markdown",
   "metadata": {},
   "source": [
    "## Load data"
   ]
  },
  {
   "cell_type": "markdown",
   "metadata": {},
   "source": [
    "**Datasets**\n",
    "\n",
    "- kidney_1_dense\t\n",
    "    - images\n",
    "    - labels\n",
    "- kidney_1_voi  \n",
    "    - images\n",
    "    - labels\n",
    "- kidney_2\t\n",
    "    - images\n",
    "    - labels\n",
    "- kidney_3_dense\t\n",
    "    - labels\n",
    "- kidney_3_sparse\n",
    "    - images\n",
    "    - labels"
   ]
  },
  {
   "cell_type": "markdown",
   "metadata": {},
   "source": [
    "### ¿Do I use one dataset or all of them? ¿How do I merge all the datasets?\n",
    "\n",
    "I think i can merge the datasets by just merging the images and labels paths. But for now I will just use the `kidney_1_dense` dataset."
   ]
  },
  {
   "cell_type": "markdown",
   "metadata": {},
   "source": [
    "### Dataset"
   ]
  },
  {
   "cell_type": "code",
   "execution_count": 2,
   "metadata": {},
   "outputs": [],
   "source": [
    "class KidneyDataset(torch.utils.data.Dataset):\n",
    "    def __init__(self, imgs_dir, msks_dir, slices_ids, transform=None, target_transform=None):\n",
    "        self.imgs_dir = imgs_dir\n",
    "        self.msks_dir = msks_dir\n",
    "        self.slices_ids = slices_ids\n",
    "        self.transform = transform\n",
    "        self.target_transform = target_transform\n",
    "        \n",
    "    def __len__(self):\n",
    "        return len(self.slices_ids)\n",
    "    \n",
    "    def __getitem__(self, idx):\n",
    "        slice_id = self.slices_ids[idx]\n",
    "        img_path = self.imgs_dir + slice_id\n",
    "        msk_path = self.msks_dir + slice_id\n",
    "\n",
    "        img = Image.open(img_path)\n",
    "        msk = Image.open(msk_path)\n",
    "\n",
    "        if self.transform is not None:\n",
    "            img = self.transform(img)\n",
    "\n",
    "        if self.target_transform is not None:\n",
    "            msk = self.target_transform(msk).squeeze()\n",
    "\n",
    "        return img, msk"
   ]
  },
  {
   "cell_type": "code",
   "execution_count": 3,
   "metadata": {},
   "outputs": [
    {
     "name": "stdout",
     "output_type": "stream",
     "text": [
      "Dataset length: 32\n"
     ]
    }
   ],
   "source": [
    "h_resize, w_resize = 224, 224\n",
    "\n",
    "imgs_dir = f\"{train_dir}kidney_1_dense/images/\"\n",
    "msks_dir = f\"{train_dir}kidney_1_dense/labels/\"\n",
    "slices_ids = sorted(os.listdir(imgs_dir))\n",
    "\n",
    "transform = v2.Compose([\n",
    "    v1.ToTensor(),\n",
    "    v2.Resize(size=(h_resize, w_resize), antialias=True),\n",
    "    v2.ToDtype(torch.float32, scale=True),\n",
    "])\n",
    "target_transform = v2.Compose([\n",
    "    v2.ToImage(),\n",
    "    v2.ToDtype(torch.uint8, scale=True),\n",
    "    v2.Resize(size=(h_resize, w_resize), interpolation=v2.InterpolationMode.NEAREST, antialias=True),\n",
    "    v2.ToDtype(torch.float32, scale=True),\n",
    "])\n",
    "\n",
    "ds = KidneyDataset(imgs_dir=imgs_dir, msks_dir=msks_dir, slices_ids=slices_ids[600:632], transform=transform, target_transform=target_transform)\n",
    "print(\"Dataset length:\", len(ds))"
   ]
  },
  {
   "cell_type": "code",
   "execution_count": 4,
   "metadata": {},
   "outputs": [
    {
     "name": "stdout",
     "output_type": "stream",
     "text": [
      "DataLoader length: 1\n"
     ]
    }
   ],
   "source": [
    "bs = 32\n",
    "num_workers = os.cpu_count()\n",
    "train_dl = DataLoader(ds, batch_size=bs, num_workers=num_workers, shuffle=False, persistent_workers=True)\n",
    "print(\"DataLoader length:\", len(train_dl))"
   ]
  },
  {
   "cell_type": "markdown",
   "metadata": {},
   "source": [
    "## Define model"
   ]
  },
  {
   "cell_type": "code",
   "execution_count": 5,
   "metadata": {},
   "outputs": [],
   "source": [
    "class SegmentationModel(nn.Module):\n",
    "    def __init__(self, in_channels, num_classes):\n",
    "        super(SegmentationModel, self).__init__()\n",
    "\n",
    "        # Define the encoder - a series of convolutional layers\n",
    "        self.encoder = nn.Sequential(\n",
    "            nn.Conv2d(in_channels, 64, kernel_size=3, padding=1),\n",
    "            nn.ReLU(),\n",
    "            nn.Conv2d(64, 64, kernel_size=3, padding=1),\n",
    "            nn.ReLU(),\n",
    "            nn.MaxPool2d(kernel_size=2, stride=2)\n",
    "        )\n",
    "\n",
    "        # Define the decoder - a series of transposed convolutional layers\n",
    "        self.decoder = nn.Sequential(\n",
    "            nn.ConvTranspose2d(64, 64, kernel_size=2, stride=2),\n",
    "            nn.ReLU(),\n",
    "            nn.Conv2d(64, num_classes, kernel_size=3, padding=1)\n",
    "        )\n",
    "\n",
    "    def forward(self, x):\n",
    "        x = self.encoder(x)\n",
    "        x = self.decoder(x)\n",
    "        return x"
   ]
  },
  {
   "cell_type": "code",
   "execution_count": 6,
   "metadata": {},
   "outputs": [],
   "source": [
    "\n",
    "# Initialize the model with the desired input channels and number of classes\n",
    "net = SegmentationModel(in_channels=1, num_classes=1)\n",
    "net.to(device);"
   ]
  },
  {
   "cell_type": "markdown",
   "metadata": {},
   "source": [
    "## Train model"
   ]
  },
  {
   "cell_type": "markdown",
   "metadata": {},
   "source": [
    "### Loss function"
   ]
  },
  {
   "cell_type": "code",
   "execution_count": 7,
   "metadata": {},
   "outputs": [],
   "source": [
    "loss_fn = nn.BCEWithLogitsLoss()"
   ]
  },
  {
   "cell_type": "markdown",
   "metadata": {},
   "source": [
    "### Optimizer and scheduler"
   ]
  },
  {
   "cell_type": "code",
   "execution_count": 8,
   "metadata": {},
   "outputs": [],
   "source": [
    "lr = 3e-3\n",
    "optimizer = torch.optim.Adam(lr=lr, params=net.parameters())"
   ]
  },
  {
   "cell_type": "markdown",
   "metadata": {},
   "source": [
    "### Metrics"
   ]
  },
  {
   "cell_type": "code",
   "execution_count": 9,
   "metadata": {},
   "outputs": [],
   "source": [
    "from surface_dice import SurfaceDiceMetric\n",
    "metric = SurfaceDiceMetric(n_batches=len(train_dl), device=device)"
   ]
  },
  {
   "cell_type": "markdown",
   "metadata": {},
   "source": [
    "### Train method"
   ]
  },
  {
   "cell_type": "code",
   "execution_count": 10,
   "metadata": {},
   "outputs": [],
   "source": [
    "def train(epoch):\n",
    "    train_loss = 0.0\n",
    "    net.train()\n",
    "    pbar = tqdm(total=len(ds))\n",
    "    for x, y in train_dl:\n",
    "        x, y = x.to(device), y.to(device)\n",
    "        logits = net(x).squeeze() \n",
    "        loss = loss_fn(logits, y)\n",
    "\n",
    "        optimizer.zero_grad()\n",
    "        loss.backward()\n",
    "        optimizer.step()\n",
    "\n",
    "        preds = torch.where(logits.detach().sigmoid() >= 0.5, 1, 0)\n",
    "        train_loss += loss.item()\n",
    "        pbar.update(len(x))\n",
    "    pbar.set_description(f\"Epoch {epoch} Loss {train_loss:.4f}\")\n",
    "    pbar.close()\n",
    "\n",
    "    train_loss /= len(train_dl)"
   ]
  },
  {
   "cell_type": "code",
   "execution_count": 11,
   "metadata": {},
   "outputs": [
    {
     "name": "stderr",
     "output_type": "stream",
     "text": [
      "Epoch 0 Loss 0.7041: 100%|██████████| 32/32 [00:01<00:00, 16.83it/s]\n",
      "Epoch 1 Loss 0.6259: 100%|██████████| 32/32 [00:00<00:00, 74.98it/s]\n",
      "Epoch 2 Loss 0.5170: 100%|██████████| 32/32 [00:00<00:00, 70.82it/s]\n",
      "Epoch 3 Loss 0.3586: 100%|██████████| 32/32 [00:00<00:00, 53.48it/s]\n",
      "Epoch 4 Loss 0.1879: 100%|██████████| 32/32 [00:00<00:00, 55.06it/s]\n",
      "Epoch 5 Loss 0.0772: 100%|██████████| 32/32 [00:00<00:00, 59.58it/s]\n",
      "Epoch 6 Loss 0.0493: 100%|██████████| 32/32 [00:00<00:00, 59.79it/s]\n",
      "Epoch 7 Loss 0.0594: 100%|██████████| 32/32 [00:00<00:00, 61.72it/s]\n",
      "Epoch 8 Loss 0.0775: 100%|██████████| 32/32 [00:00<00:00, 71.30it/s]\n",
      "Epoch 9 Loss 0.0956: 100%|██████████| 32/32 [00:00<00:00, 61.24it/s]\n",
      "Epoch 10 Loss 0.1114: 100%|██████████| 32/32 [00:00<00:00, 61.32it/s]\n",
      "Epoch 11 Loss 0.1236: 100%|██████████| 32/32 [00:00<00:00, 63.33it/s]\n",
      "Epoch 12 Loss 0.1315: 100%|██████████| 32/32 [00:00<00:00, 59.77it/s]\n",
      "Epoch 13 Loss 0.1351: 100%|██████████| 32/32 [00:00<00:00, 61.05it/s]\n",
      "Epoch 14 Loss 0.1347: 100%|██████████| 32/32 [00:00<00:00, 61.66it/s]\n",
      "Epoch 15 Loss 0.1308: 100%|██████████| 32/32 [00:00<00:00, 70.99it/s]\n",
      "Epoch 16 Loss 0.1242: 100%|██████████| 32/32 [00:00<00:00, 74.38it/s]\n",
      "Epoch 17 Loss 0.1157: 100%|██████████| 32/32 [00:00<00:00, 71.87it/s]\n",
      "Epoch 18 Loss 0.1059: 100%|██████████| 32/32 [00:00<00:00, 75.51it/s]\n",
      "Epoch 19 Loss 0.0954: 100%|██████████| 32/32 [00:00<00:00, 73.42it/s]\n",
      "Epoch 20 Loss 0.0850: 100%|██████████| 32/32 [00:00<00:00, 59.64it/s]\n",
      "Epoch 21 Loss 0.0750: 100%|██████████| 32/32 [00:00<00:00, 62.33it/s]\n",
      "Epoch 22 Loss 0.0658: 100%|██████████| 32/32 [00:00<00:00, 63.63it/s]\n",
      "Epoch 23 Loss 0.0580: 100%|██████████| 32/32 [00:00<00:00, 70.13it/s]\n",
      "Epoch 24 Loss 0.0521: 100%|██████████| 32/32 [00:00<00:00, 73.59it/s]\n",
      "Epoch 25 Loss 0.0489: 100%|██████████| 32/32 [00:00<00:00, 62.35it/s]\n",
      "Epoch 26 Loss 0.0493: 100%|██████████| 32/32 [00:00<00:00, 72.77it/s]\n",
      "Epoch 27 Loss 0.0530: 100%|██████████| 32/32 [00:00<00:00, 70.88it/s]\n",
      "Epoch 28 Loss 0.0579: 100%|██████████| 32/32 [00:00<00:00, 73.85it/s]\n",
      "Epoch 29 Loss 0.0609: 100%|██████████| 32/32 [00:00<00:00, 72.06it/s]\n",
      "Epoch 30 Loss 0.0596: 100%|██████████| 32/32 [00:00<00:00, 73.11it/s]\n",
      "Epoch 31 Loss 0.0555: 100%|██████████| 32/32 [00:00<00:00, 70.53it/s]\n",
      "Epoch 32 Loss 0.0510: 100%|██████████| 32/32 [00:00<00:00, 71.88it/s]\n",
      "Epoch 33 Loss 0.0480: 100%|██████████| 32/32 [00:00<00:00, 71.96it/s]\n",
      "Epoch 34 Loss 0.0470: 100%|██████████| 32/32 [00:00<00:00, 61.14it/s]\n",
      "Epoch 35 Loss 0.0478: 100%|██████████| 32/32 [00:00<00:00, 65.06it/s]\n",
      "Epoch 36 Loss 0.0494: 100%|██████████| 32/32 [00:00<00:00, 67.84it/s]\n",
      "Epoch 37 Loss 0.0507: 100%|██████████| 32/32 [00:00<00:00, 70.88it/s]\n",
      "Epoch 38 Loss 0.0511: 100%|██████████| 32/32 [00:00<00:00, 62.08it/s]\n",
      "Epoch 39 Loss 0.0506: 100%|██████████| 32/32 [00:00<00:00, 72.45it/s]\n",
      "Epoch 40 Loss 0.0497: 100%|██████████| 32/32 [00:00<00:00, 73.21it/s]\n",
      "Epoch 41 Loss 0.0485: 100%|██████████| 32/32 [00:00<00:00, 74.32it/s]\n",
      "Epoch 42 Loss 0.0474: 100%|██████████| 32/32 [00:00<00:00, 73.28it/s]\n",
      "Epoch 43 Loss 0.0466: 100%|██████████| 32/32 [00:00<00:00, 70.28it/s]\n",
      "Epoch 44 Loss 0.0463: 100%|██████████| 32/32 [00:00<00:00, 63.62it/s]\n",
      "Epoch 45 Loss 0.0464: 100%|██████████| 32/32 [00:00<00:00, 69.26it/s]\n",
      "Epoch 46 Loss 0.0466: 100%|██████████| 32/32 [00:00<00:00, 67.97it/s]\n",
      "Epoch 47 Loss 0.0467: 100%|██████████| 32/32 [00:00<00:00, 62.79it/s]\n",
      "Epoch 48 Loss 0.0465: 100%|██████████| 32/32 [00:00<00:00, 61.27it/s]\n",
      "Epoch 49 Loss 0.0461: 100%|██████████| 32/32 [00:00<00:00, 71.10it/s]\n",
      "Epoch 50 Loss 0.0457: 100%|██████████| 32/32 [00:00<00:00, 63.08it/s]\n",
      "Epoch 51 Loss 0.0456: 100%|██████████| 32/32 [00:00<00:00, 60.64it/s]\n",
      "Epoch 52 Loss 0.0456: 100%|██████████| 32/32 [00:00<00:00, 60.29it/s]\n",
      "Epoch 53 Loss 0.0458: 100%|██████████| 32/32 [00:00<00:00, 61.40it/s]\n",
      "Epoch 54 Loss 0.0458: 100%|██████████| 32/32 [00:00<00:00, 59.30it/s]\n",
      "Epoch 55 Loss 0.0456: 100%|██████████| 32/32 [00:00<00:00, 55.23it/s]\n",
      "Epoch 56 Loss 0.0454: 100%|██████████| 32/32 [00:00<00:00, 58.01it/s]\n",
      "Epoch 57 Loss 0.0452: 100%|██████████| 32/32 [00:00<00:00, 64.45it/s]\n",
      "Epoch 58 Loss 0.0450: 100%|██████████| 32/32 [00:00<00:00, 60.98it/s]\n",
      "Epoch 59 Loss 0.0450: 100%|██████████| 32/32 [00:00<00:00, 58.35it/s]\n",
      "Epoch 60 Loss 0.0450: 100%|██████████| 32/32 [00:00<00:00, 61.51it/s]\n",
      "Epoch 61 Loss 0.0450: 100%|██████████| 32/32 [00:00<00:00, 60.91it/s]\n",
      "Epoch 62 Loss 0.0449: 100%|██████████| 32/32 [00:00<00:00, 60.37it/s]\n",
      "Epoch 63 Loss 0.0447: 100%|██████████| 32/32 [00:00<00:00, 64.07it/s]\n",
      "Epoch 64 Loss 0.0445: 100%|██████████| 32/32 [00:00<00:00, 65.24it/s]\n",
      "Epoch 65 Loss 0.0444: 100%|██████████| 32/32 [00:00<00:00, 72.53it/s]\n",
      "Epoch 66 Loss 0.0442: 100%|██████████| 32/32 [00:00<00:00, 74.27it/s]\n",
      "Epoch 67 Loss 0.0440: 100%|██████████| 32/32 [00:00<00:00, 74.08it/s]\n",
      "Epoch 68 Loss 0.0437: 100%|██████████| 32/32 [00:00<00:00, 74.57it/s]\n",
      "Epoch 69 Loss 0.0435: 100%|██████████| 32/32 [00:00<00:00, 75.37it/s]\n",
      "Epoch 70 Loss 0.0433: 100%|██████████| 32/32 [00:00<00:00, 68.65it/s]\n",
      "Epoch 71 Loss 0.0432: 100%|██████████| 32/32 [00:00<00:00, 68.49it/s]\n",
      "Epoch 72 Loss 0.0432: 100%|██████████| 32/32 [00:00<00:00, 70.83it/s]\n",
      "Epoch 73 Loss 0.0430: 100%|██████████| 32/32 [00:00<00:00, 74.41it/s]\n",
      "Epoch 74 Loss 0.0430: 100%|██████████| 32/32 [00:00<00:00, 68.32it/s]\n",
      "Epoch 75 Loss 0.0429: 100%|██████████| 32/32 [00:00<00:00, 75.60it/s]\n",
      "Epoch 76 Loss 0.0428: 100%|██████████| 32/32 [00:00<00:00, 74.84it/s]\n",
      "Epoch 77 Loss 0.0427: 100%|██████████| 32/32 [00:00<00:00, 60.62it/s]\n",
      "Epoch 78 Loss 0.0427: 100%|██████████| 32/32 [00:00<00:00, 73.25it/s]\n",
      "Epoch 79 Loss 0.0426: 100%|██████████| 32/32 [00:00<00:00, 73.12it/s]\n",
      "Epoch 80 Loss 0.0425: 100%|██████████| 32/32 [00:00<00:00, 75.78it/s]\n",
      "Epoch 81 Loss 0.0425: 100%|██████████| 32/32 [00:00<00:00, 75.71it/s]\n",
      "Epoch 82 Loss 0.0424: 100%|██████████| 32/32 [00:00<00:00, 71.70it/s]\n",
      "Epoch 83 Loss 0.0424: 100%|██████████| 32/32 [00:00<00:00, 68.74it/s]\n",
      "Epoch 84 Loss 0.0423: 100%|██████████| 32/32 [00:00<00:00, 74.74it/s]\n",
      "Epoch 85 Loss 0.0423: 100%|██████████| 32/32 [00:00<00:00, 71.76it/s]\n",
      "Epoch 86 Loss 0.0423: 100%|██████████| 32/32 [00:00<00:00, 71.38it/s]\n",
      "Epoch 87 Loss 0.0422: 100%|██████████| 32/32 [00:00<00:00, 69.31it/s]\n",
      "Epoch 88 Loss 0.0422: 100%|██████████| 32/32 [00:00<00:00, 70.02it/s]\n",
      "Epoch 89 Loss 0.0422: 100%|██████████| 32/32 [00:00<00:00, 73.50it/s]\n",
      "Epoch 90 Loss 0.0421: 100%|██████████| 32/32 [00:00<00:00, 72.91it/s]\n",
      "Epoch 91 Loss 0.0421: 100%|██████████| 32/32 [00:00<00:00, 70.03it/s]\n",
      "Epoch 92 Loss 0.0421: 100%|██████████| 32/32 [00:00<00:00, 75.96it/s]\n",
      "Epoch 93 Loss 0.0421: 100%|██████████| 32/32 [00:00<00:00, 74.74it/s]\n",
      "Epoch 94 Loss 0.0421: 100%|██████████| 32/32 [00:00<00:00, 73.15it/s]\n",
      "Epoch 95 Loss 0.0421: 100%|██████████| 32/32 [00:00<00:00, 74.96it/s]\n",
      "Epoch 96 Loss 0.0420: 100%|██████████| 32/32 [00:00<00:00, 66.56it/s]\n",
      "Epoch 97 Loss 0.0420: 100%|██████████| 32/32 [00:00<00:00, 64.34it/s]\n",
      "Epoch 98 Loss 0.0420: 100%|██████████| 32/32 [00:00<00:00, 72.41it/s]\n",
      "Epoch 99 Loss 0.0420: 100%|██████████| 32/32 [00:00<00:00, 65.61it/s]\n"
     ]
    }
   ],
   "source": [
    "epochs = 100\n",
    "\n",
    "for epoch in range(epochs):\n",
    "    train(epoch)"
   ]
  },
  {
   "cell_type": "code",
   "execution_count": null,
   "metadata": {},
   "outputs": [],
   "source": []
  }
 ],
 "metadata": {
  "kernelspec": {
   "display_name": "base",
   "language": "python",
   "name": "python3"
  },
  "language_info": {
   "codemirror_mode": {
    "name": "ipython",
    "version": 3
   },
   "file_extension": ".py",
   "mimetype": "text/x-python",
   "name": "python",
   "nbconvert_exporter": "python",
   "pygments_lexer": "ipython3",
   "version": "3.10.12"
  }
 },
 "nbformat": 4,
 "nbformat_minor": 2
}
