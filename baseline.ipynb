{
 "cells": [
  {
   "cell_type": "markdown",
   "metadata": {},
   "source": [
    "# Baseline"
   ]
  },
  {
   "cell_type": "code",
   "execution_count": 1,
   "metadata": {},
   "outputs": [
    {
     "name": "stdout",
     "output_type": "stream",
     "text": [
      "cuda\n"
     ]
    }
   ],
   "source": [
    "import torch\n",
    "from PIL import Image\n",
    "import torchvision.transforms as T\n",
    "from torch import nn\n",
    "import numpy as np\n",
    "import random\n",
    "import os\n",
    "import matplotlib.pyplot as plt\n",
    "from torch.utils.data import DataLoader\n",
    "\n",
    "device = \"cuda\" if torch.cuda.is_available() else \"cpu\"\n",
    "input_dir = \"/kaggle/input/blood-vessel-segmentation/\"\n",
    "train_dir = input_dir + \"train\"\n",
    "\n",
    "\n",
    "seed = 42\n",
    "np.random.seed(seed)\n",
    "random.seed(seed)\n",
    "torch.manual_seed(seed)\n",
    "torch.cuda.manual_seed(seed)\n",
    "torch.backends.cudnn.deterministic = True\n",
    "torch.backends.cudnn.benchmark = False\n",
    "os.environ['PYTHONHASHSEED'] = str(seed)\n",
    "\n",
    "\n",
    "print(device)"
   ]
  },
  {
   "cell_type": "markdown",
   "metadata": {},
   "source": [
    "## Load data"
   ]
  },
  {
   "cell_type": "markdown",
   "metadata": {},
   "source": [
    "**Datasets**\n",
    "\n",
    "- kidney_1_dense\t\n",
    "    - images\n",
    "    - labels\n",
    "- kidney_1_voi  \n",
    "    - images\n",
    "    - labels\n",
    "- kidney_2\t\n",
    "    - images\n",
    "    - labels\n",
    "- kidney_3_dense\t\n",
    "    - labels\n",
    "- kidney_3_sparse\n",
    "    - images\n",
    "    - labels"
   ]
  },
  {
   "cell_type": "markdown",
   "metadata": {},
   "source": [
    "### ¿Do I use one dataset or all of them? ¿How do I merge all the datasets?\n",
    "\n",
    "I think i can merge the datasets by just merging the images and labels paths. But for now I will just use the `kidney_1_dense` dataset."
   ]
  },
  {
   "cell_type": "markdown",
   "metadata": {},
   "source": [
    "### Dataset"
   ]
  },
  {
   "cell_type": "code",
   "execution_count": 2,
   "metadata": {},
   "outputs": [],
   "source": [
    "class KidneyDataset(torch.utils.data.Dataset):\n",
    "    def __init__(self, img_paths, msk_paths, transform=None, target_transform=None):\n",
    "        self.img_paths  = img_paths\n",
    "        self.msk_paths  = msk_paths\n",
    "        self.transform = transform\n",
    "        self.target_transform = target_transform\n",
    "        assert len(self.img_paths) == len(self.msk_paths)\n",
    "        \n",
    "    def __len__(self):\n",
    "        return len(self.img_paths)\n",
    "    \n",
    "    def __getitem__(self, idx):\n",
    "        img_path = self.img_paths[idx]\n",
    "        msk_path = self.msk_paths[idx]\n",
    "\n",
    "        img = Image.open(img_path)\n",
    "        msk = Image.open(msk_path)\n",
    "\n",
    "        if self.transform is not None:\n",
    "            img = self.transform(img)\n",
    "        if self.target_transform is not None:\n",
    "            msk = self.target_transform(msk)\n",
    "\n",
    "        return img, msk"
   ]
  },
  {
   "cell_type": "code",
   "execution_count": 3,
   "metadata": {},
   "outputs": [],
   "source": [
    "k1d_path = \"kidney_1_dense\"\n",
    "h_resize, w_resize = 512, 512\n",
    "\n",
    "folder_path = os.path.join(train_dir, k1d_path)\n",
    "k1d_imgs_paths = sorted(os.path.join(folder_path, \"images\", file_name) for file_name in os.listdir(os.path.join(folder_path, \"images\")))\n",
    "k1d_msks_paths = sorted(os.path.join(folder_path, \"labels\", file_name) for file_name in os.listdir(os.path.join(folder_path, \"images\")))\n",
    "\n",
    "transform = T.Compose([\n",
    "    T.ToTensor(),  \n",
    "    T.ConvertImageDtype(torch.float32),\n",
    "    T.Resize((h_resize, w_resize), antialias=True)\n",
    "])\n",
    "\n",
    "target_transform = T.Compose([\n",
    "    T.PILToTensor(), \n",
    "    T.Resize((h_resize, w_resize), antialias=True)\n",
    "])\n",
    "\n",
    "k1d_ds = KidneyDataset(k1d_imgs_paths, k1d_msks_paths, transform=transform, target_transform=target_transform)"
   ]
  },
  {
   "cell_type": "code",
   "execution_count": 4,
   "metadata": {},
   "outputs": [],
   "source": [
    "g = torch.Generator().manual_seed(42)\n",
    "\n",
    "train_ds, eval_ds = torch.utils.data.random_split(\n",
    "    k1d_ds,\n",
    "    [0.8, 0.2],\n",
    "    generator=g\n",
    ")\n",
    "\n",
    "bs = 32\n",
    "num_workers = 2\n",
    "train_dl = DataLoader(train_ds, batch_size=bs, num_workers=num_workers, shuffle=True)\n",
    "eval_dl = DataLoader(eval_ds, batch_size=bs, num_workers=num_workers, shuffle=False)"
   ]
  },
  {
   "cell_type": "code",
   "execution_count": 5,
   "metadata": {},
   "outputs": [
    {
     "data": {
      "text/plain": [
       "(1824, 455)"
      ]
     },
     "execution_count": 5,
     "metadata": {},
     "output_type": "execute_result"
    }
   ],
   "source": [
    "len(train_ds), len(eval_ds)"
   ]
  },
  {
   "cell_type": "markdown",
   "metadata": {},
   "source": [
    "## Define model"
   ]
  },
  {
   "cell_type": "code",
   "execution_count": 7,
   "metadata": {},
   "outputs": [
    {
     "name": "stdout",
     "output_type": "stream",
     "text": [
      "tensor([[[[-0.0177,  0.0010,  0.0009,  ..., -0.0031,  0.0007, -0.0039],\n",
      "          [-0.0398, -0.0282, -0.0311,  ..., -0.0278, -0.0301, -0.0148],\n",
      "          [-0.0323,  0.0054, -0.0092,  ...,  0.0008, -0.0063, -0.0043],\n",
      "          ...,\n",
      "          [-0.0378, -0.0238, -0.0265,  ..., -0.0311, -0.0258, -0.0125],\n",
      "          [-0.0312,  0.0065, -0.0154,  ...,  0.0034, -0.0139, -0.0054],\n",
      "          [-0.0202, -0.0193, -0.0081,  ..., -0.0210, -0.0087, -0.0184]]],\n",
      "\n",
      "\n",
      "        [[[-0.0179,  0.0011,  0.0010,  ..., -0.0032,  0.0008, -0.0039],\n",
      "          [-0.0400, -0.0282, -0.0316,  ..., -0.0278, -0.0302, -0.0148],\n",
      "          [-0.0325,  0.0054, -0.0092,  ...,  0.0011, -0.0063, -0.0042],\n",
      "          ...,\n",
      "          [-0.0377, -0.0235, -0.0265,  ..., -0.0310, -0.0258, -0.0130],\n",
      "          [-0.0311,  0.0061, -0.0152,  ...,  0.0029, -0.0140, -0.0055],\n",
      "          [-0.0201, -0.0195, -0.0085,  ..., -0.0214, -0.0088, -0.0186]]],\n",
      "\n",
      "\n",
      "        [[[-0.0178,  0.0006,  0.0007,  ..., -0.0027,  0.0003, -0.0037],\n",
      "          [-0.0392, -0.0277, -0.0303,  ..., -0.0275, -0.0296, -0.0153],\n",
      "          [-0.0318,  0.0047, -0.0090,  ...,  0.0002, -0.0066, -0.0044],\n",
      "          ...,\n",
      "          [-0.0376, -0.0233, -0.0264,  ..., -0.0308, -0.0257, -0.0136],\n",
      "          [-0.0308,  0.0055, -0.0151,  ...,  0.0019, -0.0139, -0.0056],\n",
      "          [-0.0201, -0.0198, -0.0088,  ..., -0.0217, -0.0092, -0.0188]]],\n",
      "\n",
      "\n",
      "        ...,\n",
      "\n",
      "\n",
      "        [[[-0.0178,  0.0007,  0.0007,  ..., -0.0029,  0.0003, -0.0038],\n",
      "          [-0.0393, -0.0277, -0.0306,  ..., -0.0275, -0.0296, -0.0153],\n",
      "          [-0.0318,  0.0049, -0.0091,  ...,  0.0002, -0.0066, -0.0045],\n",
      "          ...,\n",
      "          [-0.0375, -0.0234, -0.0265,  ..., -0.0308, -0.0257, -0.0135],\n",
      "          [-0.0309,  0.0053, -0.0151,  ...,  0.0018, -0.0140, -0.0055],\n",
      "          [-0.0201, -0.0198, -0.0088,  ..., -0.0218, -0.0092, -0.0188]]],\n",
      "\n",
      "\n",
      "        [[[-0.0179,  0.0009,  0.0009,  ..., -0.0029,  0.0004, -0.0038],\n",
      "          [-0.0397, -0.0280, -0.0310,  ..., -0.0276, -0.0298, -0.0151],\n",
      "          [-0.0323,  0.0051, -0.0091,  ...,  0.0004, -0.0064, -0.0044],\n",
      "          ...,\n",
      "          [-0.0381, -0.0235, -0.0264,  ..., -0.0308, -0.0259, -0.0134],\n",
      "          [-0.0311,  0.0059, -0.0153,  ...,  0.0022, -0.0140, -0.0056],\n",
      "          [-0.0201, -0.0196, -0.0087,  ..., -0.0217, -0.0090, -0.0187]]],\n",
      "\n",
      "\n",
      "        [[[-0.0178,  0.0010,  0.0009,  ..., -0.0031,  0.0007, -0.0038],\n",
      "          [-0.0397, -0.0281, -0.0312,  ..., -0.0277, -0.0300, -0.0149],\n",
      "          [-0.0323,  0.0052, -0.0092,  ...,  0.0008, -0.0064, -0.0042],\n",
      "          ...,\n",
      "          [-0.0379, -0.0237, -0.0269,  ..., -0.0311, -0.0258, -0.0125],\n",
      "          [-0.0311,  0.0068, -0.0154,  ...,  0.0034, -0.0140, -0.0055],\n",
      "          [-0.0200, -0.0193, -0.0080,  ..., -0.0210, -0.0087, -0.0184]]]],\n",
      "       device='cuda:0', grad_fn=<ConvolutionBackward0>)\n",
      "torch.Size([32, 1, 512, 512])\n"
     ]
    }
   ],
   "source": [
    "class SegmentationModel(nn.Module):\n",
    "    def __init__(self, in_channels, num_classes):\n",
    "        super(SegmentationModel, self).__init__()\n",
    "\n",
    "        # Define the encoder - a series of convolutional layers\n",
    "        self.encoder = nn.Sequential(\n",
    "            nn.Conv2d(in_channels, 64, kernel_size=3, padding=1),\n",
    "            nn.ReLU(),\n",
    "            nn.Conv2d(64, 64, kernel_size=3, padding=1),\n",
    "            nn.ReLU(),\n",
    "            nn.MaxPool2d(kernel_size=2, stride=2)\n",
    "        )\n",
    "\n",
    "        # Define the decoder - a series of transposed convolutional layers\n",
    "        self.decoder = nn.Sequential(\n",
    "            nn.ConvTranspose2d(64, 64, kernel_size=2, stride=2),\n",
    "            nn.ReLU(),\n",
    "            nn.Conv2d(64, num_classes, kernel_size=3, padding=1)\n",
    "        )\n",
    "\n",
    "    def forward(self, x):\n",
    "        x = self.encoder(x)\n",
    "        x = self.decoder(x)\n",
    "        return x\n",
    "\n",
    "# Initialize the model with the desired input channels and number of classes\n",
    "model = SegmentationModel(in_channels=1, num_classes=1)\n",
    "model.to(device)\n",
    "\n",
    "# Use the model for a batch of input images\n",
    "x, y = next(iter(train_dl))\n",
    "x = x.to(device)\n",
    "output = model(x)\n",
    "print(output)\n",
    "print(output.shape)"
   ]
  },
  {
   "cell_type": "markdown",
   "metadata": {},
   "source": [
    "## Define evaluation metric"
   ]
  },
  {
   "cell_type": "code",
   "execution_count": null,
   "metadata": {},
   "outputs": [],
   "source": [
    "class IouMetric:\n",
    "    def __init__(self, num_classes: int, int2str: dict, ignore_index: int = 255, prefix=\"train\"):\n",
    "        \"\"\"\n",
    "        Args:\n",
    "            num_classes: number of classes\n",
    "            int2str: dictionary mapping class index to class name\n",
    "            ignore_index: index to ignore in the metric calculations\n",
    "            prefix: prefix to use for logging\n",
    "        \"\"\"\n",
    "        self.area_intersect = torch.zeros(num_classes)\n",
    "        self.area_label = torch.zeros(num_classes)\n",
    "        self.area_pred = torch.zeros(num_classes)\n",
    "        self.num_classes = num_classes\n",
    "        self.int2str = int2str\n",
    "        self.ignore_index = ignore_index\n",
    "        self.prefix = prefix\n",
    "\n",
    "    def process(self, preds, labels):\n",
    "        mask = labels != self.ignore_index\n",
    "        preds = preds[mask]\n",
    "        labels = labels[mask]\n",
    "\n",
    "        # compute area of intersection, label and prediction\n",
    "        intersect = preds[preds == labels]\n",
    "        area_intersect = torch.histc(intersect.float(), bins=self.num_classes, min=0, max=self.num_classes - 1)\n",
    "        area_label = torch.histc(labels.float(), bins=self.num_classes, min=0, max=self.num_classes - 1)\n",
    "        area_pred = torch.histc(preds.float(), bins=self.num_classes, min=0, max=self.num_classes - 1)\n",
    "\n",
    "        # update results\n",
    "        self.area_intersect += area_intersect.cpu()\n",
    "        self.area_label += area_label.cpu()\n",
    "        self.area_pred += area_pred.cpu()\n",
    "\n",
    "    def compute(self) -> dict:\n",
    "        iou = self.area_intersect / (self.area_label + self.area_pred - self.area_intersect)\n",
    "        if 0 <= self.ignore_index <= self.num_classes - 1:\n",
    "            iou[self.ignore_index] = torch.nan\n",
    "        mean_iou = torch.nanmean(iou)\n",
    "\n",
    "        metrics = {\n",
    "            f\"{self.prefix}/iou_{self.int2str[idx]}\": iou[idx].item()\n",
    "            for idx in range(len(iou))\n",
    "            if idx != self.ignore_index\n",
    "        }\n",
    "        metrics[f\"{self.prefix}/mean_iou\"] = mean_iou.item()\n",
    "\n",
    "        return metrics\n",
    "\n",
    "    def reset(self):\n",
    "        self.area_intersect.zero_()\n",
    "        self.area_label.zero_()\n",
    "        self.area_pred.zero_()\n"
   ]
  },
  {
   "cell_type": "markdown",
   "metadata": {},
   "source": [
    "## Define loss function\n"
   ]
  },
  {
   "cell_type": "code",
   "execution_count": null,
   "metadata": {},
   "outputs": [],
   "source": [
    "loss_fn = nn.BCEWithLogitsLoss()"
   ]
  },
  {
   "cell_type": "markdown",
   "metadata": {},
   "source": [
    "## Train model"
   ]
  },
  {
   "cell_type": "markdown",
   "metadata": {},
   "source": [
    "### Optimizer and scheduler"
   ]
  },
  {
   "cell_type": "markdown",
   "metadata": {},
   "source": [
    "### Train method"
   ]
  },
  {
   "cell_type": "markdown",
   "metadata": {},
   "source": [
    "### Evaluation method"
   ]
  },
  {
   "cell_type": "markdown",
   "metadata": {},
   "source": [
    "## Make submisssion"
   ]
  }
 ],
 "metadata": {
  "kernelspec": {
   "display_name": "base",
   "language": "python",
   "name": "python3"
  },
  "language_info": {
   "codemirror_mode": {
    "name": "ipython",
    "version": 3
   },
   "file_extension": ".py",
   "mimetype": "text/x-python",
   "name": "python",
   "nbconvert_exporter": "python",
   "pygments_lexer": "ipython3",
   "version": "3.10.12"
  }
 },
 "nbformat": 4,
 "nbformat_minor": 2
}
