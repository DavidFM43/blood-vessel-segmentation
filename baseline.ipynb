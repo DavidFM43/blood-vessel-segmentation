{
 "cells": [
  {
   "cell_type": "markdown",
   "metadata": {},
   "source": [
    "# Baseline"
   ]
  },
  {
   "cell_type": "code",
   "execution_count": 4,
   "metadata": {},
   "outputs": [],
   "source": [
    "import torch\n",
    "from PIL import Image\n",
    "import torchvision.transforms as T\n",
    "import os\n",
    "\n",
    "input_dir = \"/kaggle/input/blood-vessel-segmentation/\"\n",
    "train_dir = input_dir + \"train\""
   ]
  },
  {
   "cell_type": "markdown",
   "metadata": {},
   "source": [
    "## Load data"
   ]
  },
  {
   "cell_type": "markdown",
   "metadata": {},
   "source": [
    "**Datasets**\n",
    "\n",
    "- kidney_1_dense\t\n",
    "    - images\n",
    "    - labels\n",
    "- kidney_1_voi  \n",
    "    - images\n",
    "    - labels\n",
    "- kidney_2\t\n",
    "    - images\n",
    "    - labels\n",
    "- kidney_3_dense\t\n",
    "    - labels\n",
    "- kidney_3_sparse\n",
    "    - images\n",
    "    - labels"
   ]
  },
  {
   "cell_type": "markdown",
   "metadata": {},
   "source": [
    "### ¿Do I use one dataset or all of them? ¿How do I merge all the datasets?\n",
    "\n",
    "I think i can merge the datasets by just merging the images and labels paths. But for now I will just use the `kidney_1_dense` dataset."
   ]
  },
  {
   "cell_type": "markdown",
   "metadata": {},
   "source": [
    "### Dataset"
   ]
  },
  {
   "cell_type": "code",
   "execution_count": 5,
   "metadata": {},
   "outputs": [],
   "source": [
    "\n",
    "class KidneyDataset(torch.utils.data.Dataset):\n",
    "    def __init__(self, img_paths, msk_paths, transform=None, target_transform=None):\n",
    "        self.img_paths  = img_paths\n",
    "        self.msk_paths  = msk_paths\n",
    "        self.transform = transform\n",
    "        self.target_transform = target_transform\n",
    "        assert len(self.img_paths) == len(self.msk_paths)\n",
    "        \n",
    "    def __len__(self):\n",
    "        return len(self.img_paths)\n",
    "    \n",
    "    def __getitem__(self, idx):\n",
    "        img_path = self.img_paths[idx]\n",
    "        msk_path = self.msk_paths[idx]\n",
    "\n",
    "        img = Image.open(img_path)\n",
    "        msk = Image.open(msk_path)\n",
    "\n",
    "        if self.transform is not None:\n",
    "            img = self.transform(img)\n",
    "        if self.target_transform is not None:\n",
    "            msk = self.target_transform(msk)\n",
    "\n",
    "        return img, msk"
   ]
  },
  {
   "cell_type": "code",
   "execution_count": 6,
   "metadata": {},
   "outputs": [],
   "source": [
    "\n",
    "k1d_path = \"kidney_1_dense\"\n",
    "k1d_imgs_paths = sorted([f\"{train_dir}/{k1d_path}/images/{id}\" for id in os.listdir(f\"{train_dir}/{k1d_path}/images\")])\n",
    "k1d_msks_paths = sorted([f\"{train_dir}/{k1d_path}/labels/{id}\" for id in os.listdir(f\"{train_dir}/{k1d_path}/labels\")])\n",
    "\n",
    "k1d_ds = KidneyDataset(k1d_imgs_paths, k1d_msks_paths, transform=T.ToTensor(), target_transform=T.PILToTensor())"
   ]
  },
  {
   "cell_type": "code",
   "execution_count": 7,
   "metadata": {},
   "outputs": [
    {
     "name": "stdout",
     "output_type": "stream",
     "text": [
      "tensor([[[22229, 21842, 22422,  ..., 20789, 20733, 20711],\n",
      "         [22458, 22184, 22584,  ..., 21060, 20893, 20920],\n",
      "         [22308, 22078, 22214,  ..., 21242, 20942, 20640],\n",
      "         ...,\n",
      "         [21848, 21609, 22175,  ..., 21029, 20890, 21145],\n",
      "         [21573, 21569, 22062,  ..., 20899, 20983, 20793],\n",
      "         [21617, 21943, 22238,  ..., 21113, 20947, 20557]]], dtype=torch.int16)\n",
      "tensor([[[0, 0, 0,  ..., 0, 0, 0],\n",
      "         [0, 0, 0,  ..., 0, 0, 0],\n",
      "         [0, 0, 0,  ..., 0, 0, 0],\n",
      "         ...,\n",
      "         [0, 0, 0,  ..., 0, 0, 0],\n",
      "         [0, 0, 0,  ..., 0, 0, 0],\n",
      "         [0, 0, 0,  ..., 0, 0, 0]]], dtype=torch.uint8)\n",
      "torch.Size([1, 1303, 912])\n",
      "torch.Size([1, 1303, 912])\n"
     ]
    }
   ],
   "source": [
    "x, y = k1d_ds[0]\n",
    "print(x)\n",
    "print(y)\n",
    "print(x.shape)\n",
    "print(y.shape)"
   ]
  },
  {
   "cell_type": "markdown",
   "metadata": {},
   "source": [
    "## Define model"
   ]
  },
  {
   "cell_type": "markdown",
   "metadata": {},
   "source": [
    "## Define loss function"
   ]
  },
  {
   "cell_type": "markdown",
   "metadata": {},
   "source": [
    "## Define evaluation metric"
   ]
  },
  {
   "cell_type": "markdown",
   "metadata": {},
   "source": [
    "## Train model"
   ]
  },
  {
   "cell_type": "markdown",
   "metadata": {},
   "source": [
    "### Train method"
   ]
  },
  {
   "cell_type": "markdown",
   "metadata": {},
   "source": [
    "### Evaluation method"
   ]
  },
  {
   "cell_type": "markdown",
   "metadata": {},
   "source": [
    "## Make submisssion"
   ]
  }
 ],
 "metadata": {
  "kernelspec": {
   "display_name": "base",
   "language": "python",
   "name": "python3"
  },
  "language_info": {
   "codemirror_mode": {
    "name": "ipython",
    "version": 3
   },
   "file_extension": ".py",
   "mimetype": "text/x-python",
   "name": "python",
   "nbconvert_exporter": "python",
   "pygments_lexer": "ipython3",
   "version": "3.10.12"
  }
 },
 "nbformat": 4,
 "nbformat_minor": 2
}
