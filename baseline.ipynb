{
 "cells": [
  {
   "cell_type": "markdown",
   "metadata": {},
   "source": [
    "# Baseline"
   ]
  },
  {
   "cell_type": "code",
   "execution_count": 8,
   "metadata": {},
   "outputs": [],
   "source": [
    "import torch\n",
    "from PIL import Image\n",
    "import torchvision.transforms as T\n",
    "from torch import nn\n",
    "import os\n",
    "\n",
    "device = \"cuda\" if torch.cuda.is_available() else \"cpu\"\n",
    "input_dir = \"/kaggle/input/blood-vessel-segmentation/\"\n",
    "train_dir = input_dir + \"train\""
   ]
  },
  {
   "cell_type": "markdown",
   "metadata": {},
   "source": [
    "## Load data"
   ]
  },
  {
   "cell_type": "markdown",
   "metadata": {},
   "source": [
    "**Datasets**\n",
    "\n",
    "- kidney_1_dense\t\n",
    "    - images\n",
    "    - labels\n",
    "- kidney_1_voi  \n",
    "    - images\n",
    "    - labels\n",
    "- kidney_2\t\n",
    "    - images\n",
    "    - labels\n",
    "- kidney_3_dense\t\n",
    "    - labels\n",
    "- kidney_3_sparse\n",
    "    - images\n",
    "    - labels"
   ]
  },
  {
   "cell_type": "markdown",
   "metadata": {},
   "source": [
    "### ¿Do I use one dataset or all of them? ¿How do I merge all the datasets?\n",
    "\n",
    "I think i can merge the datasets by just merging the images and labels paths. But for now I will just use the `kidney_1_dense` dataset."
   ]
  },
  {
   "cell_type": "markdown",
   "metadata": {},
   "source": [
    "### Dataset"
   ]
  },
  {
   "cell_type": "code",
   "execution_count": 5,
   "metadata": {},
   "outputs": [],
   "source": [
    "\n",
    "class KidneyDataset(torch.utils.data.Dataset):\n",
    "    def __init__(self, img_paths, msk_paths, transform=None, target_transform=None):\n",
    "        self.img_paths  = img_paths\n",
    "        self.msk_paths  = msk_paths\n",
    "        self.transform = transform\n",
    "        self.target_transform = target_transform\n",
    "        assert len(self.img_paths) == len(self.msk_paths)\n",
    "        \n",
    "    def __len__(self):\n",
    "        return len(self.img_paths)\n",
    "    \n",
    "    def __getitem__(self, idx):\n",
    "        img_path = self.img_paths[idx]\n",
    "        msk_path = self.msk_paths[idx]\n",
    "\n",
    "        img = Image.open(img_path)\n",
    "        msk = Image.open(msk_path)\n",
    "\n",
    "        if self.transform is not None:\n",
    "            img = self.transform(img)\n",
    "        if self.target_transform is not None:\n",
    "            msk = self.target_transform(msk)\n",
    "\n",
    "        return img, msk"
   ]
  },
  {
   "cell_type": "code",
   "execution_count": 6,
   "metadata": {},
   "outputs": [],
   "source": [
    "k1d_path = \"kidney_1_dense\"\n",
    "k1d_imgs_paths = sorted([f\"{train_dir}/{k1d_path}/images/{id}\" for id in os.listdir(f\"{train_dir}/{k1d_path}/images\")])\n",
    "k1d_msks_paths = sorted([f\"{train_dir}/{k1d_path}/labels/{id}\" for id in os.listdir(f\"{train_dir}/{k1d_path}/labels\")])\n",
    "\n",
    "k1d_ds = KidneyDataset(k1d_imgs_paths, k1d_msks_paths, transform=T.ToTensor(), target_transform=T.PILToTensor())"
   ]
  },
  {
   "cell_type": "code",
   "execution_count": 7,
   "metadata": {},
   "outputs": [
    {
     "name": "stdout",
     "output_type": "stream",
     "text": [
      "tensor([[[22229, 21842, 22422,  ..., 20789, 20733, 20711],\n",
      "         [22458, 22184, 22584,  ..., 21060, 20893, 20920],\n",
      "         [22308, 22078, 22214,  ..., 21242, 20942, 20640],\n",
      "         ...,\n",
      "         [21848, 21609, 22175,  ..., 21029, 20890, 21145],\n",
      "         [21573, 21569, 22062,  ..., 20899, 20983, 20793],\n",
      "         [21617, 21943, 22238,  ..., 21113, 20947, 20557]]], dtype=torch.int16)\n",
      "tensor([[[0, 0, 0,  ..., 0, 0, 0],\n",
      "         [0, 0, 0,  ..., 0, 0, 0],\n",
      "         [0, 0, 0,  ..., 0, 0, 0],\n",
      "         ...,\n",
      "         [0, 0, 0,  ..., 0, 0, 0],\n",
      "         [0, 0, 0,  ..., 0, 0, 0],\n",
      "         [0, 0, 0,  ..., 0, 0, 0]]], dtype=torch.uint8)\n",
      "torch.Size([1, 1303, 912])\n",
      "torch.Size([1, 1303, 912])\n"
     ]
    }
   ],
   "source": [
    "x, y = k1d_ds[0]\n",
    "print(x)\n",
    "print(y)\n",
    "print(x.shape)\n",
    "print(y.shape)"
   ]
  },
  {
   "cell_type": "markdown",
   "metadata": {},
   "source": [
    "## Define model"
   ]
  },
  {
   "cell_type": "code",
   "execution_count": 10,
   "metadata": {},
   "outputs": [],
   "source": [
    "class SegmentationModel(nn.Module):\n",
    "    def __init__(self, in_channels, num_classes):\n",
    "        super(SegmentationModel, self).__init__()\n",
    "\n",
    "        # Define the encoder - a series of convolutional layers\n",
    "        self.encoder = nn.Sequential(\n",
    "            nn.Conv2d(in_channels, 64, kernel_size=3, padding=1),\n",
    "            nn.ReLU(),\n",
    "            nn.Conv2d(64, 64, kernel_size=3, padding=1),\n",
    "            nn.ReLU(),\n",
    "            nn.MaxPool2d(kernel_size=2, stride=2)\n",
    "        )\n",
    "\n",
    "        # Define the decoder - a series of transposed convolutional layers\n",
    "        self.decoder = nn.Sequential(\n",
    "            nn.ConvTranspose2d(64, 64, kernel_size=2, stride=2),\n",
    "            nn.ReLU(),\n",
    "            nn.Conv2d(64, num_classes, kernel_size=3, padding=1)\n",
    "        )\n",
    "\n",
    "    def forward(self, x):\n",
    "        x = self.encoder(x)\n",
    "        x = self.decoder(x)\n",
    "        return x\n",
    "\n",
    "# Initialize the model with the desired input channels and number of classes\n",
    "model = SegmentationModel(in_channels=3, num_classes=2)\n",
    "\n",
    "# Use the model for a batch of input images\n",
    "input_batch = torch.rand(1, 3, 256, 256)\n",
    "output = model(input_batch)"
   ]
  },
  {
   "cell_type": "code",
   "execution_count": 11,
   "metadata": {},
   "outputs": [
    {
     "name": "stdout",
     "output_type": "stream",
     "text": [
      "tensor([[[[ 6.2274e-02,  3.7559e-02,  3.8789e-02,  ...,  3.7079e-02,\n",
      "            4.2650e-02,  2.8734e-02],\n",
      "          [ 3.7905e-02,  5.8133e-02,  3.6838e-02,  ...,  5.7836e-02,\n",
      "            3.8458e-02,  4.3214e-02],\n",
      "          [ 6.7339e-02,  4.0514e-02,  4.8800e-02,  ...,  4.0044e-02,\n",
      "            5.5550e-02,  2.5583e-02],\n",
      "          ...,\n",
      "          [ 4.5950e-02,  4.7073e-02,  5.4629e-02,  ...,  5.2956e-02,\n",
      "            3.7570e-02,  4.0345e-02],\n",
      "          [ 6.8837e-02,  4.0746e-02,  5.2075e-02,  ...,  3.9960e-02,\n",
      "            5.2678e-02,  2.8405e-02],\n",
      "          [ 4.5970e-02,  4.4272e-02,  3.3345e-02,  ...,  4.3463e-02,\n",
      "            4.5872e-02,  3.4378e-02]],\n",
      "\n",
      "         [[ 2.4114e-05, -3.1747e-03, -6.8101e-03,  ..., -1.1042e-03,\n",
      "           -9.0612e-03, -1.7117e-02],\n",
      "          [-1.9466e-02, -3.1621e-02, -2.9733e-02,  ..., -3.5240e-02,\n",
      "           -1.9901e-02, -1.9310e-02],\n",
      "          [ 7.2741e-04, -1.0017e-02, -2.8085e-02,  ..., -1.1614e-02,\n",
      "           -2.6728e-02, -2.3124e-02],\n",
      "          ...,\n",
      "          [-1.7682e-02, -3.1591e-02, -3.0596e-02,  ..., -2.9868e-02,\n",
      "           -3.3482e-02, -2.1816e-02],\n",
      "          [-5.4193e-03, -1.1178e-02, -2.5035e-02,  ..., -1.2062e-02,\n",
      "           -2.5857e-02, -2.0152e-02],\n",
      "          [-2.8619e-02, -3.7452e-02, -3.4955e-02,  ..., -3.3835e-02,\n",
      "           -3.9618e-02, -2.8444e-02]]]], grad_fn=<ConvolutionBackward0>)\n",
      "torch.Size([1, 2, 256, 256])\n"
     ]
    }
   ],
   "source": [
    "print(output)\n",
    "print(output.shape)"
   ]
  },
  {
   "cell_type": "markdown",
   "metadata": {},
   "source": [
    "## Define evaluation metric"
   ]
  },
  {
   "cell_type": "code",
   "execution_count": null,
   "metadata": {},
   "outputs": [],
   "source": [
    "class IouMetric:\n",
    "    def __init__(self, num_classes: int, int2str: dict, ignore_index: int = 255, prefix=\"train\"):\n",
    "        \"\"\"\n",
    "        Args:\n",
    "            num_classes: number of classes\n",
    "            int2str: dictionary mapping class index to class name\n",
    "            ignore_index: index to ignore in the metric calculations\n",
    "            prefix: prefix to use for logging\n",
    "        \"\"\"\n",
    "        self.area_intersect = torch.zeros(num_classes)\n",
    "        self.area_label = torch.zeros(num_classes)\n",
    "        self.area_pred = torch.zeros(num_classes)\n",
    "        self.num_classes = num_classes\n",
    "        self.int2str = int2str\n",
    "        self.ignore_index = ignore_index\n",
    "        self.prefix = prefix\n",
    "\n",
    "    def process(self, preds, labels):\n",
    "        mask = labels != self.ignore_index\n",
    "        preds = preds[mask]\n",
    "        labels = labels[mask]\n",
    "\n",
    "        # compute area of intersection, label and prediction\n",
    "        intersect = preds[preds == labels]\n",
    "        area_intersect = torch.histc(intersect.float(), bins=self.num_classes, min=0, max=self.num_classes - 1)\n",
    "        area_label = torch.histc(labels.float(), bins=self.num_classes, min=0, max=self.num_classes - 1)\n",
    "        area_pred = torch.histc(preds.float(), bins=self.num_classes, min=0, max=self.num_classes - 1)\n",
    "\n",
    "        # update results\n",
    "        self.area_intersect += area_intersect.cpu()\n",
    "        self.area_label += area_label.cpu()\n",
    "        self.area_pred += area_pred.cpu()\n",
    "\n",
    "    def compute(self) -> dict:\n",
    "        iou = self.area_intersect / (self.area_label + self.area_pred - self.area_intersect)\n",
    "        if 0 <= self.ignore_index <= self.num_classes - 1:\n",
    "            iou[self.ignore_index] = torch.nan\n",
    "        mean_iou = torch.nanmean(iou)\n",
    "\n",
    "        metrics = {\n",
    "            f\"{self.prefix}/iou_{self.int2str[idx]}\": iou[idx].item()\n",
    "            for idx in range(len(iou))\n",
    "            if idx != self.ignore_index\n",
    "        }\n",
    "        metrics[f\"{self.prefix}/mean_iou\"] = mean_iou.item()\n",
    "\n",
    "        return metrics\n",
    "\n",
    "    def reset(self):\n",
    "        self.area_intersect.zero_()\n",
    "        self.area_label.zero_()\n",
    "        self.area_pred.zero_()\n"
   ]
  },
  {
   "cell_type": "markdown",
   "metadata": {},
   "source": [
    "## Define loss function\n"
   ]
  },
  {
   "cell_type": "code",
   "execution_count": 9,
   "metadata": {},
   "outputs": [],
   "source": [
    "loss_fn = nn.BCEWithLogitsLoss()"
   ]
  },
  {
   "cell_type": "markdown",
   "metadata": {},
   "source": [
    "## Train model"
   ]
  },
  {
   "cell_type": "markdown",
   "metadata": {},
   "source": [
    "### Optimizer and scheduler"
   ]
  },
  {
   "cell_type": "markdown",
   "metadata": {},
   "source": [
    "### Train method"
   ]
  },
  {
   "cell_type": "markdown",
   "metadata": {},
   "source": [
    "### Evaluation method"
   ]
  },
  {
   "cell_type": "markdown",
   "metadata": {},
   "source": [
    "## Make submisssion"
   ]
  }
 ],
 "metadata": {
  "kernelspec": {
   "display_name": "base",
   "language": "python",
   "name": "python3"
  },
  "language_info": {
   "codemirror_mode": {
    "name": "ipython",
    "version": 3
   },
   "file_extension": ".py",
   "mimetype": "text/x-python",
   "name": "python",
   "nbconvert_exporter": "python",
   "pygments_lexer": "ipython3",
   "version": "3.10.12"
  }
 },
 "nbformat": 4,
 "nbformat_minor": 2
}
