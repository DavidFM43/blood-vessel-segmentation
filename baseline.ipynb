{
 "cells": [
  {
   "cell_type": "markdown",
   "metadata": {},
   "source": [
    "# Baseline"
   ]
  },
  {
   "cell_type": "code",
   "execution_count": 1,
   "metadata": {},
   "outputs": [
    {
     "name": "stdout",
     "output_type": "stream",
     "text": [
      "cuda\n"
     ]
    }
   ],
   "source": [
    "import torch\n",
    "from PIL import Image\n",
    "import torchvision.transforms as T\n",
    "from torch import nn\n",
    "import numpy as np\n",
    "from tqdm import tqdm\n",
    "import random\n",
    "import os\n",
    "import matplotlib.pyplot as plt\n",
    "from torch.utils.data import DataLoader\n",
    "import wandb\n",
    "\n",
    "device = \"cuda\" if torch.cuda.is_available() else \"cpu\"\n",
    "input_dir = \"/kaggle/input/blood-vessel-segmentation/\"\n",
    "train_dir = input_dir + \"train\"\n",
    "\n",
    "# reproducibility\n",
    "seed = 42\n",
    "np.random.seed(seed)\n",
    "random.seed(seed)\n",
    "torch.manual_seed(seed)\n",
    "torch.cuda.manual_seed(seed)\n",
    "torch.backends.cudnn.deterministic = True\n",
    "torch.backends.cudnn.benchmark = False\n",
    "os.environ['PYTHONHASHSEED'] = str(seed)\n",
    "\n",
    "\n",
    "print(device)"
   ]
  },
  {
   "cell_type": "markdown",
   "metadata": {},
   "source": [
    "## Load data"
   ]
  },
  {
   "cell_type": "markdown",
   "metadata": {},
   "source": [
    "**Datasets**\n",
    "\n",
    "- kidney_1_dense\t\n",
    "    - images\n",
    "    - labels\n",
    "- kidney_1_voi  \n",
    "    - images\n",
    "    - labels\n",
    "- kidney_2\t\n",
    "    - images\n",
    "    - labels\n",
    "- kidney_3_dense\t\n",
    "    - labels\n",
    "- kidney_3_sparse\n",
    "    - images\n",
    "    - labels"
   ]
  },
  {
   "cell_type": "markdown",
   "metadata": {},
   "source": [
    "### ¿Do I use one dataset or all of them? ¿How do I merge all the datasets?\n",
    "\n",
    "I think i can merge the datasets by just merging the images and labels paths. But for now I will just use the `kidney_1_dense` dataset."
   ]
  },
  {
   "cell_type": "markdown",
   "metadata": {},
   "source": [
    "### Dataset"
   ]
  },
  {
   "cell_type": "code",
   "execution_count": 2,
   "metadata": {},
   "outputs": [],
   "source": [
    "class KidneyDataset(torch.utils.data.Dataset):\n",
    "    def __init__(self, img_paths, msk_paths, transform=None, target_transform=None):\n",
    "        self.img_paths  = img_paths\n",
    "        self.msk_paths  = msk_paths\n",
    "        self.transform = transform\n",
    "        self.target_transform = target_transform\n",
    "        assert len(self.img_paths) == len(self.msk_paths)\n",
    "        \n",
    "    def __len__(self):\n",
    "        return len(self.img_paths)\n",
    "    \n",
    "    def __getitem__(self, idx):\n",
    "        img_path = self.img_paths[idx]\n",
    "        msk_path = self.msk_paths[idx]\n",
    "\n",
    "        img = Image.open(img_path)\n",
    "        msk = Image.open(msk_path)\n",
    "\n",
    "        if self.transform is not None:\n",
    "            img = self.transform(img)\n",
    "        if self.target_transform is not None:\n",
    "            msk = self.target_transform(msk).squeeze().float()\n",
    "\n",
    "        return img, msk"
   ]
  },
  {
   "cell_type": "code",
   "execution_count": 3,
   "metadata": {},
   "outputs": [],
   "source": [
    "k1d_path = \"kidney_1_dense\"\n",
    "h_resize, w_resize = 512, 512\n",
    "\n",
    "folder_path = os.path.join(train_dir, k1d_path)\n",
    "k1d_imgs_paths = sorted(os.path.join(folder_path, \"images\", file_name) for file_name in os.listdir(os.path.join(folder_path, \"images\")))\n",
    "k1d_msks_paths = sorted(os.path.join(folder_path, \"labels\", file_name) for file_name in os.listdir(os.path.join(folder_path, \"images\")))\n",
    "\n",
    "transform = T.Compose([\n",
    "    T.ToTensor(),  \n",
    "    T.ConvertImageDtype(torch.float32),\n",
    "    T.Resize((h_resize, w_resize), antialias=True)\n",
    "])\n",
    "\n",
    "target_transform = T.Compose([\n",
    "    T.PILToTensor(), \n",
    "    T.Resize((h_resize, w_resize), antialias=True)\n",
    "])\n",
    "\n",
    "k1d_ds = KidneyDataset(k1d_imgs_paths, k1d_msks_paths, transform=transform, target_transform=target_transform)"
   ]
  },
  {
   "cell_type": "code",
   "execution_count": 4,
   "metadata": {},
   "outputs": [],
   "source": [
    "g = torch.Generator().manual_seed(42)\n",
    "\n",
    "train_ds, eval_ds = torch.utils.data.random_split(\n",
    "    k1d_ds,\n",
    "    [0.8, 0.2],\n",
    "    generator=g\n",
    ")\n",
    "\n",
    "bs = 32\n",
    "num_workers = 2\n",
    "train_dl = DataLoader(train_ds, batch_size=bs, num_workers=num_workers, shuffle=True)\n",
    "eval_dl = DataLoader(eval_ds, batch_size=bs, num_workers=num_workers, shuffle=False)"
   ]
  },
  {
   "cell_type": "code",
   "execution_count": 5,
   "metadata": {},
   "outputs": [
    {
     "data": {
      "text/plain": [
       "(1824, 455)"
      ]
     },
     "execution_count": 5,
     "metadata": {},
     "output_type": "execute_result"
    }
   ],
   "source": [
    "len(train_ds), len(eval_ds)"
   ]
  },
  {
   "cell_type": "markdown",
   "metadata": {},
   "source": [
    "## Define model"
   ]
  },
  {
   "cell_type": "code",
   "execution_count": 6,
   "metadata": {},
   "outputs": [
    {
     "data": {
      "text/plain": [
       "SegmentationModel(\n",
       "  (encoder): Sequential(\n",
       "    (0): Conv2d(1, 64, kernel_size=(3, 3), stride=(1, 1), padding=(1, 1))\n",
       "    (1): ReLU()\n",
       "    (2): Conv2d(64, 64, kernel_size=(3, 3), stride=(1, 1), padding=(1, 1))\n",
       "    (3): ReLU()\n",
       "    (4): MaxPool2d(kernel_size=2, stride=2, padding=0, dilation=1, ceil_mode=False)\n",
       "  )\n",
       "  (decoder): Sequential(\n",
       "    (0): ConvTranspose2d(64, 64, kernel_size=(2, 2), stride=(2, 2))\n",
       "    (1): ReLU()\n",
       "    (2): Conv2d(64, 1, kernel_size=(3, 3), stride=(1, 1), padding=(1, 1))\n",
       "  )\n",
       ")"
      ]
     },
     "execution_count": 6,
     "metadata": {},
     "output_type": "execute_result"
    }
   ],
   "source": [
    "class SegmentationModel(nn.Module):\n",
    "    def __init__(self, in_channels, num_classes):\n",
    "        super(SegmentationModel, self).__init__()\n",
    "\n",
    "        # Define the encoder - a series of convolutional layers\n",
    "        self.encoder = nn.Sequential(\n",
    "            nn.Conv2d(in_channels, 64, kernel_size=3, padding=1),\n",
    "            nn.ReLU(),\n",
    "            nn.Conv2d(64, 64, kernel_size=3, padding=1),\n",
    "            nn.ReLU(),\n",
    "            nn.MaxPool2d(kernel_size=2, stride=2)\n",
    "        )\n",
    "\n",
    "        # Define the decoder - a series of transposed convolutional layers\n",
    "        self.decoder = nn.Sequential(\n",
    "            nn.ConvTranspose2d(64, 64, kernel_size=2, stride=2),\n",
    "            nn.ReLU(),\n",
    "            nn.Conv2d(64, num_classes, kernel_size=3, padding=1)\n",
    "        )\n",
    "\n",
    "    def forward(self, x):\n",
    "        x = self.encoder(x)\n",
    "        x = self.decoder(x)\n",
    "        return x\n",
    "\n",
    "# Initialize the model with the desired input channels and number of classes\n",
    "net = SegmentationModel(in_channels=1, num_classes=1)\n",
    "net.to(device)"
   ]
  },
  {
   "cell_type": "markdown",
   "metadata": {},
   "source": [
    "## Define evaluation metric"
   ]
  },
  {
   "cell_type": "code",
   "execution_count": 7,
   "metadata": {},
   "outputs": [],
   "source": [
    "class IouMetric:\n",
    "    def __init__(self, num_classes: int, int2str: dict, ignore_index: int = -1, prefix=\"train\"):\n",
    "        \"\"\"\n",
    "        Args:\n",
    "            num_classes: number of classes\n",
    "            int2str: dictionary mapping class index to class name\n",
    "            ignore_index: index to ignore in the metric calculations\n",
    "            prefix: prefix to use for logging\n",
    "        \"\"\"\n",
    "        self.area_intersect = torch.zeros(num_classes)\n",
    "        self.area_label = torch.zeros(num_classes)\n",
    "        self.area_pred = torch.zeros(num_classes)\n",
    "        self.num_classes = num_classes\n",
    "        self.int2str = int2str\n",
    "        self.ignore_index = ignore_index\n",
    "        self.prefix = prefix\n",
    "\n",
    "    def process(self, preds, labels):\n",
    "        mask = labels != self.ignore_index\n",
    "        preds = preds[mask]\n",
    "        labels = labels[mask]\n",
    "\n",
    "        # compute area of intersection, label and prediction\n",
    "        intersect = preds[preds == labels]\n",
    "        area_intersect = torch.histc(intersect.float(), bins=self.num_classes, min=0, max=self.num_classes - 1)\n",
    "        area_label = torch.histc(labels.float(), bins=self.num_classes, min=0, max=self.num_classes - 1)\n",
    "        area_pred = torch.histc(preds.float(), bins=self.num_classes, min=0, max=self.num_classes - 1)\n",
    "\n",
    "        # update results\n",
    "        self.area_intersect += area_intersect.cpu()\n",
    "        self.area_label += area_label.cpu()\n",
    "        self.area_pred += area_pred.cpu()\n",
    "\n",
    "    def compute(self) -> dict:\n",
    "        iou = self.area_intersect / (self.area_label + self.area_pred - self.area_intersect)\n",
    "        if 0 <= self.ignore_index <= self.num_classes - 1:\n",
    "            iou[self.ignore_index] = torch.nan\n",
    "        mean_iou = torch.nanmean(iou)\n",
    "\n",
    "        metrics = {\n",
    "            f\"{self.prefix}/iou_{self.int2str[idx]}\": iou[idx].item()\n",
    "            for idx in range(len(iou))\n",
    "            if idx != self.ignore_index\n",
    "        }\n",
    "        metrics[f\"{self.prefix}/mean_iou\"] = mean_iou.item()\n",
    "\n",
    "        return metrics\n",
    "\n",
    "    def reset(self):\n",
    "        self.area_intersect.zero_()\n",
    "        self.area_label.zero_()\n",
    "        self.area_pred.zero_()\n"
   ]
  },
  {
   "cell_type": "markdown",
   "metadata": {},
   "source": [
    "## Define loss function\n"
   ]
  },
  {
   "cell_type": "code",
   "execution_count": 8,
   "metadata": {},
   "outputs": [],
   "source": [
    "loss_fn = nn.BCEWithLogitsLoss()"
   ]
  },
  {
   "cell_type": "markdown",
   "metadata": {},
   "source": [
    "## Train model"
   ]
  },
  {
   "cell_type": "markdown",
   "metadata": {},
   "source": [
    "### Optimizer and scheduler"
   ]
  },
  {
   "cell_type": "code",
   "execution_count": 9,
   "metadata": {},
   "outputs": [],
   "source": [
    "lr = 1e-5\n",
    "optimizer = torch.optim.Adam(lr=lr, params=net.parameters())"
   ]
  },
  {
   "cell_type": "markdown",
   "metadata": {},
   "source": [
    "### Train method"
   ]
  },
  {
   "cell_type": "code",
   "execution_count": 10,
   "metadata": {},
   "outputs": [],
   "source": [
    "wandb_log = False\n",
    "# log training and data config\n",
    "if wandb_log:\n",
    "    wandb.login(key=wandb_key)\n",
    "    wandb.init(\n",
    "        project=\"blood-vessel-segmentation\",\n",
    "        config=dict(\n",
    "            optimizer=type(optimizer).__name__,\n",
    "            loss_fn=type(loss_fn).__name__,\n",
    "        ),\n",
    "    )\n",
    "# metrics\n",
    "train_iou = IouMetric(num_classes=2, int2str=[\"batckground\", \"Vessel\"], ignore_index=0)\n",
    "eval_iou = IouMetric(num_classes=2, int2str=[\"batckground\", \"Vessel\"], ignore_index=0, prefix=\"eval\")\n",
    "\n",
    "def train():\n",
    "    train_loss = 0.0\n",
    "    net.train()\n",
    "    for x, y in tqdm(train_dl):\n",
    "        x, y = x.to(device), y.to(device)\n",
    "\n",
    "        logits = net(x).squeeze()\n",
    "        loss = loss_fn(logits, y)\n",
    "\n",
    "        optimizer.zero_grad()\n",
    "        loss.backward()\n",
    "        optimizer.step()\n",
    "\n",
    "        preds = logits.sigmoid().round().detach()\n",
    "        train_iou.process(preds, y)\n",
    "\n",
    "        train_loss += loss.item()\n",
    "\n",
    "    train_loss /= len(train_dl)\n",
    "\n",
    "    metrics_dict = train_iou.compute()\n",
    "    print({\"epoch\": epoch, \"train/mean_loss\": train_loss, **metrics_dict})\n",
    "\n",
    "    if wandb_log:\n",
    "        wandb.log({\"epoch\": epoch, \"train/mean_loss\": train_loss, **metrics_dict})\n",
    "        train_iou.reset()"
   ]
  },
  {
   "cell_type": "code",
   "execution_count": 11,
   "metadata": {},
   "outputs": [],
   "source": [
    "def eval():\n",
    "    eval_loss = 0.0\n",
    "    net.eval()\n",
    "    for x, y in tqdm(eval_dl):\n",
    "        with torch.no_grad():\n",
    "            x, y = x.to(device), y.to(device)\n",
    "            logits = net(x).squeeze()\n",
    "            loss = loss_fn(logits, y)\n",
    "\n",
    "        preds = logits.sigmoid().round()\n",
    "        eval_iou.process(preds, y)\n",
    "\n",
    "        eval_loss += loss.item()\n",
    "\n",
    "    eval_loss /= len(eval_dl)\n",
    "\n",
    "    metrics_dict = eval_iou.compute()\n",
    "    print({\"epoch\": epoch, \"val/mean_loss\": eval_loss, **metrics_dict})\n",
    "    if wandb_log:\n",
    "        wandb.log({\"epoch\": epoch, \"val/mean_loss\": val_loss, **metrics_dict})\n",
    "    eval_iou.reset()\n",
    "\n"
   ]
  },
  {
   "cell_type": "code",
   "execution_count": 12,
   "metadata": {},
   "outputs": [
    {
     "name": "stdout",
     "output_type": "stream",
     "text": [
      "Epoch 0\n"
     ]
    },
    {
     "name": "stderr",
     "output_type": "stream",
     "text": [
      "100%|██████████| 57/57 [00:39<00:00,  1.43it/s]\n"
     ]
    },
    {
     "name": "stdout",
     "output_type": "stream",
     "text": [
      "{'epoch': 0, 'train/mean_loss': 0.652239061238473, 'train/iou_Vessel': 0.023031318560242653, 'train/mean_iou': 0.023031318560242653}\n"
     ]
    },
    {
     "name": "stderr",
     "output_type": "stream",
     "text": [
      "100%|██████████| 15/15 [00:10<00:00,  1.36it/s]\n"
     ]
    },
    {
     "name": "stdout",
     "output_type": "stream",
     "text": [
      "{'epoch': 0, 'val/mean_loss': 0.6412355224291484, 'eval/iou_Vessel': 0.023709958419203758, 'eval/mean_iou': 0.023709958419203758}\n",
      "Epoch 1\n"
     ]
    },
    {
     "name": "stderr",
     "output_type": "stream",
     "text": [
      "100%|██████████| 57/57 [00:38<00:00,  1.50it/s]\n"
     ]
    },
    {
     "name": "stdout",
     "output_type": "stream",
     "text": [
      "{'epoch': 1, 'train/mean_loss': 0.6181981824991996, 'train/iou_Vessel': 0.023083800449967384, 'train/mean_iou': 0.023083800449967384}\n"
     ]
    },
    {
     "name": "stderr",
     "output_type": "stream",
     "text": [
      "100%|██████████| 15/15 [00:05<00:00,  2.57it/s]\n"
     ]
    },
    {
     "name": "stdout",
     "output_type": "stream",
     "text": [
      "{'epoch': 1, 'val/mean_loss': 0.6077883203824361, 'eval/iou_Vessel': 0.023709958419203758, 'eval/mean_iou': 0.023709958419203758}\n",
      "Epoch 2\n"
     ]
    },
    {
     "name": "stderr",
     "output_type": "stream",
     "text": [
      "100%|██████████| 57/57 [00:38<00:00,  1.50it/s]\n"
     ]
    },
    {
     "name": "stdout",
     "output_type": "stream",
     "text": [
      "{'epoch': 2, 'train/mean_loss': 0.5754592585981938, 'train/iou_Vessel': 0.023100342601537704, 'train/mean_iou': 0.023100342601537704}\n"
     ]
    },
    {
     "name": "stderr",
     "output_type": "stream",
     "text": [
      "100%|██████████| 15/15 [00:05<00:00,  2.72it/s]"
     ]
    },
    {
     "name": "stdout",
     "output_type": "stream",
     "text": [
      "{'epoch': 2, 'val/mean_loss': 0.5633396744728089, 'eval/iou_Vessel': 0.023709958419203758, 'eval/mean_iou': 0.023709958419203758}\n"
     ]
    },
    {
     "name": "stderr",
     "output_type": "stream",
     "text": [
      "\n"
     ]
    }
   ],
   "source": [
    "epochs = 3\n",
    "for epoch in range(epochs):\n",
    "    print(\"Epoch\", epoch)\n",
    "    train()\n",
    "    eval()\n",
    "\n",
    "if wandb_log:\n",
    "    wandb.finish()\n"
   ]
  },
  {
   "cell_type": "markdown",
   "metadata": {},
   "source": [
    "### Evaluation method"
   ]
  },
  {
   "cell_type": "markdown",
   "metadata": {},
   "source": [
    "## Make submisssion"
   ]
  }
 ],
 "metadata": {
  "kernelspec": {
   "display_name": "base",
   "language": "python",
   "name": "python3"
  },
  "language_info": {
   "codemirror_mode": {
    "name": "ipython",
    "version": 3
   },
   "file_extension": ".py",
   "mimetype": "text/x-python",
   "name": "python",
   "nbconvert_exporter": "python",
   "pygments_lexer": "ipython3",
   "version": "3.10.12"
  }
 },
 "nbformat": 4,
 "nbformat_minor": 2
}
