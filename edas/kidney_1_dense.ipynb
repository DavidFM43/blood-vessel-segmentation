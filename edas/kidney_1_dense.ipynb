{
 "cells": [
  {
   "cell_type": "code",
   "execution_count": null,
   "metadata": {},
   "outputs": [],
   "source": [
    "import os\n",
    "import pandas as pd\n",
    "from PIL import Image\n",
    "import torch\n",
    "from torchvision.transforms import ToTensor\n",
    "from tqdm import tqdm\n",
    "import matplotlib.pyplot as plt\n",
    "import random\n",
    "import numpy as np"
   ]
  },
  {
   "cell_type": "code",
   "execution_count": null,
   "metadata": {},
   "outputs": [],
   "source": [
    "input_dir = \"/kaggle/input/blood-vessel-segmentation/\""
   ]
  },
  {
   "cell_type": "markdown",
   "metadata": {},
   "source": [
    "### ¿What are the files like?"
   ]
  },
  {
   "cell_type": "code",
   "execution_count": null,
   "metadata": {},
   "outputs": [],
   "source": [
    "k1_dense_path = f\"{input_dir}train/kidney_1_dense/\"\n",
    "k1_dense_imgs = pd.Series(os.listdir(f\"{k1_dense_path}images\")).sort_values().reset_index(drop=True)\n",
    "k1_dense_labels = pd.Series(os.listdir(f\"{k1_dense_path}labels\")).sort_values().reset_index(drop=True)\n",
    "\n",
    "display(k1_dense_imgs)\n",
    "display(k1_dense_labels)"
   ]
  },
  {
   "cell_type": "markdown",
   "metadata": {},
   "source": [
    "#### ¿How many of them are there?"
   ]
  },
  {
   "cell_type": "code",
   "execution_count": null,
   "metadata": {},
   "outputs": [],
   "source": [
    "k1_dense_imgs.nunique(), k1_dense_labels.nunique() "
   ]
  },
  {
   "cell_type": "markdown",
   "metadata": {},
   "source": [
    "### ¿All the images and masks have the same shapes?"
   ]
  },
  {
   "cell_type": "code",
   "execution_count": null,
   "metadata": {},
   "outputs": [],
   "source": [
    "# check if all the images have the same shape\n",
    "images_shapes = []\n",
    "for idx in tqdm(range(len(k1_dense_imgs))):\n",
    "    image = Image.open(k1_dense_path + \"images/\" + k1_dense_imgs[idx])\n",
    "    images_shapes.append((image.height, image.width))\n",
    "\n",
    "images_shapes = set(images_shapes)\n",
    "images_shapes"
   ]
  },
  {
   "cell_type": "code",
   "execution_count": null,
   "metadata": {},
   "outputs": [],
   "source": [
    "# check if all the labels have the same shape\n",
    "labels_shapes = []\n",
    "for idx in tqdm(range(len(k1_dense_labels))):\n",
    "    image = Image.open(k1_dense_path + \"labels/\" + k1_dense_labels[idx])\n",
    "    labels_shapes.append((image.height, image.width))\n",
    "\n",
    "labels_shapes = set(labels_shapes)\n",
    "labels_shapes"
   ]
  },
  {
   "cell_type": "markdown",
   "metadata": {},
   "source": [
    "### ¿What are the values of the masks?"
   ]
  },
  {
   "cell_type": "code",
   "execution_count": null,
   "metadata": {},
   "outputs": [],
   "source": [
    "mask_values = set()\n",
    "for idx in tqdm(range(len(k1_dense_labels))):\n",
    "    label = Image.open(k1_dense_path + \"labels/\" + k1_dense_labels[idx])\n",
    "    mask_values.update(ToTensor()(label).unique().tolist())\n",
    "print(mask_values)"
   ]
  },
  {
   "cell_type": "markdown",
   "metadata": {},
   "source": [
    "### ¿What is the proportion of blank masks?"
   ]
  },
  {
   "cell_type": "code",
   "execution_count": null,
   "metadata": {},
   "outputs": [],
   "source": [
    "c = 0\n",
    "for idx in tqdm(range(len(k1_dense_labels))):\n",
    "    label = Image.open(k1_dense_path + \"labels/\" + k1_dense_labels[idx])\n",
    "    all_blank = (~ToTensor()(label).bool()).all()\n",
    "    c = c + 1 if all_blank else c\n",
    "print(f\"Proportion of blank masks {c / len(k1_dense_labels) * 100 :.2f}%\")"
   ]
  },
  {
   "cell_type": "markdown",
   "metadata": {},
   "source": [
    "### ¿What about the values of the images?"
   ]
  },
  {
   "cell_type": "code",
   "execution_count": null,
   "metadata": {},
   "outputs": [],
   "source": [
    "idx = random.randint(0, len(k1_dense_imgs))\n",
    "\n",
    "image = ToTensor()(Image.open(k1_dense_path + \"images/\" + k1_dense_imgs[idx]))\n",
    "\n",
    "plt.hist(image.view(-1).numpy(), 50) \n",
    "\n",
    "plt.title(f'Histogram of Tensor Values of image {idx}')\n",
    "plt.xlabel('Value')\n",
    "plt.ylabel('Frequency')\n",
    "\n",
    "plt.show()"
   ]
  },
  {
   "cell_type": "markdown",
   "metadata": {},
   "source": [
    "**Observation**\n",
    "\n",
    "- As we can see the array values of some images take very different shapes."
   ]
  },
  {
   "cell_type": "markdown",
   "metadata": {},
   "source": [
    "### Let's look at some examples"
   ]
  },
  {
   "cell_type": "code",
   "execution_count": null,
   "metadata": {},
   "outputs": [],
   "source": [
    "# idx = random.randint(0, len(k1_dense_imgs))\n",
    "idx = 500\n",
    "\n",
    "print(k1_dense_path + \"images/\" + k1_dense_imgs[idx])\n",
    "image = Image.open(k1_dense_path + \"images/\" + k1_dense_imgs[idx])\n",
    "label = Image.open(k1_dense_path + \"labels/\" + k1_dense_labels[idx])\n",
    "\n",
    "fig, ax = plt.subplots(1, 2, figsize=(15, 11))\n",
    "ax[0].imshow(image)\n",
    "ax[1].imshow(label)\n",
    "\n",
    "print(\"Index\", idx, \"of\", len(k1_dense_imgs))\n",
    "plt.show()"
   ]
  },
  {
   "cell_type": "markdown",
   "metadata": {},
   "source": [
    "**Observations**\n",
    "\n",
    "- There seems to be background and kidney. The actual kidney section in the image varies in size from image to image.\n",
    "- The blood vessels are generaly round.\n",
    "    - They also seem to have a \"light\" border.\n",
    "- Most annnotations are REALLY small.\n",
    "- It appears to me that some images look sharper than others.\n",
    "- There are big light variations, compare indices 6 and 7. ¿Why is this?\n",
    "- Maybe some artifacts, like really bright and really dark spots."
   ]
  }
 ],
 "metadata": {
  "kernelspec": {
   "display_name": "base",
   "language": "python",
   "name": "python3"
  },
  "language_info": {
   "codemirror_mode": {
    "name": "ipython",
    "version": 3
   },
   "file_extension": ".py",
   "mimetype": "text/x-python",
   "name": "python",
   "nbconvert_exporter": "python",
   "pygments_lexer": "ipython3",
   "version": "3.10.12"
  }
 },
 "nbformat": 4,
 "nbformat_minor": 2
}
