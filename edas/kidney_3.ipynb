{
 "cells": [
  {
   "cell_type": "markdown",
   "metadata": {},
   "source": [
    "# Kidney 3 EDA"
   ]
  },
  {
   "cell_type": "code",
   "execution_count": 1,
   "metadata": {},
   "outputs": [
    {
     "name": "stderr",
     "output_type": "stream",
     "text": [
      "/opt/conda/lib/python3.10/site-packages/scipy/__init__.py:146: UserWarning: A NumPy version >=1.16.5 and <1.23.0 is required for this version of SciPy (detected version 1.24.3\n",
      "  warnings.warn(f\"A NumPy version >={np_minversion} and <{np_maxversion}\"\n"
     ]
    },
    {
     "name": "stdout",
     "output_type": "stream",
     "text": [
      "Hostname: 60c14e421bc7\n"
     ]
    }
   ],
   "source": [
    "import torch\n",
    "from PIL import Image\n",
    "import numpy as np\n",
    "from tqdm import tqdm\n",
    "import os\n",
    "import matplotlib.pyplot as plt\n",
    "import torch.nn.functional as F\n",
    "from torch.utils.data import DataLoader\n",
    "from surface_dice import SurfaceDiceMetric\n",
    "import albumentations as A\n",
    "from IPython.display import clear_output\n",
    "import random\n",
    "import segmentation_models_pytorch as smp\n",
    "from patcher import Patcher\n",
    "\n",
    "hostname = os.uname().nodename\n",
    "print(\"Hostname:\", hostname)\n",
    "input_dir = \"data/blood-vessel-segmentation/\" if hostname == \"gamma\" else \"/kaggle/input/blood-vessel-segmentation/\"\n",
    "\n",
    "\n",
    "device = \"cuda\" if torch.cuda.is_available() else \"cpu\"\n",
    "train_dir = input_dir + \"train/\"\n",
    "\n",
    "# reproducibility\n",
    "seed = 42\n",
    "np.random.seed(seed)\n",
    "random.seed(seed)\n",
    "torch.manual_seed(seed)\n",
    "torch.cuda.manual_seed(seed)\n",
    "torch.backends.cudnn.deterministic = True\n",
    "torch.backends.cudnn.benchmark = False\n",
    "os.environ[\"PYTHONHASHSEED\"] = str(seed)"
   ]
  },
  {
   "cell_type": "code",
   "execution_count": 2,
   "metadata": {},
   "outputs": [
    {
     "name": "stdout",
     "output_type": "stream",
     "text": [
      "Number of images: 1035\n",
      "Number of dense masks: 501\n",
      "Number of sparse masks: 1035\n"
     ]
    }
   ],
   "source": [
    "input_dir = \"/kaggle/input/blood-vessel-segmentation/\"\n",
    "train_dir = input_dir + \"train/\"\n",
    "dense_dir = train_dir + \"kidney_3_dense/\"\n",
    "sparse_dir = train_dir + \"kidney_3_sparse/\"\n",
    "\n",
    "imgs_ids = sorted(os.listdir(sparse_dir + \"images\"))\n",
    "dense_msks_ids = sorted(os.listdir(dense_dir + \"labels\"))\n",
    "sparse_msks_ids = sorted(os.listdir(sparse_dir + \"labels\"))\n",
    "\n",
    "print(\"Number of images:\", len(imgs_ids))\n",
    "print(\"Number of dense masks:\", len(dense_msks_ids))\n",
    "print(\"Number of sparse masks:\", len(sparse_msks_ids))"
   ]
  },
  {
   "cell_type": "code",
   "execution_count": null,
   "metadata": {},
   "outputs": [],
   "source": [
    "print(dense_msks_ids[:10])\n",
    "print(sparse_msks_ids[:10])"
   ]
  },
  {
   "cell_type": "markdown",
   "metadata": {},
   "source": [
    "### ¿Are the images with dense masks a subset of the images with sparse masks?\n",
    "\n",
    "Yes."
   ]
  },
  {
   "cell_type": "code",
   "execution_count": null,
   "metadata": {},
   "outputs": [],
   "source": [
    "sorted(list(set(dense_msks_ids) & set(sparse_msks_ids))) == dense_msks_ids\n"
   ]
  },
  {
   "cell_type": "code",
   "execution_count": null,
   "metadata": {},
   "outputs": [],
   "source": [
    "idx = torch.randint(len(dense_msks_ids), (1,)).item()\n",
    "\n",
    "\n",
    "img1 = np.array(Image.open(sparse_dir + \"labels/\" + dense_msks_ids[idx]))\n",
    "img2 = np.array(Image.open(dense_dir + \"labels/\" + dense_msks_ids[idx]))\n",
    "\n",
    "fig, axs = plt.subplots(1, 2, figsize=(10, 5))\n",
    "\n",
    "print(f\"Image ID: {idx + 496}\")\n",
    "axs[0].imshow(img1)\n",
    "axs[0].set_title(\"Sparse mask\")\n",
    "axs[1].imshow(img2)\n",
    "axs[1].set_title(\"Dense mask\")\n",
    "plt.show()\n"
   ]
  },
  {
   "cell_type": "markdown",
   "metadata": {},
   "source": [
    "### Comparison between sparse and dense labels using Surface Dice metric"
   ]
  },
  {
   "cell_type": "code",
   "execution_count": null,
   "metadata": {},
   "outputs": [],
   "source": [
    "class ComparisonDataset(torch.utils.data.Dataset):\n",
    "    def __init__(self, dir1, dir2, ids):\n",
    "        self.dir1 = dir1\n",
    "        self.dir2 = dir2\n",
    "        self.ids = ids\n",
    "\n",
    "    def __len__(self):\n",
    "        return len(self.ids)\n",
    "\n",
    "    def __getitem__(self, idx):\n",
    "        img1_path = self.dir1 + self.ids[idx]\n",
    "        img2_path = self.dir2 + self.ids[idx]\n",
    "        \n",
    "        img1 = Image.open(img1_path)\n",
    "        img2 = Image.open(img2_path)\n",
    "\n",
    "        img1 = torch.as_tensor(np.array(img1) / 255, dtype=torch.uint8)\n",
    "        img2 = torch.as_tensor(np.array(img2) / 255, dtype=torch.uint8)\n",
    "\n",
    "        return img1, img2"
   ]
  },
  {
   "cell_type": "code",
   "execution_count": null,
   "metadata": {},
   "outputs": [],
   "source": [
    "ds = ComparisonDataset(sparse_dir + \"labels/\", dense_dir + \"labels/\", dense_msks_ids)\n",
    "dl = torch.utils.data.DataLoader(ds, batch_size=16, shuffle=False, num_workers=os.cpu_count())"
   ]
  },
  {
   "cell_type": "code",
   "execution_count": null,
   "metadata": {},
   "outputs": [],
   "source": [
    "metric = SurfaceDiceMetric(len(dl), device)\n",
    "\n",
    "for imgs1, imgs2 in tqdm(dl):\n",
    "    imgs1, imgs2 = imgs1.to(device), imgs2.to(device)\n",
    "    metric.process_batch(imgs1, imgs2)\n",
    "\n",
    "dice = metric.compute()\n",
    "\n",
    "dice"
   ]
  },
  {
   "cell_type": "markdown",
   "metadata": {},
   "source": [
    "### Looking at the images"
   ]
  },
  {
   "cell_type": "code",
   "execution_count": 3,
   "metadata": {},
   "outputs": [],
   "source": [
    "class KidneyDataset(torch.utils.data.Dataset):\n",
    "    def __init__(self, imgs_dir, msks_dir, slices_ids, transforms=None):\n",
    "        self.imgs_dir = imgs_dir\n",
    "        self.msks_dir = msks_dir\n",
    "        self.slices_ids = slices_ids\n",
    "        self.transforms = transforms\n",
    "        self.h = Image.open(imgs_dir + slices_ids[0]).height\n",
    "        self.w = Image.open(imgs_dir + slices_ids[0]).width\n",
    "\n",
    "    def __len__(self):\n",
    "        return len(self.slices_ids)\n",
    "\n",
    "    def __getitem__(self, idx):\n",
    "        slice_id = self.slices_ids[idx]\n",
    "        img_path = self.imgs_dir + slice_id\n",
    "        msk_path = self.msks_dir + slice_id\n",
    "\n",
    "        img = np.array(Image.open(img_path), dtype=np.float32)\n",
    "        img = torch.from_numpy(img)\n",
    "\n",
    "        return img"
   ]
  },
  {
   "cell_type": "code",
   "execution_count": 4,
   "metadata": {},
   "outputs": [],
   "source": [
    "ds = KidneyDataset(sparse_dir + \"images/\", sparse_dir + \"labels/\", sparse_msks_ids)\n",
    "dl = DataLoader(ds, batch_size=len(ds), shuffle=False)"
   ]
  },
  {
   "cell_type": "code",
   "execution_count": 5,
   "metadata": {},
   "outputs": [],
   "source": [
    "x = next(iter(dl))"
   ]
  },
  {
   "cell_type": "code",
   "execution_count": 6,
   "metadata": {},
   "outputs": [
    {
     "data": {
      "text/plain": [
       "torch.Size([1035, 1706, 1510])"
      ]
     },
     "execution_count": 6,
     "metadata": {},
     "output_type": "execute_result"
    }
   ],
   "source": [
    "x.shape"
   ]
  },
  {
   "cell_type": "code",
   "execution_count": null,
   "metadata": {},
   "outputs": [],
   "source": [
    "d_dim = 2\n",
    "if d_dim == 0:\n",
    "    x_tr = x.numpy().astype(np.uint16)\n",
    "else:\n",
    "    x_tr = x.transpose(0, d_dim).numpy().astype(np.uint16)\n",
    "\n",
    "\n",
    "for idx in range(0, len(x_tr), 20):\n",
    "    plt.title(f\"Slice {idx + 1} of {len(x_tr)}\")\n",
    "    plt.imshow(x_tr[idx])\n",
    "    plt.axis(\"off\")\n",
    "    plt.show()\n",
    "    clear_output(wait=True)\n",
    "\n"
   ]
  },
  {
   "cell_type": "code",
   "execution_count": 12,
   "metadata": {},
   "outputs": [
    {
     "data": {
      "image/png": "[encoded data removed]",
      "text/plain": [
       "<Figure size 640x480 with 1 Axes>"
      ]
     },
     "metadata": {},
     "output_type": "display_data"
    }
   ],
   "source": [
    "def make_digonal_slice(shape=[100,120,150]):#D, H, W\n",
    "    D, H, W = shape\n",
    "\n",
    "    S = max(H,W)\n",
    "    L = min(H,W)\n",
    "    L = int(0.25*((L**2+L**2)**0.5))\n",
    "\n",
    "    x,y = np.arange(S), np.arange(S)\n",
    "\n",
    "    #diag = np.stack([np.arange(S),np.arange(S)]) #shape (2, 150)\n",
    "    #diagy = diag + np.stack([np.arange(S),np.zeros(S)])\n",
    "\n",
    "    coord1=[]\n",
    "    coord2=[]\n",
    "    for h in range(H):\n",
    "        xx = x\n",
    "        yy = y+h\n",
    "        valid = (yy>=0) & (yy<H) & (xx>=0) & (xx<W)\n",
    "        if valid.sum()>L:\n",
    "            yy1, xx1 =yy[valid], xx[valid]\n",
    "            coord1.append([yy1, xx1])\n",
    "\n",
    "            yy2 = yy1\n",
    "            xx2 = W-1-xx1#np.ascontiguousarray(xx1[::-1])\n",
    "            coord2.append([yy2, xx2])\n",
    "\n",
    "    for w in range(1,W):\n",
    "        xx = x+w\n",
    "        yy = y\n",
    "        valid = (yy>=0) & (yy<H) & (xx>=0) & (xx<W)\n",
    "        if valid.sum()>L:\n",
    "            yy1, xx1 =yy[valid], xx[valid]\n",
    "            coord1.append([yy1, xx1])\n",
    "\n",
    "            yy2 = yy1\n",
    "            xx2 = W-1-xx1\n",
    "            coord2.append([yy2, xx2])\n",
    "\n",
    "    coord = coord1+coord2\n",
    "    return coord\n",
    "\n",
    "\n",
    "x1 = x.transpose(0, 2).numpy().astype(np.uint16)\n",
    "D, H, W = x1.shape\n",
    "coord = make_digonal_slice(shape=[D, H, W])\n",
    "\n",
    "\n",
    "for idx in range(0, len(coord), 50):\n",
    "    idx_y, idx_x = coord[idx]\n",
    "    slice = x1[:, idx_y, idx_x]\n",
    "    plt.imshow(slice)\n",
    "    plt.axis(\"off\")\n",
    "    plt.show()\n",
    "    clear_output(wait=True)"
   ]
  }
 ],
 "metadata": {
  "kernelspec": {
   "display_name": "base",
   "language": "python",
   "name": "python3"
  },
  "language_info": {
   "codemirror_mode": {
    "name": "ipython",
    "version": 3
   },
   "file_extension": ".py",
   "mimetype": "text/x-python",
   "name": "python",
   "nbconvert_exporter": "python",
   "pygments_lexer": "ipython3",
   "version": "3.10.12"
  }
 },
 "nbformat": 4,
 "nbformat_minor": 2
}
