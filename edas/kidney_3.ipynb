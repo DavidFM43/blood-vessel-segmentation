{
 "cells": [
  {
   "cell_type": "markdown",
   "metadata": {},
   "source": [
    "# Kidney 3 EDA"
   ]
  },
  {
   "cell_type": "code",
   "execution_count": 1,
   "metadata": {},
   "outputs": [],
   "source": [
    "import os\n",
    "from surface_dice import SurfaceDiceMetric\n",
    "import pandas as pd\n",
    "from PIL import Image\n",
    "import torch\n",
    "from torchvision.transforms import ToTensor\n",
    "from tqdm import tqdm\n",
    "import matplotlib.pyplot as plt\n",
    "import random\n",
    "import numpy as np\n",
    "\n",
    "device = \"cuda\" if torch.cuda.is_available() else \"cpu\""
   ]
  },
  {
   "cell_type": "code",
   "execution_count": 2,
   "metadata": {},
   "outputs": [
    {
     "name": "stdout",
     "output_type": "stream",
     "text": [
      "Number of dense masks: 501\n",
      "Number of sparse masks: 1035\n"
     ]
    }
   ],
   "source": [
    "input_dir = \"/kaggle/input/blood-vessel-segmentation/\"\n",
    "train_dir = input_dir + \"train/\"\n",
    "dense_dir = train_dir + \"kidney_3_dense/\"\n",
    "sparse_dir = train_dir + \"kidney_3_sparse/\"\n",
    "\n",
    "dense_msks = sorted(os.listdir(dense_dir + \"labels\"))\n",
    "sparse_msks = sorted(os.listdir(sparse_dir + \"labels\"))\n",
    "\n",
    "print(\"Number of dense masks:\", len(dense_msks))\n",
    "print(\"Number of sparse masks:\", len(sparse_msks))"
   ]
  },
  {
   "cell_type": "code",
   "execution_count": 3,
   "metadata": {},
   "outputs": [
    {
     "name": "stdout",
     "output_type": "stream",
     "text": [
      "['0496.tif', '0497.tif', '0498.tif', '0499.tif', '0500.tif', '0501.tif', '0502.tif', '0503.tif', '0504.tif', '0505.tif']\n",
      "['0000.tif', '0001.tif', '0002.tif', '0003.tif', '0004.tif', '0005.tif', '0006.tif', '0007.tif', '0008.tif', '0009.tif']\n"
     ]
    }
   ],
   "source": [
    "print(dense_msks[:10])\n",
    "print(sparse_msks[:10])"
   ]
  },
  {
   "cell_type": "markdown",
   "metadata": {},
   "source": [
    "### ¿Are the images with dense masks a subset of the images with sparse masks?\n",
    "\n",
    "Yes."
   ]
  },
  {
   "cell_type": "code",
   "execution_count": 4,
   "metadata": {},
   "outputs": [
    {
     "data": {
      "text/plain": [
       "True"
      ]
     },
     "execution_count": 4,
     "metadata": {},
     "output_type": "execute_result"
    }
   ],
   "source": [
    "sorted(list(set(dense_msks) & set(sparse_msks))) == dense_msks\n"
   ]
  },
  {
   "cell_type": "code",
   "execution_count": 5,
   "metadata": {},
   "outputs": [
    {
     "name": "stdout",
     "output_type": "stream",
     "text": [
      "Image ID: 737\n"
     ]
    },
    {
     "data": {
      "image/png": "[encoded data removed]",
      "text/plain": [
       "<Figure size 1000x500 with 2 Axes>"
      ]
     },
     "metadata": {},
     "output_type": "display_data"
    }
   ],
   "source": [
    "idx = torch.randint(len(dense_msks), (1,)).item()\n",
    "\n",
    "\n",
    "img1 = np.array(Image.open(sparse_dir + \"labels/\" + dense_msks[idx]))\n",
    "img2 = np.array(Image.open(dense_dir + \"labels/\" + dense_msks[idx]))\n",
    "\n",
    "fig, axs = plt.subplots(1, 2, figsize=(10, 5))\n",
    "\n",
    "print(f\"Image ID: {idx + 496}\")\n",
    "axs[0].imshow(img1)\n",
    "axs[0].set_title(\"Sparse mask\")\n",
    "axs[1].imshow(img2)\n",
    "axs[1].set_title(\"Dense mask\")\n",
    "plt.show()\n"
   ]
  },
  {
   "cell_type": "markdown",
   "metadata": {},
   "source": [
    "### Comparison using Surface Dice metric"
   ]
  },
  {
   "cell_type": "code",
   "execution_count": 6,
   "metadata": {},
   "outputs": [],
   "source": [
    "class ComparisonDataset(torch.utils.data.Dataset):\n",
    "    def __init__(self, dir1, dir2, ids):\n",
    "        self.dir1 = dir1\n",
    "        self.dir2 = dir2\n",
    "        self.ids = ids\n",
    "\n",
    "    def __len__(self):\n",
    "        return len(self.ids)\n",
    "\n",
    "    def __getitem__(self, idx):\n",
    "        img1_path = self.dir1 + self.ids[idx]\n",
    "        img2_path = self.dir2 + self.ids[idx]\n",
    "        \n",
    "        img1 = Image.open(img1_path)\n",
    "        img2 = Image.open(img2_path)\n",
    "\n",
    "        img1 = torch.as_tensor(np.array(img1) / 255, dtype=torch.uint8)\n",
    "        img2 = torch.as_tensor(np.array(img2) / 255, dtype=torch.uint8)\n",
    "\n",
    "        return img1, img2"
   ]
  },
  {
   "cell_type": "code",
   "execution_count": 7,
   "metadata": {},
   "outputs": [],
   "source": [
    "ds = ComparisonDataset(sparse_dir + \"labels/\", dense_dir + \"labels/\", dense_msks)\n",
    "dl = torch.utils.data.DataLoader(ds, batch_size=16, shuffle=False, num_workers=os.cpu_count())"
   ]
  },
  {
   "cell_type": "code",
   "execution_count": 8,
   "metadata": {},
   "outputs": [
    {
     "name": "stderr",
     "output_type": "stream",
     "text": [
      "  0%|          | 0/32 [00:00<?, ?it/s]"
     ]
    },
    {
     "name": "stderr",
     "output_type": "stream",
     "text": [
      "100%|██████████| 32/32 [01:46<00:00,  3.32s/it]\n"
     ]
    },
    {
     "data": {
      "text/plain": [
       "0.9814293384552002"
      ]
     },
     "execution_count": 8,
     "metadata": {},
     "output_type": "execute_result"
    }
   ],
   "source": [
    "metric = SurfaceDiceMetric(len(dl), device)\n",
    "\n",
    "for imgs1, imgs2 in tqdm(dl):\n",
    "    imgs1, imgs2 = imgs1.to(device), imgs2.to(device)\n",
    "    metric.process_batch(imgs1, imgs2)\n",
    "\n",
    "dice = metric.compute()\n",
    "\n",
    "dice"
   ]
  }
 ],
 "metadata": {
  "kernelspec": {
   "display_name": "base",
   "language": "python",
   "name": "python3"
  },
  "language_info": {
   "codemirror_mode": {
    "name": "ipython",
    "version": 3
   },
   "file_extension": ".py",
   "mimetype": "text/x-python",
   "name": "python",
   "nbconvert_exporter": "python",
   "pygments_lexer": "ipython3",
   "version": "3.10.12"
  }
 },
 "nbformat": 4,
 "nbformat_minor": 2
}
