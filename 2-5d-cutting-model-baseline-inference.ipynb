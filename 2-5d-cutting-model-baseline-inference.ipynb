{
 "cells": [
  {
   "cell_type": "markdown",
   "id": "1708ead6",
   "metadata": {
    "papermill": {
     "duration": 0.004648,
     "end_time": "2023-12-27T11:41:57.379325",
     "exception": false,
     "start_time": "2023-12-27T11:41:57.374677",
     "status": "completed"
    },
    "tags": []
   },
   "source": [
    "**This code is base on [2.5d segmentaion baseline [inference]](https://www.kaggle.com/code/tanakar/2-5d-segmentaion-baseline-inference)**\n",
    "If you think my code is useful,please upvote it ^w^.\n",
    "* Version2:\n",
    "1. *     updata normalization method\n",
    "2. *     image_size = 512\n",
    "3. *     useing 3d TTA\n",
    "4. *     se_resnext50_32x4d\n",
    "\n",
    "* Version3:\n",
    "1. *     updata normalization method\n",
    "\n",
    "* This version is correspond with [2.5d segmentaion baseline [training]](https://www.kaggle.com/code/yoyobar/2-5d-cutting-model-baseline-training) version6\n"
   ]
  },
  {
   "cell_type": "markdown",
   "id": "397a568e",
   "metadata": {
    "papermill": {
     "duration": 0.003959,
     "end_time": "2023-12-27T11:41:57.387724",
     "exception": false,
     "start_time": "2023-12-27T11:41:57.383765",
     "status": "completed"
    },
    "tags": []
   },
   "source": [
    "# Import"
   ]
  },
  {
   "cell_type": "code",
   "execution_count": 1,
   "id": "bf8ae77d",
   "metadata": {
    "_cell_guid": "b1076dfc-b9ad-4769-8c92-a6c4dae69d19",
    "_kg_hide-input": true,
    "_kg_hide-output": true,
    "_uuid": "8f2839f25d086af736a60e9eeb907d3b93b6e0e5",
    "execution": {
     "iopub.execute_input": "2023-12-27T11:41:57.397115Z",
     "iopub.status.busy": "2023-12-27T11:41:57.396791Z",
     "iopub.status.idle": "2023-12-27T11:42:22.986263Z",
     "shell.execute_reply": "2023-12-27T11:42:22.985265Z"
    },
    "papermill": {
     "duration": 25.596817,
     "end_time": "2023-12-27T11:42:22.988670",
     "exception": false,
     "start_time": "2023-12-27T11:41:57.391853",
     "status": "completed"
    },
    "tags": []
   },
   "outputs": [],
   "source": [
    "import torch as tc \n",
    "import torch.nn as nn  \n",
    "import numpy as np\n",
    "from tqdm import tqdm\n",
    "from torch.cuda.amp import autocast\n",
    "import cv2\n",
    "import os,sys\n",
    "from glob import glob\n",
    "import matplotlib.pyplot as plt\n",
    "import pandas as pd\n",
    "# !python -m pip install --no-index --find-links=/kaggle/input/pip-download-for-segmentation-models-pytorch segmentation-models-pytorch\n",
    "import segmentation_models_pytorch as smp\n",
    "from torch.utils.data import Dataset, DataLoader\n",
    "from torch.nn.parallel import DataParallel\n",
    "from dotenv import load_dotenv\n"
   ]
  },
  {
   "cell_type": "markdown",
   "id": "1686f5c8",
   "metadata": {
    "papermill": {
     "duration": 0.006225,
     "end_time": "2023-12-27T11:42:23.001642",
     "exception": false,
     "start_time": "2023-12-27T11:42:22.995417",
     "status": "completed"
    },
    "tags": []
   },
   "source": [
    "# config"
   ]
  },
  {
   "cell_type": "code",
   "execution_count": 2,
   "id": "c2759b25",
   "metadata": {
    "execution": {
     "iopub.execute_input": "2023-12-27T11:42:23.015834Z",
     "iopub.status.busy": "2023-12-27T11:42:23.015538Z",
     "iopub.status.idle": "2023-12-27T11:42:23.021036Z",
     "shell.execute_reply": "2023-12-27T11:42:23.020201Z"
    },
    "papermill": {
     "duration": 0.014663,
     "end_time": "2023-12-27T11:42:23.022860",
     "exception": false,
     "start_time": "2023-12-27T11:42:23.008197",
     "status": "completed"
    },
    "tags": []
   },
   "outputs": [],
   "source": [
    "class CFG:\n",
    "# ============== model CFG =============\n",
    "    model_name = 'Unet'\n",
    "    backbone = 'se_resnext50_32x4d'\n",
    "\n",
    "    in_chans = 5 # 65\n",
    "    #============== _ CFG =============\n",
    "    image_size = 512\n",
    "    input_size=512\n",
    "    tile_size = image_size\n",
    "    stride = tile_size // 4\n",
    "    drop_egde_pixel=32\n",
    "    \n",
    "    target_size = 1\n",
    "    chopping_percentile=1e-3\n",
    "    # ============== fold =============\n",
    "    valid_id = 1\n",
    "    batch=128\n",
    "    th_percentile = 0.0021\n",
    "    model_path=[\"/kaggle/input/sennet-yoyobar-v6-model/se_resnext50_32x4d_19_loss0.12_score0.79_val_loss0.25_val_score0.79.pt\"]\n",
    "    # model_path=[\"/kaggle/input/2-5d-cutting-model-baseline-training/se_resnext50_32x4d_19_loss0.12_score0.79_val_loss0.25_val_score0.79.pt\"]\n"
   ]
  },
  {
   "cell_type": "markdown",
   "id": "c7f5c111",
   "metadata": {
    "papermill": {
     "duration": 0.006065,
     "end_time": "2023-12-27T11:42:23.035384",
     "exception": false,
     "start_time": "2023-12-27T11:42:23.029319",
     "status": "completed"
    },
    "tags": []
   },
   "source": [
    "# Model"
   ]
  },
  {
   "cell_type": "code",
   "execution_count": 3,
   "id": "af32718d",
   "metadata": {
    "execution": {
     "iopub.execute_input": "2023-12-27T11:42:23.049575Z",
     "iopub.status.busy": "2023-12-27T11:42:23.049317Z",
     "iopub.status.idle": "2023-12-27T11:42:23.062968Z",
     "shell.execute_reply": "2023-12-27T11:42:23.062142Z"
    },
    "papermill": {
     "duration": 0.022921,
     "end_time": "2023-12-27T11:42:23.064756",
     "exception": false,
     "start_time": "2023-12-27T11:42:23.041835",
     "status": "completed"
    },
    "tags": []
   },
   "outputs": [],
   "source": [
    "class CustomModel(nn.Module):\n",
    "    def __init__(self, CFG, weight=None):\n",
    "        super().__init__()\n",
    "        self.CFG = CFG\n",
    "        self.model = smp.Unet(\n",
    "            encoder_name=CFG.backbone, \n",
    "            encoder_weights=weight,\n",
    "            in_channels=CFG.in_chans,\n",
    "            classes=CFG.target_size,\n",
    "            activation=None,\n",
    "        )\n",
    "        self.batch=CFG.batch\n",
    "\n",
    "    def forward_(self, image):\n",
    "        output = self.model(image)\n",
    "        return output[:,0]\n",
    "    \n",
    "    def forward(self,x:tc.Tensor):\n",
    "        #x.shape=(batch,c,h,w)\n",
    "        x=x.to(tc.float32)\n",
    "        x=norm_with_clip(x.reshape(-1,*x.shape[2:])).reshape(x.shape)\n",
    "        \n",
    "        if CFG.input_size!=CFG.image_size:\n",
    "            x=nn.functional.interpolate(x,size=(CFG.input_size,CFG.input_size),mode='bilinear',align_corners=True)\n",
    "        \n",
    "        shape=x.shape\n",
    "        x=[tc.rot90(x,k=i,dims=(-2,-1)) for i in range(4)]\n",
    "        x=tc.cat(x,dim=0)\n",
    "        with autocast():\n",
    "            with tc.no_grad():\n",
    "                x=[self.forward_(x[i*self.batch:(i+1)*self.batch]) for i in range(x.shape[0]//self.batch+1)]\n",
    "                # batch=64,64...48\n",
    "                x=tc.cat(x,dim=0)\n",
    "        x=x.sigmoid()\n",
    "        x=x.reshape(4,shape[0],*shape[2:])\n",
    "        x=[tc.rot90(x[i],k=-i,dims=(-2,-1)) for i in range(4)]\n",
    "        x=tc.stack(x,dim=0).mean(0)\n",
    "        \n",
    "        if CFG.input_size!=CFG.image_size:\n",
    "            x=nn.functional.interpolate(x[None],size=(CFG.image_size,CFG.image_size),mode='bilinear',align_corners=True)[0]\n",
    "        return x\n",
    "\n",
    "\n",
    "def build_model(weight=None):\n",
    "    load_dotenv()\n",
    "\n",
    "    print('model_name', CFG.model_name)\n",
    "    print('backbone', CFG.backbone)\n",
    "\n",
    "    model = CustomModel(CFG, weight)\n",
    "\n",
    "    return model.cuda()"
   ]
  },
  {
   "cell_type": "markdown",
   "id": "009d2643",
   "metadata": {
    "papermill": {
     "duration": 0.006193,
     "end_time": "2023-12-27T11:42:23.077521",
     "exception": false,
     "start_time": "2023-12-27T11:42:23.071328",
     "status": "completed"
    },
    "tags": []
   },
   "source": [
    "# Functions"
   ]
  },
  {
   "cell_type": "code",
   "execution_count": 4,
   "id": "890e69e4",
   "metadata": {
    "execution": {
     "iopub.execute_input": "2023-12-27T11:42:23.091629Z",
     "iopub.status.busy": "2023-12-27T11:42:23.091375Z",
     "iopub.status.idle": "2023-12-27T11:42:23.116461Z",
     "shell.execute_reply": "2023-12-27T11:42:23.115690Z"
    },
    "papermill": {
     "duration": 0.034334,
     "end_time": "2023-12-27T11:42:23.118201",
     "exception": false,
     "start_time": "2023-12-27T11:42:23.083867",
     "status": "completed"
    },
    "tags": []
   },
   "outputs": [],
   "source": [
    "def rle_encode(mask):\n",
    "    pixel = mask.flatten()\n",
    "    pixel = np.concatenate([[0], pixel, [0]])\n",
    "    run = np.where(pixel[1:] != pixel[:-1])[0] + 1\n",
    "    run[1::2] -= run[::2]\n",
    "    rle = ' '.join(str(r) for r in run)\n",
    "    if rle == '':\n",
    "        rle = '1 0'\n",
    "    return rle\n",
    "\n",
    "def min_max_normalization(x:tc.Tensor)->tc.Tensor:\n",
    "    \"\"\"input.shape=(batch,f1,...)\"\"\"\n",
    "    shape=x.shape\n",
    "    if x.ndim>2:\n",
    "        x=x.reshape(x.shape[0],-1)\n",
    "    \n",
    "    min_=x.min(dim=-1,keepdim=True)[0]\n",
    "    max_=x.max(dim=-1,keepdim=True)[0]\n",
    "    if min_.mean()==0 and max_.mean()==1:\n",
    "        return x.reshape(shape)\n",
    "    \n",
    "    x=(x-min_)/(max_-min_+1e-9)\n",
    "    return x.reshape(shape)\n",
    "\n",
    "def norm_with_clip(x:tc.Tensor,smooth=1e-5):\n",
    "    dim=list(range(1,x.ndim))\n",
    "    mean=x.mean(dim=dim,keepdim=True)\n",
    "    std=x.std(dim=dim,keepdim=True)\n",
    "    x=(x-mean)/(std+smooth)\n",
    "    x[x>5]=(x[x>5]-5)*1e-3 +5\n",
    "    x[x<-3]=(x[x<-3]+3)*1e-3-3\n",
    "    return x\n",
    "\n",
    "class Data_loader(Dataset):\n",
    "    def __init__(self,path,s=\"/images/\"):\n",
    "        self.paths=glob(path+f\"{s}*.tif\")\n",
    "        self.paths.sort()\n",
    "        self.bool=s==\"/labels/\"\n",
    "    \n",
    "    def __len__(self):\n",
    "        return len(self.paths)\n",
    "    \n",
    "    def __getitem__(self,index):\n",
    "        img=cv2.imread(self.paths[index],cv2.IMREAD_GRAYSCALE)\n",
    "        img=tc.from_numpy(img)\n",
    "        if self.bool:\n",
    "            img=img.to(tc.bool)\n",
    "        else:\n",
    "            img=img.to(tc.uint8)\n",
    "        return img\n",
    "\n",
    "def load_data(path,s):\n",
    "    data_loader=Data_loader(path,s)\n",
    "    data_loader=DataLoader(data_loader, batch_size=16, num_workers=2)\n",
    "    data=[]\n",
    "    for x in tqdm(data_loader):\n",
    "        data.append(x)\n",
    "    x=tc.cat(data,dim=0)\n",
    "    ########################################################################\n",
    "    TH=x.reshape(-1).numpy()\n",
    "    index = -int(len(TH) * CFG.chopping_percentile)\n",
    "    TH:int = np.partition(TH, index)[index]\n",
    "    x[x>TH]=int(TH)\n",
    "    ########################################################################\n",
    "    TH=x.reshape(-1).numpy()\n",
    "    index = -int(len(TH) * CFG.chopping_percentile)\n",
    "    TH:int = np.partition(TH, -index)[-index]\n",
    "    x[x<TH]=int(TH)\n",
    "    ########################################################################\n",
    "    #x=(min_max_normalization(x.to(tc.float16))*255).to(tc.uint8)\n",
    "    return x\n",
    "\n",
    "class Pipeline_Dataset(Dataset):\n",
    "    def __init__(self,x,path):\n",
    "        self.img_paths  = glob(path+\"/images/*\")\n",
    "        self.img_paths.sort()\n",
    "        self.in_chan = CFG.in_chans\n",
    "        z=tc.zeros(self.in_chan//2,*x.shape[1:],dtype=x.dtype)\n",
    "        self.x=tc.cat((z,x,z),dim=0)\n",
    "        \n",
    "    def __len__(self):\n",
    "        return self.x.shape[0]-self.in_chan+1\n",
    "    \n",
    "    def __getitem__(self, index):\n",
    "        x  = self.x[index:index+self.in_chan]\n",
    "        return x,index\n",
    "    \n",
    "    def get_mark(self,index):\n",
    "        id=self.img_paths[index].split(\"/\")[-3:]\n",
    "        id.pop(1)\n",
    "        id=\"_\".join(id)\n",
    "        return id[:-4]\n",
    "    \n",
    "    def get_marks(self):\n",
    "        ids=[]\n",
    "        for index in range(len(self)):\n",
    "            ids.append(self.get_mark(index))\n",
    "        return ids\n",
    "\n",
    "def add_edge(x:tc.Tensor,edge:int):\n",
    "    #x=(C,H,W)\n",
    "    #output=(C,H+2*edge,W+2*edge)\n",
    "    mean_=int(x.to(tc.float32).mean())\n",
    "    x=tc.cat([x,tc.ones([x.shape[0],edge,x.shape[2]],dtype=x.dtype,device=x.device)*mean_],dim=1)\n",
    "    x=tc.cat([x,tc.ones([x.shape[0],x.shape[1],edge],dtype=x.dtype,device=x.device)*mean_],dim=2)\n",
    "    x=tc.cat([tc.ones([x.shape[0],edge,x.shape[2]],dtype=x.dtype,device=x.device)*mean_,x],dim=1)\n",
    "    x=tc.cat([tc.ones([x.shape[0],x.shape[1],edge],dtype=x.dtype,device=x.device)*mean_,x],dim=2)\n",
    "    return x"
   ]
  },
  {
   "cell_type": "markdown",
   "id": "497fae6d",
   "metadata": {
    "papermill": {
     "duration": 0.00631,
     "end_time": "2023-12-27T11:42:23.130760",
     "exception": false,
     "start_time": "2023-12-27T11:42:23.124450",
     "status": "completed"
    },
    "tags": []
   },
   "source": [
    "# Build model(s)"
   ]
  },
  {
   "cell_type": "code",
   "execution_count": 5,
   "id": "d41e2b92",
   "metadata": {
    "execution": {
     "iopub.execute_input": "2023-12-27T11:42:23.144802Z",
     "iopub.status.busy": "2023-12-27T11:42:23.144125Z",
     "iopub.status.idle": "2023-12-27T11:42:27.857775Z",
     "shell.execute_reply": "2023-12-27T11:42:27.856867Z"
    },
    "papermill": {
     "duration": 4.723175,
     "end_time": "2023-12-27T11:42:27.860169",
     "exception": false,
     "start_time": "2023-12-27T11:42:23.136994",
     "status": "completed"
    },
    "tags": []
   },
   "outputs": [
    {
     "name": "stdout",
     "output_type": "stream",
     "text": [
      "model_name Unet\n",
      "backbone se_resnext50_32x4d\n"
     ]
    }
   ],
   "source": [
    "model=build_model()\n",
    "model.load_state_dict(tc.load(CFG.model_path[0],\"cpu\"))\n",
    "model.eval()\n",
    "model=DataParallel(model)"
   ]
  },
  {
   "cell_type": "code",
   "execution_count": 6,
   "id": "c8d693d7",
   "metadata": {
    "execution": {
     "iopub.execute_input": "2023-12-27T11:42:27.874803Z",
     "iopub.status.busy": "2023-12-27T11:42:27.874508Z",
     "iopub.status.idle": "2023-12-27T11:42:27.892528Z",
     "shell.execute_reply": "2023-12-27T11:42:27.891697Z"
    },
    "papermill": {
     "duration": 0.027413,
     "end_time": "2023-12-27T11:42:27.894357",
     "exception": false,
     "start_time": "2023-12-27T11:42:27.866944",
     "status": "completed"
    },
    "tags": []
   },
   "outputs": [],
   "source": [
    "def get_output(debug=False):\n",
    "    outputs=[]\n",
    "    if debug:\n",
    "        paths=[\"/kaggle/input/blood-vessel-segmentation/train/kidney_1_dense\"]\n",
    "    else:\n",
    "        paths=[\"/kaggle/input/blood-vessel-segmentation/train/kidney_1_dense\"]\n",
    "        # paths=glob(\"/kaggle/input/blood-vessel-segmentation/test/*\")\n",
    "    outputs=[[],[]]\n",
    "    for path in paths:\n",
    "        x=load_data(path,\"/images/\")\n",
    "        labels=tc.zeros_like(x,dtype=tc.uint8)\n",
    "        mark=Pipeline_Dataset(x,path).get_marks()\n",
    "        for axis in [0,1,2]:\n",
    "            debug_count=0\n",
    "            if axis==0:\n",
    "                x_=x\n",
    "                labels_=labels\n",
    "            elif axis==1:\n",
    "                x_=x.permute(1,2,0)\n",
    "                labels_=labels.permute(1,2,0)\n",
    "            elif axis==2:\n",
    "                x_=x.permute(2,0,1)\n",
    "                labels_=labels.permute(2,0,1)\n",
    "            if x.shape[0]==3 and axis!=0:\n",
    "                break\n",
    "            dataset=Pipeline_Dataset(x_,path)\n",
    "            dataloader=DataLoader(dataset,batch_size=1,shuffle=False,num_workers=2)\n",
    "            shape=dataset.x.shape[-2:]\n",
    "            x1_list = np.arange(0, shape[0]+CFG.tile_size-CFG.tile_size+1, CFG.stride)\n",
    "            y1_list = np.arange(0, shape[1]+CFG.tile_size-CFG.tile_size+1, CFG.stride)\n",
    "            for img,index in tqdm(dataloader):\n",
    "                #img=(1,C,H,W)\n",
    "                img=img.to(\"cuda:0\")\n",
    "                img=add_edge(img[0],CFG.tile_size//2)[None]\n",
    "\n",
    "                mask_pred = tc.zeros_like(img[:,0],dtype=tc.float32,device=img.device)\n",
    "                mask_count = tc.zeros_like(img[:,0],dtype=tc.float32,device=img.device)\n",
    "\n",
    "                indexs=[]\n",
    "                chip=[]\n",
    "                for y1 in y1_list:\n",
    "                    for x1 in x1_list:\n",
    "                        x2 = x1 + CFG.tile_size\n",
    "                        y2 = y1 + CFG.tile_size\n",
    "                        indexs.append([x1+CFG.drop_egde_pixel,x2-CFG.drop_egde_pixel,\n",
    "                                       y1+CFG.drop_egde_pixel,y2-CFG.drop_egde_pixel])\n",
    "                        chip.append(img[...,x1:x2,y1:y2])\n",
    "\n",
    "                # print(\"chip shape:\", tc.cat(chip).shape)  # (n_chips, 5, 512, 512)\n",
    "\n",
    "                y_preds = model.forward(tc.cat(chip)).to(device=0)\n",
    "                # print(\"preds shape:\", y_preds.shape)  # (n_chips, 512, 512)\n",
    "\n",
    "                if CFG.drop_egde_pixel:\n",
    "                    y_preds=y_preds[...,CFG.drop_egde_pixel:-CFG.drop_egde_pixel,\n",
    "                                        CFG.drop_egde_pixel:-CFG.drop_egde_pixel]\n",
    "                    # print(\"preds shape after drop_edge_pixel:\", y_preds.shape)  # (n_chips, 448, 448)\n",
    "    \n",
    "                for i,(x1,x2,y1,y2) in enumerate(indexs):\n",
    "                    mask_pred[...,x1:x2, y1:y2] += y_preds[i]\n",
    "                    mask_count[...,x1:x2, y1:y2] += 1\n",
    "\n",
    "                mask_pred /= mask_count\n",
    "\n",
    "                # print(\"mask_pred shape:\", mask_pred.shape)  # (1, 1815, 1424)\n",
    "\n",
    "                #Rrecover\n",
    "                mask_pred=mask_pred[...,CFG.tile_size//2:-CFG.tile_size//2,CFG.tile_size//2:-CFG.tile_size//2]\n",
    "\n",
    "                # print(\"mask_pred shape:\", mask_pred.shape) # (1, 1303, 912)\n",
    "                \n",
    "                labels_[index]+=(mask_pred[0]*255/3).to(tc.uint8).cpu()\n",
    "\n",
    "                if debug:\n",
    "                    debug_count+=1\n",
    "                    plt.subplot(121)\n",
    "                    plt.imshow(img[0,CFG.in_chans//2].cpu().detach().numpy())\n",
    "                    plt.subplot(122)\n",
    "                    plt.imshow(mask_pred[0].cpu().detach().numpy())\n",
    "                    plt.show()\n",
    "                    if debug_count>3:\n",
    "                        break\n",
    "        outputs[0].append(labels)\n",
    "        outputs[1].extend(mark)\n",
    "    return outputs"
   ]
  },
  {
   "cell_type": "code",
   "execution_count": 7,
   "id": "8a0563c0",
   "metadata": {
    "execution": {
     "iopub.execute_input": "2023-12-27T11:42:27.909791Z",
     "iopub.status.busy": "2023-12-27T11:42:27.909206Z",
     "iopub.status.idle": "2023-12-27T11:46:09.899364Z",
     "shell.execute_reply": "2023-12-27T11:46:09.898321Z"
    },
    "papermill": {
     "duration": 221.999821,
     "end_time": "2023-12-27T11:46:09.901727",
     "exception": false,
     "start_time": "2023-12-27T11:42:27.901906",
     "status": "completed"
    },
    "tags": []
   },
   "outputs": [
    {
     "name": "stderr",
     "output_type": "stream",
     "text": [
      "100%|██████████| 143/143 [00:07<00:00, 19.40it/s]\n",
      "  9%|▉         | 206/2279 [17:51<2:59:39,  5.20s/it]\n"
     ]
    },
    {
     "ename": "KeyboardInterrupt",
     "evalue": "",
     "output_type": "error",
     "traceback": [
      "\u001b[0;31m---------------------------------------------------------------------------\u001b[0m",
      "\u001b[0;31mKeyboardInterrupt\u001b[0m                         Traceback (most recent call last)",
      "\u001b[1;32m/kaggle/working/blood-vessel-segmentation/2-5d-cutting-model-baseline-inference.ipynb Cell 13\u001b[0m line \u001b[0;36m1\n\u001b[0;32m----> <a href='vscode-notebook-cell://d9a7-35-203-152-139.ngrok-free.app/kaggle/working/blood-vessel-segmentation/2-5d-cutting-model-baseline-inference.ipynb#X15sdnNjb2RlLXJlbW90ZQ%3D%3D?line=0'>1</a>\u001b[0m output,ids\u001b[39m=\u001b[39mget_output(debug\u001b[39m=\u001b[39;49m\u001b[39mFalse\u001b[39;49;00m)\n",
      "\u001b[1;32m/kaggle/working/blood-vessel-segmentation/2-5d-cutting-model-baseline-inference.ipynb Cell 13\u001b[0m line \u001b[0;36m7\n\u001b[1;32m     <a href='vscode-notebook-cell://d9a7-35-203-152-139.ngrok-free.app/kaggle/working/blood-vessel-segmentation/2-5d-cutting-model-baseline-inference.ipynb#X15sdnNjb2RlLXJlbW90ZQ%3D%3D?line=67'>68</a>\u001b[0m mask_pred\u001b[39m=\u001b[39mmask_pred[\u001b[39m.\u001b[39m\u001b[39m.\u001b[39m\u001b[39m.\u001b[39m,CFG\u001b[39m.\u001b[39mtile_size\u001b[39m/\u001b[39m\u001b[39m/\u001b[39m\u001b[39m2\u001b[39m:\u001b[39m-\u001b[39mCFG\u001b[39m.\u001b[39mtile_size\u001b[39m/\u001b[39m\u001b[39m/\u001b[39m\u001b[39m2\u001b[39m,CFG\u001b[39m.\u001b[39mtile_size\u001b[39m/\u001b[39m\u001b[39m/\u001b[39m\u001b[39m2\u001b[39m:\u001b[39m-\u001b[39mCFG\u001b[39m.\u001b[39mtile_size\u001b[39m/\u001b[39m\u001b[39m/\u001b[39m\u001b[39m2\u001b[39m]\n\u001b[1;32m     <a href='vscode-notebook-cell://d9a7-35-203-152-139.ngrok-free.app/kaggle/working/blood-vessel-segmentation/2-5d-cutting-model-baseline-inference.ipynb#X15sdnNjb2RlLXJlbW90ZQ%3D%3D?line=69'>70</a>\u001b[0m \u001b[39m# print(\"mask_pred shape:\", mask_pred.shape) # (1, 1303, 912)\u001b[39;00m\n\u001b[0;32m---> <a href='vscode-notebook-cell://d9a7-35-203-152-139.ngrok-free.app/kaggle/working/blood-vessel-segmentation/2-5d-cutting-model-baseline-inference.ipynb#X15sdnNjb2RlLXJlbW90ZQ%3D%3D?line=71'>72</a>\u001b[0m labels_[index]\u001b[39m+\u001b[39m\u001b[39m=\u001b[39m(mask_pred[\u001b[39m0\u001b[39;49m]\u001b[39m*\u001b[39;49m\u001b[39m255\u001b[39;49m\u001b[39m/\u001b[39;49m\u001b[39m3\u001b[39;49m)\u001b[39m.\u001b[39;49mto(tc\u001b[39m.\u001b[39;49muint8)\u001b[39m.\u001b[39;49mcpu()\n\u001b[1;32m     <a href='vscode-notebook-cell://d9a7-35-203-152-139.ngrok-free.app/kaggle/working/blood-vessel-segmentation/2-5d-cutting-model-baseline-inference.ipynb#X15sdnNjb2RlLXJlbW90ZQ%3D%3D?line=73'>74</a>\u001b[0m \u001b[39mif\u001b[39;00m debug:\n\u001b[1;32m     <a href='vscode-notebook-cell://d9a7-35-203-152-139.ngrok-free.app/kaggle/working/blood-vessel-segmentation/2-5d-cutting-model-baseline-inference.ipynb#X15sdnNjb2RlLXJlbW90ZQ%3D%3D?line=74'>75</a>\u001b[0m     debug_count\u001b[39m+\u001b[39m\u001b[39m=\u001b[39m\u001b[39m1\u001b[39m\n",
      "\u001b[0;31mKeyboardInterrupt\u001b[0m: "
     ]
    }
   ],
   "source": [
    "output,ids=get_output(debug=False)\n"
   ]
  },
  {
   "cell_type": "code",
   "execution_count": null,
   "id": "e59e4636",
   "metadata": {},
   "outputs": [],
   "source": [
    "\n",
    "\n",
    "####################################\n",
    "TH=[x.flatten().numpy() for x in output]\n",
    "TH=np.concatenate(TH)\n",
    "index = -int(len(TH) * CFG.th_percentile)\n",
    "TH:int = np.partition(TH, index)[index]\n",
    "print(TH)\n",
    "\n",
    "####################################\n",
    "submission_df=[]\n",
    "debug_count=0\n",
    "for index in range(len(ids)):\n",
    "    id=ids[index]\n",
    "    i=0\n",
    "    for x in output:\n",
    "        if index>=len(x):\n",
    "            index-=len(x)\n",
    "            i+=1\n",
    "        else:\n",
    "            break\n",
    "    mask_pred=(output[i][index]>TH).numpy()\n",
    "    ####################################\n",
    "    if not is_submit:\n",
    "        plt.subplot(121)\n",
    "        plt.imshow(mask_pred)\n",
    "        plt.show()\n",
    "        debug_count+=1\n",
    "        if debug_count>6:\n",
    "            break\n",
    "        \n",
    "    rle = rle_encode(mask_pred)\n",
    "    \n",
    "    submission_df.append(\n",
    "        pd.DataFrame(data={\n",
    "            'id'  : id,\n",
    "            'rle' : rle,\n",
    "        },index=[0])\n",
    "    )\n",
    "\n",
    "submission_df =pd.concat(submission_df)\n",
    "submission_df.to_csv('submission.csv', index=False)\n",
    "submission_df.head(6)"
   ]
  },
  {
   "cell_type": "code",
   "execution_count": null,
   "id": "438c52fa",
   "metadata": {
    "papermill": {
     "duration": 0.026302,
     "end_time": "2023-12-27T11:46:09.955406",
     "exception": false,
     "start_time": "2023-12-27T11:46:09.929104",
     "status": "completed"
    },
    "tags": []
   },
   "outputs": [],
   "source": []
  }
 ],
 "metadata": {
  "kaggle": {
   "accelerator": "nvidiaTeslaT4",
   "dataSources": [
    {
     "databundleVersionId": 6962461,
     "sourceId": 61446,
     "sourceType": "competition"
    },
    {
     "datasetId": 4087873,
     "sourceId": 7187369,
     "sourceType": "datasetVersion"
    },
    {
     "sourceId": 150248402,
     "sourceType": "kernelVersion"
    },
    {
     "sourceId": 156694315,
     "sourceType": "kernelVersion"
    }
   ],
   "dockerImageVersionId": 30588,
   "isGpuEnabled": true,
   "isInternetEnabled": false,
   "language": "python",
   "sourceType": "notebook"
  },
  "kernelspec": {
   "display_name": "Python 3",
   "language": "python",
   "name": "python3"
  },
  "language_info": {
   "codemirror_mode": {
    "name": "ipython",
    "version": 3
   },
   "file_extension": ".py",
   "mimetype": "text/x-python",
   "name": "python",
   "nbconvert_exporter": "python",
   "pygments_lexer": "ipython3",
   "version": "3.10.12"
  },
  "papermill": {
   "default_parameters": {},
   "duration": 258.65203,
   "end_time": "2023-12-27T11:46:12.637982",
   "environment_variables": {},
   "exception": null,
   "input_path": "__notebook__.ipynb",
   "output_path": "__notebook__.ipynb",
   "parameters": {},
   "start_time": "2023-12-27T11:41:53.985952",
   "version": "2.4.0"
  }
 },
 "nbformat": 4,
 "nbformat_minor": 5
}
