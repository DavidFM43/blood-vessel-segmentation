{
 "cells": [
  {
   "cell_type": "code",
   "execution_count": 1,
   "metadata": {},
   "outputs": [],
   "source": [
    "import torch\n",
    "from PIL import Image\n",
    "import os\n",
    "import torch.nn.functional as F\n",
    "import numpy as np"
   ]
  },
  {
   "cell_type": "code",
   "execution_count": 2,
   "metadata": {},
   "outputs": [],
   "source": [
    "device = \"cuda\" if torch.cuda.is_available() else \"cpu\"\n",
    "input_dir = \"/kaggle/input/blood-vessel-segmentation/\"\n",
    "train_dir = input_dir + \"train/\"\n",
    "imgs_dir = f\"{train_dir}kidney_1_dense/images/\"\n",
    "msks_dir = f\"{train_dir}kidney_1_dense/labels/\"\n",
    "slices_ids = sorted(os.listdir(imgs_dir))"
   ]
  },
  {
   "cell_type": "code",
   "execution_count": 3,
   "metadata": {},
   "outputs": [
    {
     "data": {
      "text/plain": [
       "tensor([[[ 0.,  1.,  2.,  3.,  4.,  5.,  6.,  7.,  8.,  9.],\n",
       "         [10., 11., 12., 13., 14., 15., 16., 17., 18., 19.],\n",
       "         [20., 21., 22., 23., 24., 25., 26., 27., 28., 29.],\n",
       "         [30., 31., 32., 33., 34., 35., 36., 37., 38., 39.],\n",
       "         [40., 41., 42., 43., 44., 45., 46., 47., 48., 49.],\n",
       "         [50., 51., 52., 53., 54., 55., 56., 57., 58., 59.],\n",
       "         [60., 61., 62., 63., 64., 65., 66., 67., 68., 69.],\n",
       "         [70., 71., 72., 73., 74., 75., 76., 77., 78., 79.],\n",
       "         [80., 81., 82., 83., 84., 85., 86., 87., 88., 89.],\n",
       "         [90., 91., 92., 93., 94., 95., 96., 97., 98., 99.]]])"
      ]
     },
     "execution_count": 3,
     "metadata": {},
     "output_type": "execute_result"
    }
   ],
   "source": [
    "size = 10\n",
    "img = torch.arange(size * size, dtype=torch.float32).view((1, size, size))\n",
    "img"
   ]
  },
  {
   "cell_type": "code",
   "execution_count": 4,
   "metadata": {},
   "outputs": [],
   "source": [
    "patch_size = 4\n",
    "overlap = 0"
   ]
  },
  {
   "cell_type": "code",
   "execution_count": 5,
   "metadata": {},
   "outputs": [
    {
     "data": {
      "text/plain": [
       "tensor([[[ 0.,  1.,  2.,  3.,  4.,  5.,  6.,  7.,  8.,  9.],\n",
       "         [10., 11., 12., 13., 14., 15., 16., 17., 18., 19.],\n",
       "         [20., 21., 22., 23., 24., 25., 26., 27., 28., 29.],\n",
       "         [30., 31., 32., 33., 34., 35., 36., 37., 38., 39.],\n",
       "         [40., 41., 42., 43., 44., 45., 46., 47., 48., 49.],\n",
       "         [50., 51., 52., 53., 54., 55., 56., 57., 58., 59.],\n",
       "         [60., 61., 62., 63., 64., 65., 66., 67., 68., 69.],\n",
       "         [70., 71., 72., 73., 74., 75., 76., 77., 78., 79.],\n",
       "         [80., 81., 82., 83., 84., 85., 86., 87., 88., 89.],\n",
       "         [90., 91., 92., 93., 94., 95., 96., 97., 98., 99.]]])"
      ]
     },
     "execution_count": 5,
     "metadata": {},
     "output_type": "execute_result"
    }
   ],
   "source": [
    "# img = F.pad(img, (0, size % patch_size,\n",
    "#             0, size % patch_size), mode=\"replicate\")\n",
    "img"
   ]
  },
  {
   "cell_type": "code",
   "execution_count": 6,
   "metadata": {},
   "outputs": [
    {
     "name": "stdout",
     "output_type": "stream",
     "text": [
      "torch.Size([16, 4])\n"
     ]
    }
   ],
   "source": [
    "unfold = torch.nn.Unfold(kernel_size=(patch_size, patch_size), stride=patch_size - overlap)\n",
    "fold = torch.nn.Fold(output_size=(size, size), kernel_size=(patch_size, patch_size), stride=patch_size - overlap)\n",
    "average_mask = 1 / fold(unfold(torch.ones(1, size, size)))\n",
    "patches = unfold(img).view(patch_size, patch_size, -1).permute(2, 0, 1)\n",
    "# do prediction\n",
    "patches = patches.permute(1, 2, 0).view(patch_size * patch_size, -1)\n",
    "print(patches.shape)"
   ]
  },
  {
   "cell_type": "code",
   "execution_count": 7,
   "metadata": {},
   "outputs": [
    {
     "data": {
      "text/plain": [
       "tensor([[[ 0.,  1.,  2.,  3.,  4.,  5.,  6.,  7., nan, nan],\n",
       "         [10., 11., 12., 13., 14., 15., 16., 17., nan, nan],\n",
       "         [20., 21., 22., 23., 24., 25., 26., 27., nan, nan],\n",
       "         [30., 31., 32., 33., 34., 35., 36., 37., nan, nan],\n",
       "         [40., 41., 42., 43., 44., 45., 46., 47., nan, nan],\n",
       "         [50., 51., 52., 53., 54., 55., 56., 57., nan, nan],\n",
       "         [60., 61., 62., 63., 64., 65., 66., 67., nan, nan],\n",
       "         [70., 71., 72., 73., 74., 75., 76., 77., nan, nan],\n",
       "         [nan, nan, nan, nan, nan, nan, nan, nan, nan, nan],\n",
       "         [nan, nan, nan, nan, nan, nan, nan, nan, nan, nan]]])"
      ]
     },
     "execution_count": 7,
     "metadata": {},
     "output_type": "execute_result"
    }
   ],
   "source": [
    "fold(patches) * average_mask"
   ]
  }
 ],
 "metadata": {
  "kernelspec": {
   "display_name": "base",
   "language": "python",
   "name": "python3"
  },
  "language_info": {
   "codemirror_mode": {
    "name": "ipython",
    "version": 3
   },
   "file_extension": ".py",
   "mimetype": "text/x-python",
   "name": "python",
   "nbconvert_exporter": "python",
   "pygments_lexer": "ipython3",
   "version": "3.10.12"
  }
 },
 "nbformat": 4,
 "nbformat_minor": 2
}
