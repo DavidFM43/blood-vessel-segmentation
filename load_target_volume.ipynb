{
 "cells": [
  {
   "cell_type": "code",
   "execution_count": 1,
   "metadata": {},
   "outputs": [],
   "source": [
    "import torch\n",
    "import os\n",
    "from PIL import Image\n",
    "import torchvision.transforms as T\n",
    "import pandas as pd\n",
    "from rle import rle_decode\n",
    "import numpy as np\n",
    "from surface_dice import compute_surface_dice_score\n",
    "\n",
    "\n",
    "train_dir = \"/kaggle/input/blood-vessel-segmentation/train/\"\n",
    "msks_dir = f\"{train_dir}kidney_1_dense/labels/\"\n",
    "imgs_dir = f\"{train_dir}kidney_1_dense/images/\"\n",
    "slices_ids = sorted(os.listdir(imgs_dir))\n",
    "device = \"cuda\" if torch.cuda.is_available() else \"cpu\""
   ]
  },
  {
   "cell_type": "code",
   "execution_count": 2,
   "metadata": {},
   "outputs": [
    {
     "name": "stdout",
     "output_type": "stream",
     "text": [
      "912 1303\n"
     ]
    }
   ],
   "source": [
    "w = Image.open(msks_dir + slices_ids[0]).width\n",
    "h = Image.open(msks_dir + slices_ids[0]).height\n",
    "print(w, h)"
   ]
  },
  {
   "cell_type": "code",
   "execution_count": 3,
   "metadata": {},
   "outputs": [],
   "source": [
    "class TestMetricDataset(torch.utils.data.Dataset):\n",
    "    def __init__(self, sub_df, msks_dir, slices_ids, transform=None, target_transform=None):\n",
    "        self.sub_df = sub_df\n",
    "        self.msks_dir = msks_dir\n",
    "        self.slices_ids = slices_ids\n",
    "        self.transform = transform\n",
    "        self.target_transform = target_transform\n",
    "        \n",
    "    def __len__(self):\n",
    "        return len(self.slices_ids)\n",
    "    \n",
    "    def __getitem__(self, idx):\n",
    "        slice_id = self.slices_ids[idx]\n",
    "\n",
    "        pred_rle = sub_df.iloc[idx][\"rle\"]\n",
    "        pred = rle_decode(pred_rle, (h, w))\n",
    "        pred = torch.from_numpy(pred)\n",
    "\n",
    "        target_path = self.msks_dir + slice_id \n",
    "        target = Image.open(target_path)\n",
    "\n",
    "        if self.target_transform is not None:\n",
    "            target = self.target_transform(target).squeeze()\n",
    "\n",
    "        return pred, target"
   ]
  },
  {
   "cell_type": "code",
   "execution_count": 4,
   "metadata": {},
   "outputs": [],
   "source": [
    "sub_df = pd.read_csv(\"ref_sub.csv\")\n",
    "\n",
    "target_transform = T.Compose([\n",
    "    T.PILToTensor(), \n",
    "])\n",
    "\n",
    "ds = TestMetricDataset(sub_df=sub_df, msks_dir=msks_dir, slices_ids=slices_ids, target_transform=target_transform)\n",
    "dl = torch.utils.data.DataLoader(ds, batch_size=5)"
   ]
  },
  {
   "cell_type": "code",
   "execution_count": 5,
   "metadata": {},
   "outputs": [
    {
     "name": "stderr",
     "output_type": "stream",
     "text": [
      "  2%|▏         | 10/456 [00:01<00:53,  8.35it/s]/usr/local/src/pytorch/aten/src/ATen/native/cuda/IndexKernel.cu:92: operator(): block: [903,0,0], thread: [41,0,0] Assertion `index >= -sizes[i] && index < sizes[i] && \"index out of bounds\"` failed.\n",
      "/usr/local/src/pytorch/aten/src/ATen/native/cuda/IndexKernel.cu:92: operator(): block: [903,0,0], thread: [42,0,0] Assertion `index >= -sizes[i] && index < sizes[i] && \"index out of bounds\"` failed.\n",
      "/usr/local/src/pytorch/aten/src/ATen/native/cuda/IndexKernel.cu:92: operator(): block: [906,0,0], thread: [75,0,0] Assertion `index >= -sizes[i] && index < sizes[i] && \"index out of bounds\"` failed.\n",
      "/usr/local/src/pytorch/aten/src/ATen/native/cuda/IndexKernel.cu:92: operator(): block: [906,0,0], thread: [76,0,0] Assertion `index >= -sizes[i] && index < sizes[i] && \"index out of bounds\"` failed.\n",
      "/usr/local/src/pytorch/aten/src/ATen/native/cuda/IndexKernel.cu:92: operator(): block: [904,0,0], thread: [58,0,0] Assertion `index >= -sizes[i] && index < sizes[i] && \"index out of bounds\"` failed.\n",
      "/usr/local/src/pytorch/aten/src/ATen/native/cuda/IndexKernel.cu:92: operator(): block: [904,0,0], thread: [59,0,0] Assertion `index >= -sizes[i] && index < sizes[i] && \"index out of bounds\"` failed.\n",
      "  2%|▏         | 10/456 [00:02<01:29,  4.97it/s]\n"
     ]
    },
    {
     "ename": "RuntimeError",
     "evalue": "CUDA error: device-side assert triggered\nCUDA kernel errors might be asynchronously reported at some other API call, so the stacktrace below might be incorrect.\nFor debugging consider passing CUDA_LAUNCH_BLOCKING=1.\nCompile with `TORCH_USE_CUDA_DSA` to enable device-side assertions.\n",
     "output_type": "error",
     "traceback": [
      "\u001b[0;31m---------------------------------------------------------------------------\u001b[0m",
      "\u001b[0;31mRuntimeError\u001b[0m                              Traceback (most recent call last)",
      "\u001b[1;32m/kaggle/working/blood-vessel-segmentation/load_target_volume.ipynb Cell 5\u001b[0m line \u001b[0;36m8\n\u001b[1;32m      <a href='vscode-notebook-cell://2b09-34-74-10-71.ngrok-free.app/kaggle/working/blood-vessel-segmentation/load_target_volume.ipynb#X14sdnNjb2RlLXJlbW90ZQ%3D%3D?line=4'>5</a>\u001b[0m pred, target \u001b[39m=\u001b[39m pred\u001b[39m.\u001b[39mto(device), target\u001b[39m.\u001b[39mto(device)\n\u001b[1;32m      <a href='vscode-notebook-cell://2b09-34-74-10-71.ngrok-free.app/kaggle/working/blood-vessel-segmentation/load_target_volume.ipynb#X14sdnNjb2RlLXJlbW90ZQ%3D%3D?line=5'>6</a>\u001b[0m \u001b[39m# print(pred.shape)\u001b[39;00m\n\u001b[1;32m      <a href='vscode-notebook-cell://2b09-34-74-10-71.ngrok-free.app/kaggle/working/blood-vessel-segmentation/load_target_volume.ipynb#X14sdnNjb2RlLXJlbW90ZQ%3D%3D?line=6'>7</a>\u001b[0m \u001b[39m# print(target.shape)\u001b[39;00m\n\u001b[0;32m----> <a href='vscode-notebook-cell://2b09-34-74-10-71.ngrok-free.app/kaggle/working/blood-vessel-segmentation/load_target_volume.ipynb#X14sdnNjb2RlLXJlbW90ZQ%3D%3D?line=7'>8</a>\u001b[0m bn, bd \u001b[39m=\u001b[39m compute_surface_dice_score(pred, target, device\u001b[39m=\u001b[39;49mdevice, return_num_denom\u001b[39m=\u001b[39;49m\u001b[39mTrue\u001b[39;49;00m)\n\u001b[1;32m      <a href='vscode-notebook-cell://2b09-34-74-10-71.ngrok-free.app/kaggle/working/blood-vessel-segmentation/load_target_volume.ipynb#X14sdnNjb2RlLXJlbW90ZQ%3D%3D?line=8'>9</a>\u001b[0m n \u001b[39m+\u001b[39m\u001b[39m=\u001b[39m bn\n\u001b[1;32m     <a href='vscode-notebook-cell://2b09-34-74-10-71.ngrok-free.app/kaggle/working/blood-vessel-segmentation/load_target_volume.ipynb#X14sdnNjb2RlLXJlbW90ZQ%3D%3D?line=9'>10</a>\u001b[0m d \u001b[39m+\u001b[39m\u001b[39m=\u001b[39m bd\n",
      "File \u001b[0;32m/kaggle/working/blood-vessel-segmentation/surface_dice.py:577\u001b[0m, in \u001b[0;36mcompute_surface_dice_score\u001b[0;34m(pred, target, device, return_num_denom)\u001b[0m\n\u001b[1;32m    574\u001b[0m idx \u001b[39m=\u001b[39m torch\u001b[39m.\u001b[39mlogical_and(area_pred \u001b[39m>\u001b[39m \u001b[39m0\u001b[39m, area_true \u001b[39m>\u001b[39m \u001b[39m0\u001b[39m)\n\u001b[1;32m    576\u001b[0m \u001b[39m# Surface dice numerator and denominator\u001b[39;00m\n\u001b[0;32m--> 577\u001b[0m num \u001b[39m+\u001b[39m\u001b[39m=\u001b[39m area_pred[idx]\u001b[39m.\u001b[39msum() \u001b[39m+\u001b[39m area_true[idx]\u001b[39m.\u001b[39msum()\n\u001b[1;32m    578\u001b[0m denom \u001b[39m+\u001b[39m\u001b[39m=\u001b[39m area_pred\u001b[39m.\u001b[39msum() \u001b[39m+\u001b[39m area_true\u001b[39m.\u001b[39msum()\n\u001b[1;32m    580\u001b[0m \u001b[39m# Next slice\u001b[39;00m\n",
      "\u001b[0;31mRuntimeError\u001b[0m: CUDA error: device-side assert triggered\nCUDA kernel errors might be asynchronously reported at some other API call, so the stacktrace below might be incorrect.\nFor debugging consider passing CUDA_LAUNCH_BLOCKING=1.\nCompile with `TORCH_USE_CUDA_DSA` to enable device-side assertions.\n"
     ]
    }
   ],
   "source": [
    "from tqdm import tqdm\n",
    "n, d = 0, 0\n",
    "\n",
    "for pred, target in tqdm(dl):\n",
    "    pred, target = pred.to(device), target.to(device)\n",
    "    # print(pred.shape)\n",
    "    # print(target.shape)\n",
    "    bn, bd = compute_surface_dice_score(pred, target, device=device, return_num_denom=True)\n",
    "    n += bn\n",
    "    d += bd\n",
    "\n",
    "dice = n / d.clamp(min=1e-8)\n",
    "dice = dice.item()\n",
    "dice"
   ]
  },
  {
   "cell_type": "code",
   "execution_count": null,
   "metadata": {},
   "outputs": [],
   "source": []
  }
 ],
 "metadata": {
  "kernelspec": {
   "display_name": "base",
   "language": "python",
   "name": "python3"
  },
  "language_info": {
   "codemirror_mode": {
    "name": "ipython",
    "version": 3
   },
   "file_extension": ".py",
   "mimetype": "text/x-python",
   "name": "python",
   "nbconvert_exporter": "python",
   "pygments_lexer": "ipython3",
   "version": "3.10.12"
  }
 },
 "nbformat": 4,
 "nbformat_minor": 2
}
