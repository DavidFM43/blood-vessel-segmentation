{
 "cells": [
  {
   "cell_type": "code",
   "execution_count": 3,
   "metadata": {},
   "outputs": [],
   "source": [
    "import torch\n",
    "import os\n",
    "from PIL import Image\n",
    "import torchvision.transforms as T\n",
    "import pandas as pd\n",
    "from rle import rle_decode\n",
    "import numpy as np\n",
    "from tqdm import tqdm\n",
    "\n",
    "torch_ver_major = int(torch.__version__.split('.')[0])\n",
    "dtype_index = torch.int32 if torch_ver_major >= 2 else torch.long\n",
    "\n",
    "train_dir = \"/kaggle/input/blood-vessel-segmentation/train/\"\n",
    "msks_dir = f\"{train_dir}kidney_1_dense/labels/\"\n",
    "imgs_dir = f\"{train_dir}kidney_1_dense/images/\"\n",
    "slices_ids = sorted(os.listdir(imgs_dir))\n",
    "device = \"cuda\" if torch.cuda.is_available() else \"cpu\""
   ]
  },
  {
   "cell_type": "code",
   "execution_count": 4,
   "metadata": {},
   "outputs": [
    {
     "name": "stdout",
     "output_type": "stream",
     "text": [
      "912 1303\n"
     ]
    }
   ],
   "source": [
    "w = Image.open(msks_dir + slices_ids[0]).width\n",
    "h = Image.open(msks_dir + slices_ids[0]).height\n",
    "print(w, h)"
   ]
  },
  {
   "cell_type": "code",
   "execution_count": 5,
   "metadata": {},
   "outputs": [],
   "source": [
    "class TestMetricDataset(torch.utils.data.Dataset):\n",
    "    def __init__(self, sub_df, msks_dir, slices_ids, transform=None, target_transform=None):\n",
    "        self.sub_df = sub_df\n",
    "        self.msks_dir = msks_dir\n",
    "        self.slices_ids = slices_ids\n",
    "        self.transform = transform\n",
    "        self.target_transform = target_transform\n",
    "        \n",
    "    def __len__(self):\n",
    "        return len(self.slices_ids)\n",
    "    \n",
    "    def __getitem__(self, idx):\n",
    "        slice_id = self.slices_ids[idx]\n",
    "\n",
    "        pred_rle = sub_df.iloc[idx][\"rle\"]\n",
    "        pred = rle_decode(pred_rle, (h, w))\n",
    "        pred = torch.from_numpy(pred)\n",
    "\n",
    "        target_path = self.msks_dir + slice_id \n",
    "        target = Image.open(target_path)\n",
    "\n",
    "        if self.target_transform is not None:\n",
    "            target = self.target_transform(target).squeeze()\n",
    "\n",
    "        return pred, target"
   ]
  },
  {
   "cell_type": "code",
   "execution_count": 6,
   "metadata": {},
   "outputs": [],
   "source": [
    "sub_df = pd.read_csv(\"ref_sub.csv\")\n",
    "bs = 5\n",
    "\n",
    "target_transform = T.Compose([\n",
    "    T.PILToTensor(), \n",
    "])\n",
    "\n",
    "ds = TestMetricDataset(sub_df=sub_df, msks_dir=msks_dir, slices_ids=slices_ids, target_transform=target_transform)\n",
    "dl = torch.utils.data.DataLoader(ds, batch_size=bs)"
   ]
  },
  {
   "cell_type": "code",
   "execution_count": 7,
   "metadata": {},
   "outputs": [
    {
     "name": "stdout",
     "output_type": "stream",
     "text": [
      "torch.Size([5, 1303, 912]) torch.Size([5, 1303, 912])\n"
     ]
    }
   ],
   "source": [
    "pred, target = next(iter(dl))\n",
    "print(pred.shape, target.shape)"
   ]
  },
  {
   "cell_type": "code",
   "execution_count": 8,
   "metadata": {},
   "outputs": [],
   "source": [
    "from surface_dice import SurfaceDiceMetric\n",
    "metric = SurfaceDiceMetric(10)"
   ]
  },
  {
   "cell_type": "code",
   "execution_count": 9,
   "metadata": {},
   "outputs": [
    {
     "name": "stdout",
     "output_type": "stream",
     "text": [
      "torch.Size([6, 1303, 912]) torch.Size([6, 1303, 912])\n"
     ]
    }
   ],
   "source": [
    "pred = torch.vstack([torch.zeros((1, h, w), dtype=torch.uint8), pred])\n",
    "target = torch.vstack([torch.zeros((1, h, w), dtype=torch.uint8), target])\n",
    "print(pred.shape, target.shape)"
   ]
  },
  {
   "cell_type": "code",
   "execution_count": 10,
   "metadata": {},
   "outputs": [
    {
     "name": "stdout",
     "output_type": "stream",
     "text": [
      "suraface_pred shape: torch.Size([3, 2, 1303, 912])\n",
      "cubes_float shape: torch.Size([8, 3571656])\n",
      "cubes_byte shape: torch.Size([3571656])\n"
     ]
    }
   ],
   "source": [
    "unfold = torch.nn.Unfold(kernel_size=(2, 2), padding=1)\n",
    "# compute the surface area for pred\n",
    "surface_pred = pred.to(torch.float16).view(3, 2, h, w)\n",
    "print(\"suraface_pred shape:\", surface_pred.shape)\n",
    "cubes_float = unfold(surface_pred).permute(1, 0, 2).reshape(8, -1)\n",
    "print(\"cubes_float shape:\", cubes_float.shape)\n",
    "cubes_byte = torch.zeros(cubes_float.size(1), dtype=dtype_index)\n",
    "print(\"cubes_byte shape:\", cubes_byte.shape)"
   ]
  },
  {
   "cell_type": "code",
   "execution_count": null,
   "metadata": {},
   "outputs": [],
   "source": [
    "# x = torch.arange(3*8*5).view(3, 8, 5)\n",
    "# print(x)\n",
    "# print(x.shape)\n",
    "# print(x.permute(1, 0, 2).reshape(8, -1))\n"
   ]
  },
  {
   "cell_type": "code",
   "execution_count": 11,
   "metadata": {},
   "outputs": [],
   "source": [
    "for k in range(8):\n",
    "    cubes_byte += cubes_float[k, :].to(dtype_index) << k"
   ]
  },
  {
   "cell_type": "code",
   "execution_count": 14,
   "metadata": {},
   "outputs": [],
   "source": [
    "cubes_area = metric.area[cubes_byte]\n",
    "cubes_area"
   ]
  }
 ],
 "metadata": {
  "kernelspec": {
   "display_name": "base",
   "language": "python",
   "name": "python3"
  },
  "language_info": {
   "codemirror_mode": {
    "name": "ipython",
    "version": 3
   },
   "file_extension": ".py",
   "mimetype": "text/x-python",
   "name": "python",
   "nbconvert_exporter": "python",
   "pygments_lexer": "ipython3",
   "version": "3.10.12"
  }
 },
 "nbformat": 4,
 "nbformat_minor": 2
}
