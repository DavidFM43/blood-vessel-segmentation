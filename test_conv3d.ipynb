{
 "cells": [
  {
   "cell_type": "code",
   "execution_count": 1,
   "metadata": {},
   "outputs": [],
   "source": [
    "import torch"
   ]
  },
  {
   "cell_type": "code",
   "execution_count": 2,
   "metadata": {},
   "outputs": [
    {
     "name": "stdout",
     "output_type": "stream",
     "text": [
      "tensor([[[[[ 0,  1,  2,  3,  4],\n",
      "           [ 5,  6,  7,  8,  9],\n",
      "           [10, 11, 12, 13, 14],\n",
      "           [15, 16, 17, 18, 19],\n",
      "           [20, 21, 22, 23, 24]],\n",
      "\n",
      "          [[25, 26, 27, 28, 29],\n",
      "           [30, 31, 32, 33, 34],\n",
      "           [35, 36, 37, 38, 39],\n",
      "           [40, 41, 42, 43, 44],\n",
      "           [45, 46, 47, 48, 49]]]]])\n"
     ]
    }
   ],
   "source": [
    "d, h, w = 2, 5, 5\n",
    "x = torch.arange(d*h*w).view(1, 1, d, h, w)\n",
    "print(x)\n"
   ]
  },
  {
   "cell_type": "code",
   "execution_count": 3,
   "metadata": {},
   "outputs": [
    {
     "data": {
      "text/plain": [
       "tensor([ 3200,  4936,  5140,  5344,  5548,  1872,  4680,  7190,  7445,  7700,\n",
       "         7955,  2680,  5530,  8465,  8720,  8975,  9230,  3105,  6380,  9740,\n",
       "         9995, 10250, 10505,  3530,  7230, 11015, 11270, 11525, 11780,  3955,\n",
       "         1480,  2254,  2305,  2356,  2407,   808])"
      ]
     },
     "execution_count": 3,
     "metadata": {},
     "output_type": "execute_result"
    }
   ],
   "source": [
    "weight = (2**torch.arange(8)).view(1, 1, 2, 2, 2).long()\n",
    "torch.nn.functional.conv3d(x, weight, padding=(0, 1, 1)).flatten()"
   ]
  },
  {
   "cell_type": "markdown",
   "metadata": {},
   "source": [
    "### Using Unfold"
   ]
  },
  {
   "cell_type": "code",
   "execution_count": 4,
   "metadata": {},
   "outputs": [
    {
     "data": {
      "text/plain": [
       "tensor([[[ 0,  1,  2,  3,  4],\n",
       "         [ 5,  6,  7,  8,  9],\n",
       "         [10, 11, 12, 13, 14],\n",
       "         [15, 16, 17, 18, 19],\n",
       "         [20, 21, 22, 23, 24]],\n",
       "\n",
       "        [[25, 26, 27, 28, 29],\n",
       "         [30, 31, 32, 33, 34],\n",
       "         [35, 36, 37, 38, 39],\n",
       "         [40, 41, 42, 43, 44],\n",
       "         [45, 46, 47, 48, 49]]])"
      ]
     },
     "execution_count": 4,
     "metadata": {},
     "output_type": "execute_result"
    }
   ],
   "source": [
    "torch_ver_major = int(torch.__version__.split('.')[0])\n",
    "dtype_index = torch.int32 if torch_ver_major >= 2 else torch.long\n",
    "\n",
    "unfold = torch.nn.Unfold(kernel_size=(2, 2), padding=1)\n",
    "x = torch.arange(d*h*w).view(d, h, w)\n",
    "x"
   ]
  },
  {
   "cell_type": "code",
   "execution_count": 5,
   "metadata": {},
   "outputs": [
    {
     "data": {
      "text/plain": [
       "tensor([ 3200,  4936,  5140,  5344,  5548,  1872,  4680,  7190,  7445,  7700,\n",
       "         7955,  2680,  5530,  8465,  8720,  8975,  9230,  3105,  6380,  9740,\n",
       "         9995, 10250, 10505,  3530,  7230, 11015, 11270, 11525, 11780,  3955,\n",
       "         1480,  2254,  2305,  2356,  2407,   808], dtype=torch.int32)"
      ]
     },
     "execution_count": 5,
     "metadata": {},
     "output_type": "execute_result"
    }
   ],
   "source": [
    "x = x.to(torch.float16).unsqueeze(0)\n",
    "cubes_float = unfold(x).squeeze(0)\n",
    "cubes_byte = torch.zeros(cubes_float.size(1), dtype=dtype_index)\n",
    "\n",
    "for k in range(8):\n",
    "    cubes_byte += cubes_float[k, :].to(dtype_index) << k\n",
    "\n",
    "cubes_byte"
   ]
  },
  {
   "cell_type": "markdown",
   "metadata": {},
   "source": [
    "### Surface dice using Conv3D"
   ]
  },
  {
   "cell_type": "code",
   "execution_count": null,
   "metadata": {},
   "outputs": [],
   "source": [
    "def compute_surface_area(self, surface):\n",
    "    d, h, w = surface.shape\n",
    "    weight = (2**torch.arange(8)).view(1, 1, 2, 2, 2).long()\n",
    "\n",
    "    surface = surface.view(1, 1, d, h, w)\n",
    "    cubes_byte = torch.nn.functional.conv3d(surface, weight, padding=(0, 1, 1)).flatten()\n",
    "\n",
    "    cubes_area = self.area[cubes_byte]\n",
    "\n",
    "    return cubes_area\n",
    "\n",
    "def process_batch(self, pred, target):\n",
    "    bs, h, w = pred.shape\n",
    "    pad_d = int(bs % 2 == 0) + 1\n",
    "    pad = torch.zeros((pad_d, h, w), dtype=torch.uint8, device=self.device)\n",
    "\n",
    "    if self.batch_idx == 0:\n",
    "        pred = torch.vstack([pad, pred])\n",
    "        target = torch.vstack([pad, target])\n",
    "    elif self.batch_idx == self.n_batches - 1:\n",
    "        pred = torch.vstack([pred, pad])\n",
    "        target = torch.vstack([target, pad])\n",
    "    else:\n",
    "        pred = torch.vstack([self.pred_pad, pred])\n",
    "        target = torch.vstack([self.target_pad, target])\n",
    "\n",
    "    \n",
    "    area_pred = self.compute_surface_area(pred)\n",
    "    area_true = self.compute_surface_area(target)\n",
    "\n",
    "    idx = torch.logical_and(area_pred > 0, area_true > 0)\n",
    "\n",
    "    self.numerator += area_pred[idx].sum() + area_true[idx].sum()\n",
    "    self.denominator += area_pred.sum() + area_true.sum()\n",
    "\n",
    "    self.batch_idx += 1\n",
    "    self.pred_pad = pred[-1:]\n",
    "    self.target_pad = target[-1:]"
   ]
  }
 ],
 "metadata": {
  "kernelspec": {
   "display_name": "base",
   "language": "python",
   "name": "python3"
  },
  "language_info": {
   "codemirror_mode": {
    "name": "ipython",
    "version": 3
   },
   "file_extension": ".py",
   "mimetype": "text/x-python",
   "name": "python",
   "nbconvert_exporter": "python",
   "pygments_lexer": "ipython3",
   "version": "3.10.12"
  }
 },
 "nbformat": 4,
 "nbformat_minor": 2
}
