{
 "cells": [
  {
   "cell_type": "code",
   "execution_count": 1,
   "metadata": {},
   "outputs": [],
   "source": [
    "import torch\n",
    "import os\n",
    "from PIL import Image\n",
    "import torchvision.transforms as T\n",
    "import pandas as pd\n",
    "from rle import rle_decode\n",
    "import numpy as np\n",
    "from tqdm import tqdm\n",
    "\n",
    "torch_ver_major = int(torch.__version__.split('.')[0])\n",
    "dtype_index = torch.int32 if torch_ver_major >= 2 else torch.long\n",
    "\n",
    "train_dir = \"/kaggle/input/blood-vessel-segmentation/train/\"\n",
    "msks_dir = f\"{train_dir}kidney_1_dense/labels/\"\n",
    "imgs_dir = f\"{train_dir}kidney_1_dense/images/\"\n",
    "slices_ids = sorted(os.listdir(imgs_dir))\n",
    "device = \"cuda\" if torch.cuda.is_available() else \"cpu\""
   ]
  },
  {
   "cell_type": "code",
   "execution_count": 2,
   "metadata": {},
   "outputs": [
    {
     "name": "stdout",
     "output_type": "stream",
     "text": [
      "Width: 912\n",
      "Height: 1303\n"
     ]
    }
   ],
   "source": [
    "w = Image.open(msks_dir + slices_ids[0]).width\n",
    "h = Image.open(msks_dir + slices_ids[0]).height\n",
    "print(\"Width:\", w)\n",
    "print(\"Height:\", h)"
   ]
  },
  {
   "cell_type": "code",
   "execution_count": 3,
   "metadata": {},
   "outputs": [],
   "source": [
    "class TestMetricDataset(torch.utils.data.Dataset):\n",
    "    def __init__(self, sub_df, msks_dir, slices_ids, transform=None, target_transform=None):\n",
    "        self.sub_df = sub_df\n",
    "        self.msks_dir = msks_dir\n",
    "        self.slices_ids = slices_ids\n",
    "        self.transform = transform\n",
    "        self.target_transform = target_transform\n",
    "        \n",
    "    def __len__(self):\n",
    "        return len(self.slices_ids)\n",
    "    \n",
    "    def __getitem__(self, idx):\n",
    "        slice_id = self.slices_ids[idx]\n",
    "\n",
    "        pred_rle = sub_df.iloc[idx][\"rle\"]\n",
    "        pred = rle_decode(pred_rle, (h, w))\n",
    "        pred = torch.from_numpy(pred)\n",
    "\n",
    "        target_path = self.msks_dir + slice_id \n",
    "        target = Image.open(target_path)\n",
    "\n",
    "        if self.target_transform is not None:\n",
    "            target = self.target_transform(target).type(torch.int8).squeeze()\n",
    "\n",
    "        return pred, target"
   ]
  },
  {
   "cell_type": "code",
   "execution_count": 4,
   "metadata": {},
   "outputs": [
    {
     "name": "stdout",
     "output_type": "stream",
     "text": [
      "ds len: 2279\n",
      "dl len: 2279\n"
     ]
    }
   ],
   "source": [
    "sub_df = pd.read_csv(\"ref_sub.csv\")\n",
    "\n",
    "target_transform = T.Compose([\n",
    "    T.ToTensor(), \n",
    "])\n",
    "\n",
    "ds = TestMetricDataset(sub_df=sub_df, msks_dir=msks_dir, slices_ids=slices_ids, target_transform=target_transform)\n",
    "dl = torch.utils.data.DataLoader(ds, batch_size=1, num_workers=os.cpu_count(), drop_last=False)\n",
    "n_batches = len(dl)\n",
    "print(\"ds len:\", len(ds))\n",
    "print(\"dl len:\", n_batches)\n"
   ]
  },
  {
   "cell_type": "code",
   "execution_count": 5,
   "metadata": {},
   "outputs": [
    {
     "name": "stderr",
     "output_type": "stream",
     "text": [
      "  4%|▎         | 83/2279 [00:05<02:38, 13.84it/s]"
     ]
    },
    {
     "name": "stderr",
     "output_type": "stream",
     "text": [
      "100%|██████████| 2279/2279 [02:33<00:00, 14.84it/s]\n"
     ]
    },
    {
     "data": {
      "text/plain": [
       "0.87990802526474"
      ]
     },
     "execution_count": 5,
     "metadata": {},
     "output_type": "execute_result"
    }
   ],
   "source": [
    "from surface_dice import SurfaceDiceMetric\n",
    "device = \"cpu\"\n",
    "metric = SurfaceDiceMetric(n_batches, device)\n",
    "for pred, target in tqdm(dl):\n",
    "    pred, target = pred.to(device), target.to(device)\n",
    "    metric.process_batch(pred, target)\n",
    "metric_value = metric.compute_metric()\n",
    "\n",
    "ref = 0.87990802526474 # bs 1 float\n",
    "# 0.8799072504043579 bs 15 float\n",
    "\n",
    "# 0.879906632689886 bs 1 double\n",
    "# 0.879907212341409 bs 15 double\n",
    "metric_value"
   ]
  },
  {
   "cell_type": "code",
   "execution_count": 6,
   "metadata": {},
   "outputs": [
    {
     "data": {
      "text/plain": [
       "0.0"
      ]
     },
     "execution_count": 6,
     "metadata": {},
     "output_type": "execute_result"
    }
   ],
   "source": [
    "abs(ref - metric_value)"
   ]
  }
 ],
 "metadata": {
  "kernelspec": {
   "display_name": "base",
   "language": "python",
   "name": "python3"
  },
  "language_info": {
   "codemirror_mode": {
    "name": "ipython",
    "version": 3
   },
   "file_extension": ".py",
   "mimetype": "text/x-python",
   "name": "python",
   "nbconvert_exporter": "python",
   "pygments_lexer": "ipython3",
   "version": "3.10.12"
  }
 },
 "nbformat": 4,
 "nbformat_minor": 2
}
