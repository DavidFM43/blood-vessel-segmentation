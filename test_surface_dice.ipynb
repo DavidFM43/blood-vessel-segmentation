{
 "cells": [
  {
   "cell_type": "code",
   "execution_count": 1,
   "metadata": {},
   "outputs": [],
   "source": [
    "import torch\n",
    "import os\n",
    "from PIL import Image\n",
    "import torchvision.transforms as T\n",
    "import pandas as pd\n",
    "from rle import rle_decode\n",
    "import numpy as np\n",
    "from tqdm import tqdm\n",
    "\n",
    "torch_ver_major = int(torch.__version__.split('.')[0])\n",
    "dtype_index = torch.int32 if torch_ver_major >= 2 else torch.long\n",
    "\n",
    "train_dir = \"/kaggle/input/blood-vessel-segmentation/train/\"\n",
    "msks_dir = f\"{train_dir}kidney_1_dense/labels/\"\n",
    "imgs_dir = f\"{train_dir}kidney_1_dense/images/\"\n",
    "slices_ids = sorted(os.listdir(imgs_dir))\n",
    "device = \"cuda\" if torch.cuda.is_available() else \"cpu\""
   ]
  },
  {
   "cell_type": "code",
   "execution_count": 2,
   "metadata": {},
   "outputs": [
    {
     "name": "stdout",
     "output_type": "stream",
     "text": [
      "Width: 912\n",
      "Height: 1303\n"
     ]
    }
   ],
   "source": [
    "w = Image.open(msks_dir + slices_ids[0]).width\n",
    "h = Image.open(msks_dir + slices_ids[0]).height\n",
    "print(\"Width:\", w)\n",
    "print(\"Height:\", h)"
   ]
  },
  {
   "cell_type": "code",
   "execution_count": 3,
   "metadata": {},
   "outputs": [],
   "source": [
    "class TestMetricDataset(torch.utils.data.Dataset):\n",
    "    def __init__(self, sub_df, msks_dir, slices_ids, transform=None, target_transform=None):\n",
    "        self.sub_df = sub_df\n",
    "        self.msks_dir = msks_dir\n",
    "        self.slices_ids = slices_ids\n",
    "        self.transform = transform\n",
    "        self.target_transform = target_transform\n",
    "        \n",
    "    def __len__(self):\n",
    "        return len(self.slices_ids)\n",
    "    \n",
    "    def __getitem__(self, idx):\n",
    "        slice_id = self.slices_ids[idx]\n",
    "\n",
    "        pred_rle = sub_df.iloc[idx][\"rle\"]\n",
    "        pred = rle_decode(pred_rle, (h, w))\n",
    "        pred = torch.from_numpy(pred)\n",
    "\n",
    "        target_path = self.msks_dir + slice_id \n",
    "        target = Image.open(target_path)\n",
    "\n",
    "        if self.target_transform is not None:\n",
    "            target = self.target_transform(target).type(torch.int8).squeeze()\n",
    "\n",
    "        return pred, target"
   ]
  },
  {
   "cell_type": "code",
   "execution_count": 4,
   "metadata": {},
   "outputs": [
    {
     "name": "stdout",
     "output_type": "stream",
     "text": [
      "ds len: 2279\n",
      "dl len: 152\n"
     ]
    }
   ],
   "source": [
    "sub_df = pd.read_csv(\"ref_sub.csv\")\n",
    "\n",
    "target_transform = T.Compose([\n",
    "    T.ToTensor(), \n",
    "])\n",
    "\n",
    "ds = TestMetricDataset(sub_df=sub_df, msks_dir=msks_dir, slices_ids=slices_ids, target_transform=target_transform)\n",
    "# batch_size needs to be an odd number\n",
    "dl = torch.utils.data.DataLoader(ds, batch_size=15, num_workers=os.cpu_count(), drop_last=False)\n",
    "n_batches = len(dl)\n",
    "print(\"ds len:\", len(ds))\n",
    "print(\"dl len:\", n_batches)\n"
   ]
  },
  {
   "cell_type": "code",
   "execution_count": 5,
   "metadata": {},
   "outputs": [
    {
     "name": "stderr",
     "output_type": "stream",
     "text": [
      "  0%|          | 0/152 [00:00<?, ?it/s]"
     ]
    },
    {
     "name": "stderr",
     "output_type": "stream",
     "text": [
      "  6%|▌         | 9/152 [00:17<04:39,  1.96s/it]\n"
     ]
    },
    {
     "ename": "KeyboardInterrupt",
     "evalue": "",
     "output_type": "error",
     "traceback": [
      "\u001b[0;31m---------------------------------------------------------------------------\u001b[0m",
      "\u001b[0;31mKeyboardInterrupt\u001b[0m                         Traceback (most recent call last)",
      "\u001b[1;32m/kaggle/working/blood-vessel-segmentation/test_surface_dice.ipynb Cell 5\u001b[0m line \u001b[0;36m6\n\u001b[1;32m      <a href='vscode-notebook-cell://d27b-35-194-224-176.ngrok-free.app/kaggle/working/blood-vessel-segmentation/test_surface_dice.ipynb#W4sdnNjb2RlLXJlbW90ZQ%3D%3D?line=3'>4</a>\u001b[0m \u001b[39mfor\u001b[39;00m pred, target \u001b[39min\u001b[39;00m tqdm(dl):\n\u001b[1;32m      <a href='vscode-notebook-cell://d27b-35-194-224-176.ngrok-free.app/kaggle/working/blood-vessel-segmentation/test_surface_dice.ipynb#W4sdnNjb2RlLXJlbW90ZQ%3D%3D?line=4'>5</a>\u001b[0m     pred, target \u001b[39m=\u001b[39m pred\u001b[39m.\u001b[39mto(device), target\u001b[39m.\u001b[39mto(device)\n\u001b[0;32m----> <a href='vscode-notebook-cell://d27b-35-194-224-176.ngrok-free.app/kaggle/working/blood-vessel-segmentation/test_surface_dice.ipynb#W4sdnNjb2RlLXJlbW90ZQ%3D%3D?line=5'>6</a>\u001b[0m     metric\u001b[39m.\u001b[39;49mprocess_batch(pred, target)\n\u001b[1;32m      <a href='vscode-notebook-cell://d27b-35-194-224-176.ngrok-free.app/kaggle/working/blood-vessel-segmentation/test_surface_dice.ipynb#W4sdnNjb2RlLXJlbW90ZQ%3D%3D?line=6'>7</a>\u001b[0m metric\u001b[39m.\u001b[39mcompute_metric()\n\u001b[1;32m      <a href='vscode-notebook-cell://d27b-35-194-224-176.ngrok-free.app/kaggle/working/blood-vessel-segmentation/test_surface_dice.ipynb#W4sdnNjb2RlLXJlbW90ZQ%3D%3D?line=8'>9</a>\u001b[0m \u001b[39m# 0.87990802526474\u001b[39;00m\n\u001b[1;32m     <a href='vscode-notebook-cell://d27b-35-194-224-176.ngrok-free.app/kaggle/working/blood-vessel-segmentation/test_surface_dice.ipynb#W4sdnNjb2RlLXJlbW90ZQ%3D%3D?line=9'>10</a>\u001b[0m \u001b[39m# 0.8799066326898859\u001b[39;00m\n\u001b[1;32m     <a href='vscode-notebook-cell://d27b-35-194-224-176.ngrok-free.app/kaggle/working/blood-vessel-segmentation/test_surface_dice.ipynb#W4sdnNjb2RlLXJlbW90ZQ%3D%3D?line=10'>11</a>\u001b[0m \u001b[39m# 0.8799066326898859\u001b[39;00m\n",
      "File \u001b[0;32m/kaggle/working/blood-vessel-segmentation/surface_dice.py:535\u001b[0m, in \u001b[0;36mSurfaceDiceMetric.process_batch\u001b[0;34m(self, pred, target)\u001b[0m\n\u001b[1;32m    532\u001b[0m     pred \u001b[39m=\u001b[39m torch\u001b[39m.\u001b[39mvstack([\u001b[39mself\u001b[39m\u001b[39m.\u001b[39mpred_pad, pred])\n\u001b[1;32m    533\u001b[0m     target \u001b[39m=\u001b[39m torch\u001b[39m.\u001b[39mvstack([\u001b[39mself\u001b[39m\u001b[39m.\u001b[39mtarget_pad, target])\n\u001b[0;32m--> 535\u001b[0m area_pred \u001b[39m=\u001b[39m \u001b[39mself\u001b[39;49m\u001b[39m.\u001b[39;49mcompute_surface_area(pred)\n\u001b[1;32m    536\u001b[0m area_true \u001b[39m=\u001b[39m \u001b[39mself\u001b[39m\u001b[39m.\u001b[39mcompute_surface_area(target)\n\u001b[1;32m    537\u001b[0m idx \u001b[39m=\u001b[39m torch\u001b[39m.\u001b[39mlogical_and(area_pred \u001b[39m>\u001b[39m \u001b[39m0\u001b[39m, area_true \u001b[39m>\u001b[39m \u001b[39m0\u001b[39m)\n",
      "File \u001b[0;32m/kaggle/working/blood-vessel-segmentation/surface_dice.py:515\u001b[0m, in \u001b[0;36mSurfaceDiceMetric.compute_surface_area\u001b[0;34m(self, surface)\u001b[0m\n\u001b[1;32m    513\u001b[0m surface \u001b[39m=\u001b[39m surface\u001b[39m.\u001b[39mview(\u001b[39m1\u001b[39m, \u001b[39m1\u001b[39m, d, h, w)\u001b[39m.\u001b[39mfloat()\n\u001b[1;32m    514\u001b[0m weight \u001b[39m=\u001b[39m (\u001b[39m2\u001b[39m\u001b[39m*\u001b[39m\u001b[39m*\u001b[39mtorch\u001b[39m.\u001b[39marange(\u001b[39m8\u001b[39m, device\u001b[39m=\u001b[39m\u001b[39mself\u001b[39m\u001b[39m.\u001b[39mdevice))\u001b[39m.\u001b[39mview(\u001b[39m1\u001b[39m, \u001b[39m1\u001b[39m, \u001b[39m2\u001b[39m, \u001b[39m2\u001b[39m, \u001b[39m2\u001b[39m)\u001b[39m.\u001b[39mfloat()\n\u001b[0;32m--> 515\u001b[0m cubes_byte \u001b[39m=\u001b[39m torch\u001b[39m.\u001b[39;49mnn\u001b[39m.\u001b[39;49mfunctional\u001b[39m.\u001b[39;49mconv3d(surface, weight, padding\u001b[39m=\u001b[39;49m(\u001b[39m0\u001b[39;49m, \u001b[39m1\u001b[39;49m, \u001b[39m1\u001b[39;49m))\u001b[39m.\u001b[39mflatten()\n\u001b[1;32m    517\u001b[0m cubes_area \u001b[39m=\u001b[39m \u001b[39mself\u001b[39m\u001b[39m.\u001b[39marea[cubes_byte\u001b[39m.\u001b[39mint()]\n\u001b[1;32m    518\u001b[0m \u001b[39mreturn\u001b[39;00m cubes_area\n",
      "\u001b[0;31mKeyboardInterrupt\u001b[0m: "
     ]
    }
   ],
   "source": [
    "from surface_dice import SurfaceDiceMetric\n",
    "device = \"cpu\"\n",
    "metric = SurfaceDiceMetric(n_batches, device)\n",
    "for pred, target in tqdm(dl):\n",
    "    pred, target = pred.to(device), target.to(device)\n",
    "    metric.process_batch(pred, target)\n",
    "metric.compute_metric()\n",
    "\n",
    "# 0.87990802526474\n",
    "# 0.8799066326898859\n",
    "# 0.8799066326898859"
   ]
  }
 ],
 "metadata": {
  "kernelspec": {
   "display_name": "base",
   "language": "python",
   "name": "python3"
  },
  "language_info": {
   "codemirror_mode": {
    "name": "ipython",
    "version": 3
   },
   "file_extension": ".py",
   "mimetype": "text/x-python",
   "name": "python",
   "nbconvert_exporter": "python",
   "pygments_lexer": "ipython3",
   "version": "3.10.12"
  }
 },
 "nbformat": 4,
 "nbformat_minor": 2
}
