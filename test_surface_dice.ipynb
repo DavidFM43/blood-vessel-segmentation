{
 "cells": [
  {
   "cell_type": "code",
   "execution_count": null,
   "metadata": {},
   "outputs": [],
   "source": [
    "import torch\n",
    "import os\n",
    "from PIL import Image\n",
    "import torchvision.transforms as T\n",
    "import pandas as pd\n",
    "from rle import rle_decode\n",
    "import numpy as np\n",
    "from tqdm import tqdm\n",
    "\n",
    "torch_ver_major = int(torch.__version__.split('.')[0])\n",
    "dtype_index = torch.int32 if torch_ver_major >= 2 else torch.long\n",
    "\n",
    "train_dir = \"/kaggle/input/blood-vessel-segmentation/train/\"\n",
    "msks_dir = f\"{train_dir}kidney_1_dense/labels/\"\n",
    "imgs_dir = f\"{train_dir}kidney_1_dense/images/\"\n",
    "slices_ids = sorted(os.listdir(imgs_dir))\n",
    "device = \"cuda\" if torch.cuda.is_available() else \"cpu\""
   ]
  },
  {
   "cell_type": "code",
   "execution_count": null,
   "metadata": {},
   "outputs": [],
   "source": [
    "w = Image.open(msks_dir + slices_ids[0]).width\n",
    "h = Image.open(msks_dir + slices_ids[0]).height\n",
    "print(\"Width:\", w)\n",
    "print(\"Height:\", h)"
   ]
  },
  {
   "cell_type": "code",
   "execution_count": null,
   "metadata": {},
   "outputs": [],
   "source": [
    "class TestMetricDataset(torch.utils.data.Dataset):\n",
    "    def __init__(self, sub_df, msks_dir, slices_ids, transform=None, target_transform=None):\n",
    "        self.sub_df = sub_df\n",
    "        self.msks_dir = msks_dir\n",
    "        self.slices_ids = slices_ids\n",
    "        self.transform = transform\n",
    "        self.target_transform = target_transform\n",
    "        \n",
    "    def __len__(self):\n",
    "        return len(self.slices_ids)\n",
    "    \n",
    "    def __getitem__(self, idx):\n",
    "        slice_id = self.slices_ids[idx]\n",
    "\n",
    "        pred_rle = sub_df.iloc[idx][\"rle\"]\n",
    "        pred = rle_decode(pred_rle, (h, w))\n",
    "        pred = torch.from_numpy(pred)\n",
    "\n",
    "        target_path = self.msks_dir + slice_id \n",
    "        target = Image.open(target_path)\n",
    "\n",
    "        if self.target_transform is not None:\n",
    "            target = self.target_transform(target).type(torch.int8).squeeze()\n",
    "\n",
    "        return pred, target"
   ]
  },
  {
   "cell_type": "code",
   "execution_count": null,
   "metadata": {},
   "outputs": [],
   "source": [
    "sub_df = pd.read_csv(\"ref_sub.csv\")\n",
    "\n",
    "target_transform = T.Compose([\n",
    "    T.ToTensor(), \n",
    "])\n",
    "\n",
    "ds = TestMetricDataset(sub_df=sub_df, msks_dir=msks_dir, slices_ids=slices_ids, target_transform=target_transform)\n",
    "# batch_size needs to be an odd number\n",
    "dl = torch.utils.data.DataLoader(ds, batch_size=9, num_workers=os.cpu_count())\n",
    "n_batches = len(dl)\n",
    "print(\"ds len:\", len(ds))\n",
    "print(\"dl len:\", n_batches)\n"
   ]
  },
  {
   "cell_type": "code",
   "execution_count": null,
   "metadata": {},
   "outputs": [],
   "source": [
    "from surface_dice import SurfaceDiceMetric\n",
    "\n",
    "metric = SurfaceDiceMetric(n_batches, \"cpu\")\n",
    "for pred, target in tqdm(dl):\n",
    "    metric.process_batch(pred, target)\n",
    "metric.compute_metric()\n",
    "\n",
    "# 0.87990802526474"
   ]
  }
 ],
 "metadata": {
  "kernelspec": {
   "display_name": "base",
   "language": "python",
   "name": "python3"
  },
  "language_info": {
   "codemirror_mode": {
    "name": "ipython",
    "version": 3
   },
   "file_extension": ".py",
   "mimetype": "text/x-python",
   "name": "python",
   "nbconvert_exporter": "python",
   "pygments_lexer": "ipython3",
   "version": "3.10.12"
  }
 },
 "nbformat": 4,
 "nbformat_minor": 2
}
